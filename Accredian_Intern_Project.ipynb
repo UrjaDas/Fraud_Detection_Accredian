{
 "cells": [
  {
   "cell_type": "markdown",
   "id": "5f00cc0c",
   "metadata": {},
   "source": [
    "## Name- Urja Kumari\n"
   ]
  },
  {
   "cell_type": "markdown",
   "id": "8ab7760f",
   "metadata": {},
   "source": [
    "## Explanation:\n",
    "\n",
    "* Data Analysis and Data Visualization is done on the dataset.\n",
    "\n",
    "* Data Cleaning, i.e, missing values, transformation of the dataset, dealing with the issues of outliers and multicollinearity has been done. The cleaning process is described after each major step in the notebook.\n",
    "\n",
    "* Since there is a supervised machine Learning algorithm so I have implemented models like Logistic Regression, Decision Tree, Random Forest, KNN, and Support Vector Machine(Implementing SVM was taking way too long because of the dataset being very large even after transformation). Deep Learning Model Like Artificial Neural Networks has also been implemented by making using of tensorflow with functional keras API.\n",
    "\n",
    "* The dataset is highly imbalanced which made the task of prediction very difficult for linear model like Logistic Regression and hence Logistic Regression could not capture the patterns as well as compared to the other models. \n",
    "\n",
    " "
   ]
  },
  {
   "cell_type": "markdown",
   "id": "66c74e07",
   "metadata": {},
   "source": [
    "## Data PreProcessing:\n",
    "\n",
    "* This is a large dataset consisting of 63,62,620 entries and there are 10 independent features and one dependent feature namely 'isFraud.\n",
    "\n",
    "* There are no null values present along any of the features and hence does not need any preprocessing along that line.\n",
    "\n",
    "* The feature 'step' just contains maps a unit of time in real world and thus is not indicative of any pattern in the data.\n",
    "\n",
    "* Transform the Dataset: From the analysis we could observe that the dataset is highly imbalanced and hence needs to be preprocessed.\n",
    "\n",
    "* The entry corresponds to be of fraudalent type only when the type is either CASH_OUT or TRANSFER, hence we transform the dataset such that it contains only those entries which have either of the two types mentioned.\n",
    "\n",
    "* The new dataset consists of 27,70,409 entries and 9 independent features.\n",
    "\n",
    "* There is almost equal number of Fraudulant cases in both the types: TRANSFER and CASH_OUT. However the total number of non fraudalent cases is much more in the CASH_OUT type transaction in comparison to the TRANSFER type.\n",
    "\n",
    "* On exploring the feature 'nameOrig' which represents the name of the customer who started the transaction, it was realised that only in few cases the transaction was started by the same customer. Also I checked number of times the transaction was started more than once by the same customer in the case of fraudulant cases and realised that no two cases which were fraud were repeated by the same person. It therefore is not indicative of any pattern that could be helpful in prediction. The feature was therefore dropped.\n",
    "\n",
    "* The feature 'isFlaggedFraud' consists of only 16 entries corresponding to category 1 and rest all are 0. On further analysis it is seen that all these 16 entries also correspond to the category 1 in the 'isFraud' feature. Hence we can deduce that if there is a 1 in the isFlaggedFraud category then it guarentees the case of Fraud (completely correlated) and hence can be useful while making predictions. So this column is not dropped and left as it is.\n",
    "\n",
    "* On analysing the feature 'nameDest' which stores information regarding the customer who is the recipient of transaction, it was realised that there were around 5 lakhs unique recipient ids amongst a total of around 27.5 lakhs transactions. This implies that the recipient account is repeated in certain transactions. This can be important in deriving insights about the patterns since it is very likely for the scammers to repeat the process with different customers and hence the destination account could be same in many cases.\n",
    "\n",
    "* It would therefor not be wise to drop this column altogether like we did for the 'nameOrig' feature. Hence to capture the information, a new column called count_dest has been created which stores the number of times a particular destination account has been encountered during different transactions. After creating this column, the original column 'nameDest' has been dropped.\n",
    "\n",
    "* There are also cases where the destination account happens to be same in different transactions where some transactions have been classified into fraud and some into non-fraud. Hence 'count_dest' might not be the best to understandand and therefore it was dropped later.\n",
    "\n",
    "* After analysing the feature 'newbalanceOrig', we can see that in most of the fraudulant cases the new balance of the customer is 0 as is expected.\n",
    "\n",
    "* However there are instance where the amount left in the customer's account lies far away from 3 standard deviations (outliers), but since the dataset is highly imbalanced so dropping these outliers could significantly impact the model's prediction abilities and accuracy. Therefore it would be wise to not make changes or drop rows for now.\n",
    "\n",
    "* There are entries where the original balance is 0 but there is some amount transaction that is shown along the 'amount' column which does not seem right to me. So I have removed such rows from the dataset as it could create some discrepancy.\n",
    "\n",
    "* Since a lot of fraud category data points lies as outliers for the feature 'oldbalanceOrg' so it would be difficult to remove the outliers as it could impact the accuracy.\n",
    "\n",
    "* Another insight is that the transactions done through the 'TRANSFER' method are on accounts with high old balance amount while the CASH_OUT type transaction is done on accounts with lower original balance.\n",
    "\n",
    "* There are majorly two kinds of cases, one where the final balance in the destination account is 0 and one where it is not 0.\n",
    "\n",
    "* The case where the destination account has 0 amount are mostly where the transactions are done through the 'TRANSFER' method and the situation where is some amount in the destination account, the transactions have been done through the 'CASH_OUT' method.\n",
    "\n",
    "* Most of the outliers pertaining to the feature 'newbalanceDest' are associated to non fraudulant case which shows that in most of the fraudulant casesthe new balance of the destination account is kept low.\n",
    "\n",
    "* Through the correlation heatmap we could see that the two features, namely 'oldbalanceDest' and 'newbalanceDest' are highly correlated so it can be a good idea to drop one of the two features, since it can lead to the problem of multicollinearity and create biasness in prediction.\n",
    "\n",
    "* On analysing the feature 'amount' we understood that most of the outliers belonged to the non- fraudulant category .Further analysis showed that those outliers lies many standard deviations away . So I decided to remove the outlier which were further than the maximum amount value categorised as the fraudulant class (2443 rows) since it can still keep intact the information necessary for prediction."
   ]
  },
  {
   "cell_type": "markdown",
   "id": "1b0d94d6",
   "metadata": {},
   "source": [
    "### Metric For Evaluating the Performance:\n",
    "\n",
    "* Since its a classification problem so various metrics like accuracy score, recall score, precision score, f1 score, classification report, and confusion matrix was determined to evaluate the performance of different models. However this is a case where the dataset is highly imbalanced hence metrics like accuracy score and precision score could not give a good idea about how well the model is performing. Recall score gives a better idea regarding the model's performance. \n",
    "\n",
    "* All the models gave good accuracy and precision score but only decision tree could give a decent recall score (indicative that other models were not able to classify the fraudulant class properly)."
   ]
  },
  {
   "cell_type": "markdown",
   "id": "33cd5b72",
   "metadata": {},
   "source": [
    "## Best Performing Model:\n",
    "\n",
    "* Artificial Neural Network gave good result on both the training and test datasets. This might be because neural networks especially deep neural networks are highly capable of capturing complex patterns in the data since they can automatically learn hierarchal representation of features which can be important when dealing with non linear relationships in the data.\n",
    "\n",
    "* It gave a high recall score(0.997) along with the other metrics which shows that it could correctly identify most of the Fraud cases.\n",
    "\n",
    "* The model is implemented by making use of the tensorflow keras API.\n",
    "\n",
    "* There are three hidden layers that have been considered with 32, 64, and 128 neurons in the three subsequent layers."
   ]
  },
  {
   "cell_type": "markdown",
   "id": "4d8c0e9d",
   "metadata": {},
   "source": [
    "### Performance of Machine Learning Algorithms:\n",
    "\n",
    "* Decision Tree performed the best among other supervised machine learning algorithms in terms of getting a good 'recall_score'. When the dataset is highly imbalanced the decision tree might capture the minority class better leading to higher recall. Decision trees are also prone to overfitting so this is also one of the possibilities.\n",
    "\n",
    "* Other Supervised Machine learning algorithms like Random forest, KNN, and Support Vector Machine require careful hyperparameter tuning for them to deliver an optimal result. Hyperparameter tuning was attempted using 'GridSearchCV' method however the process was taking way too long on my system."
   ]
  },
  {
   "cell_type": "markdown",
   "id": "5746d28e",
   "metadata": {},
   "source": [
    "### Import Libraries"
   ]
  },
  {
   "cell_type": "code",
   "execution_count": 3,
   "id": "8eba1fac",
   "metadata": {},
   "outputs": [],
   "source": [
    "import numpy as np\n",
    "import pandas as pd\n",
    "import matplotlib.pyplot as plt\n",
    "import seaborn as sns\n",
    "%matplotlib inline"
   ]
  },
  {
   "cell_type": "code",
   "execution_count": 4,
   "id": "8ff5e965",
   "metadata": {},
   "outputs": [],
   "source": [
    "from sklearn.model_selection import train_test_split\n",
    "from sklearn.model_selection import cross_val_score, GridSearchCV\n",
    "from sklearn.metrics import accuracy_score, recall_score, precision_score, f1_score, confusion_matrix, classification_report\n",
    "\n",
    "from sklearn.linear_model import LogisticRegression\n",
    "from sklearn.tree import DecisionTreeClassifier\n",
    "from sklearn.ensemble import RandomForestClassifier\n",
    "from sklearn.neighbors import KNeighborsClassifier\n",
    "from sklearn.svm import SVC"
   ]
  },
  {
   "cell_type": "code",
   "execution_count": 5,
   "id": "5073abf7",
   "metadata": {},
   "outputs": [],
   "source": [
    "import tensorflow as tf\n",
    "from tensorflow.keras.layers import Input, Dense\n",
    "from tensorflow.keras.models import Model\n",
    "from tensorflow.keras.metrics import Accuracy"
   ]
  },
  {
   "cell_type": "markdown",
   "id": "ba852c75",
   "metadata": {},
   "source": [
    "### Load Dataset"
   ]
  },
  {
   "cell_type": "code",
   "execution_count": 6,
   "id": "25c25405",
   "metadata": {},
   "outputs": [],
   "source": [
    "df = pd.read_csv('fraud.csv')"
   ]
  },
  {
   "cell_type": "markdown",
   "id": "40c4b6f5",
   "metadata": {},
   "source": [
    "### Understand the Dataset"
   ]
  },
  {
   "cell_type": "code",
   "execution_count": 7,
   "id": "802fd7e0",
   "metadata": {},
   "outputs": [
    {
     "data": {
      "text/html": [
       "<div>\n",
       "<style scoped>\n",
       "    .dataframe tbody tr th:only-of-type {\n",
       "        vertical-align: middle;\n",
       "    }\n",
       "\n",
       "    .dataframe tbody tr th {\n",
       "        vertical-align: top;\n",
       "    }\n",
       "\n",
       "    .dataframe thead th {\n",
       "        text-align: right;\n",
       "    }\n",
       "</style>\n",
       "<table border=\"1\" class=\"dataframe\">\n",
       "  <thead>\n",
       "    <tr style=\"text-align: right;\">\n",
       "      <th></th>\n",
       "      <th>step</th>\n",
       "      <th>type</th>\n",
       "      <th>amount</th>\n",
       "      <th>nameOrig</th>\n",
       "      <th>oldbalanceOrg</th>\n",
       "      <th>newbalanceOrig</th>\n",
       "      <th>nameDest</th>\n",
       "      <th>oldbalanceDest</th>\n",
       "      <th>newbalanceDest</th>\n",
       "      <th>isFraud</th>\n",
       "      <th>isFlaggedFraud</th>\n",
       "    </tr>\n",
       "  </thead>\n",
       "  <tbody>\n",
       "    <tr>\n",
       "      <th>0</th>\n",
       "      <td>1</td>\n",
       "      <td>PAYMENT</td>\n",
       "      <td>9839.64</td>\n",
       "      <td>C1231006815</td>\n",
       "      <td>170136.0</td>\n",
       "      <td>160296.36</td>\n",
       "      <td>M1979787155</td>\n",
       "      <td>0.0</td>\n",
       "      <td>0.0</td>\n",
       "      <td>0</td>\n",
       "      <td>0</td>\n",
       "    </tr>\n",
       "    <tr>\n",
       "      <th>1</th>\n",
       "      <td>1</td>\n",
       "      <td>PAYMENT</td>\n",
       "      <td>1864.28</td>\n",
       "      <td>C1666544295</td>\n",
       "      <td>21249.0</td>\n",
       "      <td>19384.72</td>\n",
       "      <td>M2044282225</td>\n",
       "      <td>0.0</td>\n",
       "      <td>0.0</td>\n",
       "      <td>0</td>\n",
       "      <td>0</td>\n",
       "    </tr>\n",
       "    <tr>\n",
       "      <th>2</th>\n",
       "      <td>1</td>\n",
       "      <td>TRANSFER</td>\n",
       "      <td>181.00</td>\n",
       "      <td>C1305486145</td>\n",
       "      <td>181.0</td>\n",
       "      <td>0.00</td>\n",
       "      <td>C553264065</td>\n",
       "      <td>0.0</td>\n",
       "      <td>0.0</td>\n",
       "      <td>1</td>\n",
       "      <td>0</td>\n",
       "    </tr>\n",
       "    <tr>\n",
       "      <th>3</th>\n",
       "      <td>1</td>\n",
       "      <td>CASH_OUT</td>\n",
       "      <td>181.00</td>\n",
       "      <td>C840083671</td>\n",
       "      <td>181.0</td>\n",
       "      <td>0.00</td>\n",
       "      <td>C38997010</td>\n",
       "      <td>21182.0</td>\n",
       "      <td>0.0</td>\n",
       "      <td>1</td>\n",
       "      <td>0</td>\n",
       "    </tr>\n",
       "    <tr>\n",
       "      <th>4</th>\n",
       "      <td>1</td>\n",
       "      <td>PAYMENT</td>\n",
       "      <td>11668.14</td>\n",
       "      <td>C2048537720</td>\n",
       "      <td>41554.0</td>\n",
       "      <td>29885.86</td>\n",
       "      <td>M1230701703</td>\n",
       "      <td>0.0</td>\n",
       "      <td>0.0</td>\n",
       "      <td>0</td>\n",
       "      <td>0</td>\n",
       "    </tr>\n",
       "  </tbody>\n",
       "</table>\n",
       "</div>"
      ],
      "text/plain": [
       "   step      type    amount     nameOrig  oldbalanceOrg  newbalanceOrig  \\\n",
       "0     1   PAYMENT   9839.64  C1231006815       170136.0       160296.36   \n",
       "1     1   PAYMENT   1864.28  C1666544295        21249.0        19384.72   \n",
       "2     1  TRANSFER    181.00  C1305486145          181.0            0.00   \n",
       "3     1  CASH_OUT    181.00   C840083671          181.0            0.00   \n",
       "4     1   PAYMENT  11668.14  C2048537720        41554.0        29885.86   \n",
       "\n",
       "      nameDest  oldbalanceDest  newbalanceDest  isFraud  isFlaggedFraud  \n",
       "0  M1979787155             0.0             0.0        0               0  \n",
       "1  M2044282225             0.0             0.0        0               0  \n",
       "2   C553264065             0.0             0.0        1               0  \n",
       "3    C38997010         21182.0             0.0        1               0  \n",
       "4  M1230701703             0.0             0.0        0               0  "
      ]
     },
     "execution_count": 7,
     "metadata": {},
     "output_type": "execute_result"
    }
   ],
   "source": [
    "df.head()"
   ]
  },
  {
   "cell_type": "code",
   "execution_count": 8,
   "id": "6f41584a",
   "metadata": {},
   "outputs": [
    {
     "data": {
      "text/html": [
       "<div>\n",
       "<style scoped>\n",
       "    .dataframe tbody tr th:only-of-type {\n",
       "        vertical-align: middle;\n",
       "    }\n",
       "\n",
       "    .dataframe tbody tr th {\n",
       "        vertical-align: top;\n",
       "    }\n",
       "\n",
       "    .dataframe thead th {\n",
       "        text-align: right;\n",
       "    }\n",
       "</style>\n",
       "<table border=\"1\" class=\"dataframe\">\n",
       "  <thead>\n",
       "    <tr style=\"text-align: right;\">\n",
       "      <th></th>\n",
       "      <th>step</th>\n",
       "      <th>type</th>\n",
       "      <th>amount</th>\n",
       "      <th>nameOrig</th>\n",
       "      <th>oldbalanceOrg</th>\n",
       "      <th>newbalanceOrig</th>\n",
       "      <th>nameDest</th>\n",
       "      <th>oldbalanceDest</th>\n",
       "      <th>newbalanceDest</th>\n",
       "      <th>isFraud</th>\n",
       "      <th>isFlaggedFraud</th>\n",
       "    </tr>\n",
       "  </thead>\n",
       "  <tbody>\n",
       "    <tr>\n",
       "      <th>6362615</th>\n",
       "      <td>743</td>\n",
       "      <td>CASH_OUT</td>\n",
       "      <td>339682.13</td>\n",
       "      <td>C786484425</td>\n",
       "      <td>339682.13</td>\n",
       "      <td>0.0</td>\n",
       "      <td>C776919290</td>\n",
       "      <td>0.00</td>\n",
       "      <td>339682.13</td>\n",
       "      <td>1</td>\n",
       "      <td>0</td>\n",
       "    </tr>\n",
       "    <tr>\n",
       "      <th>6362616</th>\n",
       "      <td>743</td>\n",
       "      <td>TRANSFER</td>\n",
       "      <td>6311409.28</td>\n",
       "      <td>C1529008245</td>\n",
       "      <td>6311409.28</td>\n",
       "      <td>0.0</td>\n",
       "      <td>C1881841831</td>\n",
       "      <td>0.00</td>\n",
       "      <td>0.00</td>\n",
       "      <td>1</td>\n",
       "      <td>0</td>\n",
       "    </tr>\n",
       "    <tr>\n",
       "      <th>6362617</th>\n",
       "      <td>743</td>\n",
       "      <td>CASH_OUT</td>\n",
       "      <td>6311409.28</td>\n",
       "      <td>C1162922333</td>\n",
       "      <td>6311409.28</td>\n",
       "      <td>0.0</td>\n",
       "      <td>C1365125890</td>\n",
       "      <td>68488.84</td>\n",
       "      <td>6379898.11</td>\n",
       "      <td>1</td>\n",
       "      <td>0</td>\n",
       "    </tr>\n",
       "    <tr>\n",
       "      <th>6362618</th>\n",
       "      <td>743</td>\n",
       "      <td>TRANSFER</td>\n",
       "      <td>850002.52</td>\n",
       "      <td>C1685995037</td>\n",
       "      <td>850002.52</td>\n",
       "      <td>0.0</td>\n",
       "      <td>C2080388513</td>\n",
       "      <td>0.00</td>\n",
       "      <td>0.00</td>\n",
       "      <td>1</td>\n",
       "      <td>0</td>\n",
       "    </tr>\n",
       "    <tr>\n",
       "      <th>6362619</th>\n",
       "      <td>743</td>\n",
       "      <td>CASH_OUT</td>\n",
       "      <td>850002.52</td>\n",
       "      <td>C1280323807</td>\n",
       "      <td>850002.52</td>\n",
       "      <td>0.0</td>\n",
       "      <td>C873221189</td>\n",
       "      <td>6510099.11</td>\n",
       "      <td>7360101.63</td>\n",
       "      <td>1</td>\n",
       "      <td>0</td>\n",
       "    </tr>\n",
       "  </tbody>\n",
       "</table>\n",
       "</div>"
      ],
      "text/plain": [
       "         step      type      amount     nameOrig  oldbalanceOrg  \\\n",
       "6362615   743  CASH_OUT   339682.13   C786484425      339682.13   \n",
       "6362616   743  TRANSFER  6311409.28  C1529008245     6311409.28   \n",
       "6362617   743  CASH_OUT  6311409.28  C1162922333     6311409.28   \n",
       "6362618   743  TRANSFER   850002.52  C1685995037      850002.52   \n",
       "6362619   743  CASH_OUT   850002.52  C1280323807      850002.52   \n",
       "\n",
       "         newbalanceOrig     nameDest  oldbalanceDest  newbalanceDest  isFraud  \\\n",
       "6362615             0.0   C776919290            0.00       339682.13        1   \n",
       "6362616             0.0  C1881841831            0.00            0.00        1   \n",
       "6362617             0.0  C1365125890        68488.84      6379898.11        1   \n",
       "6362618             0.0  C2080388513            0.00            0.00        1   \n",
       "6362619             0.0   C873221189      6510099.11      7360101.63        1   \n",
       "\n",
       "         isFlaggedFraud  \n",
       "6362615               0  \n",
       "6362616               0  \n",
       "6362617               0  \n",
       "6362618               0  \n",
       "6362619               0  "
      ]
     },
     "execution_count": 8,
     "metadata": {},
     "output_type": "execute_result"
    }
   ],
   "source": [
    "df.tail()"
   ]
  },
  {
   "cell_type": "code",
   "execution_count": 9,
   "id": "48416fb9",
   "metadata": {},
   "outputs": [
    {
     "name": "stdout",
     "output_type": "stream",
     "text": [
      "<class 'pandas.core.frame.DataFrame'>\n",
      "RangeIndex: 6362620 entries, 0 to 6362619\n",
      "Data columns (total 11 columns):\n",
      " #   Column          Dtype  \n",
      "---  ------          -----  \n",
      " 0   step            int64  \n",
      " 1   type            object \n",
      " 2   amount          float64\n",
      " 3   nameOrig        object \n",
      " 4   oldbalanceOrg   float64\n",
      " 5   newbalanceOrig  float64\n",
      " 6   nameDest        object \n",
      " 7   oldbalanceDest  float64\n",
      " 8   newbalanceDest  float64\n",
      " 9   isFraud         int64  \n",
      " 10  isFlaggedFraud  int64  \n",
      "dtypes: float64(5), int64(3), object(3)\n",
      "memory usage: 534.0+ MB\n"
     ]
    }
   ],
   "source": [
    "df.info()"
   ]
  },
  {
   "cell_type": "code",
   "execution_count": 10,
   "id": "71abc792",
   "metadata": {},
   "outputs": [
    {
     "data": {
      "text/html": [
       "<div>\n",
       "<style scoped>\n",
       "    .dataframe tbody tr th:only-of-type {\n",
       "        vertical-align: middle;\n",
       "    }\n",
       "\n",
       "    .dataframe tbody tr th {\n",
       "        vertical-align: top;\n",
       "    }\n",
       "\n",
       "    .dataframe thead th {\n",
       "        text-align: right;\n",
       "    }\n",
       "</style>\n",
       "<table border=\"1\" class=\"dataframe\">\n",
       "  <thead>\n",
       "    <tr style=\"text-align: right;\">\n",
       "      <th></th>\n",
       "      <th>step</th>\n",
       "      <th>amount</th>\n",
       "      <th>oldbalanceOrg</th>\n",
       "      <th>newbalanceOrig</th>\n",
       "      <th>oldbalanceDest</th>\n",
       "      <th>newbalanceDest</th>\n",
       "      <th>isFraud</th>\n",
       "      <th>isFlaggedFraud</th>\n",
       "    </tr>\n",
       "  </thead>\n",
       "  <tbody>\n",
       "    <tr>\n",
       "      <th>count</th>\n",
       "      <td>6.362620e+06</td>\n",
       "      <td>6.362620e+06</td>\n",
       "      <td>6.362620e+06</td>\n",
       "      <td>6.362620e+06</td>\n",
       "      <td>6.362620e+06</td>\n",
       "      <td>6.362620e+06</td>\n",
       "      <td>6.362620e+06</td>\n",
       "      <td>6.362620e+06</td>\n",
       "    </tr>\n",
       "    <tr>\n",
       "      <th>mean</th>\n",
       "      <td>2.433972e+02</td>\n",
       "      <td>1.798619e+05</td>\n",
       "      <td>8.338831e+05</td>\n",
       "      <td>8.551137e+05</td>\n",
       "      <td>1.100702e+06</td>\n",
       "      <td>1.224996e+06</td>\n",
       "      <td>1.290820e-03</td>\n",
       "      <td>2.514687e-06</td>\n",
       "    </tr>\n",
       "    <tr>\n",
       "      <th>std</th>\n",
       "      <td>1.423320e+02</td>\n",
       "      <td>6.038582e+05</td>\n",
       "      <td>2.888243e+06</td>\n",
       "      <td>2.924049e+06</td>\n",
       "      <td>3.399180e+06</td>\n",
       "      <td>3.674129e+06</td>\n",
       "      <td>3.590480e-02</td>\n",
       "      <td>1.585775e-03</td>\n",
       "    </tr>\n",
       "    <tr>\n",
       "      <th>min</th>\n",
       "      <td>1.000000e+00</td>\n",
       "      <td>0.000000e+00</td>\n",
       "      <td>0.000000e+00</td>\n",
       "      <td>0.000000e+00</td>\n",
       "      <td>0.000000e+00</td>\n",
       "      <td>0.000000e+00</td>\n",
       "      <td>0.000000e+00</td>\n",
       "      <td>0.000000e+00</td>\n",
       "    </tr>\n",
       "    <tr>\n",
       "      <th>25%</th>\n",
       "      <td>1.560000e+02</td>\n",
       "      <td>1.338957e+04</td>\n",
       "      <td>0.000000e+00</td>\n",
       "      <td>0.000000e+00</td>\n",
       "      <td>0.000000e+00</td>\n",
       "      <td>0.000000e+00</td>\n",
       "      <td>0.000000e+00</td>\n",
       "      <td>0.000000e+00</td>\n",
       "    </tr>\n",
       "    <tr>\n",
       "      <th>50%</th>\n",
       "      <td>2.390000e+02</td>\n",
       "      <td>7.487194e+04</td>\n",
       "      <td>1.420800e+04</td>\n",
       "      <td>0.000000e+00</td>\n",
       "      <td>1.327057e+05</td>\n",
       "      <td>2.146614e+05</td>\n",
       "      <td>0.000000e+00</td>\n",
       "      <td>0.000000e+00</td>\n",
       "    </tr>\n",
       "    <tr>\n",
       "      <th>75%</th>\n",
       "      <td>3.350000e+02</td>\n",
       "      <td>2.087215e+05</td>\n",
       "      <td>1.073152e+05</td>\n",
       "      <td>1.442584e+05</td>\n",
       "      <td>9.430367e+05</td>\n",
       "      <td>1.111909e+06</td>\n",
       "      <td>0.000000e+00</td>\n",
       "      <td>0.000000e+00</td>\n",
       "    </tr>\n",
       "    <tr>\n",
       "      <th>max</th>\n",
       "      <td>7.430000e+02</td>\n",
       "      <td>9.244552e+07</td>\n",
       "      <td>5.958504e+07</td>\n",
       "      <td>4.958504e+07</td>\n",
       "      <td>3.560159e+08</td>\n",
       "      <td>3.561793e+08</td>\n",
       "      <td>1.000000e+00</td>\n",
       "      <td>1.000000e+00</td>\n",
       "    </tr>\n",
       "  </tbody>\n",
       "</table>\n",
       "</div>"
      ],
      "text/plain": [
       "               step        amount  oldbalanceOrg  newbalanceOrig  \\\n",
       "count  6.362620e+06  6.362620e+06   6.362620e+06    6.362620e+06   \n",
       "mean   2.433972e+02  1.798619e+05   8.338831e+05    8.551137e+05   \n",
       "std    1.423320e+02  6.038582e+05   2.888243e+06    2.924049e+06   \n",
       "min    1.000000e+00  0.000000e+00   0.000000e+00    0.000000e+00   \n",
       "25%    1.560000e+02  1.338957e+04   0.000000e+00    0.000000e+00   \n",
       "50%    2.390000e+02  7.487194e+04   1.420800e+04    0.000000e+00   \n",
       "75%    3.350000e+02  2.087215e+05   1.073152e+05    1.442584e+05   \n",
       "max    7.430000e+02  9.244552e+07   5.958504e+07    4.958504e+07   \n",
       "\n",
       "       oldbalanceDest  newbalanceDest       isFraud  isFlaggedFraud  \n",
       "count    6.362620e+06    6.362620e+06  6.362620e+06    6.362620e+06  \n",
       "mean     1.100702e+06    1.224996e+06  1.290820e-03    2.514687e-06  \n",
       "std      3.399180e+06    3.674129e+06  3.590480e-02    1.585775e-03  \n",
       "min      0.000000e+00    0.000000e+00  0.000000e+00    0.000000e+00  \n",
       "25%      0.000000e+00    0.000000e+00  0.000000e+00    0.000000e+00  \n",
       "50%      1.327057e+05    2.146614e+05  0.000000e+00    0.000000e+00  \n",
       "75%      9.430367e+05    1.111909e+06  0.000000e+00    0.000000e+00  \n",
       "max      3.560159e+08    3.561793e+08  1.000000e+00    1.000000e+00  "
      ]
     },
     "execution_count": 10,
     "metadata": {},
     "output_type": "execute_result"
    }
   ],
   "source": [
    "df.describe()"
   ]
  },
  {
   "cell_type": "code",
   "execution_count": 11,
   "id": "676f569c",
   "metadata": {},
   "outputs": [
    {
     "data": {
      "text/plain": [
       "step              0\n",
       "type              0\n",
       "amount            0\n",
       "nameOrig          0\n",
       "oldbalanceOrg     0\n",
       "newbalanceOrig    0\n",
       "nameDest          0\n",
       "oldbalanceDest    0\n",
       "newbalanceDest    0\n",
       "isFraud           0\n",
       "isFlaggedFraud    0\n",
       "dtype: int64"
      ]
     },
     "execution_count": 11,
     "metadata": {},
     "output_type": "execute_result"
    }
   ],
   "source": [
    "df.isnull().sum()"
   ]
  },
  {
   "cell_type": "markdown",
   "id": "6423c6e5",
   "metadata": {},
   "source": [
    "### Insights from the Dataset\n",
    "\n",
    "* This is a large dataset consisting of 63,62,620 entries and there are 10 independent features and one dependent feature namely 'isFraud.\n",
    "\n",
    "* There are no null values present along any of the features and hence does not need any preprocessing along that line. \n",
    "\n",
    "* The feature 'step' just contains maps a unit of time in real world and thus is not indicative of any pattern in the data."
   ]
  },
  {
   "cell_type": "markdown",
   "id": "c4f139e0",
   "metadata": {},
   "source": [
    "### Check if the Dataset is Balanced or not"
   ]
  },
  {
   "cell_type": "code",
   "execution_count": 12,
   "id": "af0030c7",
   "metadata": {},
   "outputs": [
    {
     "data": {
      "text/plain": [
       "<Axes: xlabel='isFraud', ylabel='count'>"
      ]
     },
     "execution_count": 12,
     "metadata": {},
     "output_type": "execute_result"
    },
    {
     "data": {
      "image/png": "[encoded data removed]",
      "text/plain": [
       "<Figure size 640x480 with 1 Axes>"
      ]
     },
     "metadata": {},
     "output_type": "display_data"
    }
   ],
   "source": [
    "sns.countplot(x='isFraud', data=df)"
   ]
  },
  {
   "cell_type": "code",
   "execution_count": 13,
   "id": "c5a16dd5",
   "metadata": {},
   "outputs": [
    {
     "data": {
      "text/plain": [
       "0    6354407\n",
       "1       8213\n",
       "Name: isFraud, dtype: int64"
      ]
     },
     "execution_count": 13,
     "metadata": {},
     "output_type": "execute_result"
    }
   ],
   "source": [
    "df['isFraud'].value_counts()"
   ]
  },
  {
   "cell_type": "code",
   "execution_count": 14,
   "id": "4b551a83",
   "metadata": {},
   "outputs": [
    {
     "data": {
      "text/plain": [
       "array(['PAYMENT', 'TRANSFER', 'CASH_OUT', 'DEBIT', 'CASH_IN'],\n",
       "      dtype=object)"
      ]
     },
     "execution_count": 14,
     "metadata": {},
     "output_type": "execute_result"
    }
   ],
   "source": [
    "df['type'].unique()"
   ]
  },
  {
   "cell_type": "code",
   "execution_count": 15,
   "id": "bb749c97",
   "metadata": {},
   "outputs": [
    {
     "data": {
      "text/plain": [
       "<Axes: xlabel='type', ylabel='count'>"
      ]
     },
     "execution_count": 15,
     "metadata": {},
     "output_type": "execute_result"
    },
    {
     "data": {
      "image/png": "[encoded data removed]",
      "text/plain": [
       "<Figure size 640x480 with 1 Axes>"
      ]
     },
     "metadata": {},
     "output_type": "display_data"
    }
   ],
   "source": [
    "sns.countplot(x='type',data=df,hue='isFraud')"
   ]
  },
  {
   "cell_type": "code",
   "execution_count": 16,
   "id": "4cc1755d",
   "metadata": {},
   "outputs": [
    {
     "data": {
      "text/plain": [
       "CASH_OUT    4116\n",
       "TRANSFER    4097\n",
       "Name: type, dtype: int64"
      ]
     },
     "execution_count": 16,
     "metadata": {},
     "output_type": "execute_result"
    }
   ],
   "source": [
    "df[df['isFraud']==1]['type'].value_counts()"
   ]
  },
  {
   "cell_type": "markdown",
   "id": "8ed2e46b",
   "metadata": {},
   "source": [
    "### Transform the Dataset:\n",
    "\n",
    "* From the above analysis we can observe that the dataset is highly imbalanced and hence needs to be preprocessed.\n",
    "\n",
    "* The entry corresponds to be of fraudalent type only when the type is either CASH_OUT or TRANSFER, hence we transform the dataset such that it contains only those entries which have either of the two types mentioned."
   ]
  },
  {
   "cell_type": "code",
   "execution_count": 17,
   "id": "bf7d5355",
   "metadata": {},
   "outputs": [],
   "source": [
    "df_new = df[(df['type']=='CASH_OUT') | (df['type']=='TRANSFER')]"
   ]
  },
  {
   "cell_type": "code",
   "execution_count": 18,
   "id": "4531c364",
   "metadata": {},
   "outputs": [
    {
     "data": {
      "text/html": [
       "<div>\n",
       "<style scoped>\n",
       "    .dataframe tbody tr th:only-of-type {\n",
       "        vertical-align: middle;\n",
       "    }\n",
       "\n",
       "    .dataframe tbody tr th {\n",
       "        vertical-align: top;\n",
       "    }\n",
       "\n",
       "    .dataframe thead th {\n",
       "        text-align: right;\n",
       "    }\n",
       "</style>\n",
       "<table border=\"1\" class=\"dataframe\">\n",
       "  <thead>\n",
       "    <tr style=\"text-align: right;\">\n",
       "      <th></th>\n",
       "      <th>step</th>\n",
       "      <th>type</th>\n",
       "      <th>amount</th>\n",
       "      <th>nameOrig</th>\n",
       "      <th>oldbalanceOrg</th>\n",
       "      <th>newbalanceOrig</th>\n",
       "      <th>nameDest</th>\n",
       "      <th>oldbalanceDest</th>\n",
       "      <th>newbalanceDest</th>\n",
       "      <th>isFraud</th>\n",
       "      <th>isFlaggedFraud</th>\n",
       "    </tr>\n",
       "  </thead>\n",
       "  <tbody>\n",
       "    <tr>\n",
       "      <th>2</th>\n",
       "      <td>1</td>\n",
       "      <td>TRANSFER</td>\n",
       "      <td>181.00</td>\n",
       "      <td>C1305486145</td>\n",
       "      <td>181.0</td>\n",
       "      <td>0.0</td>\n",
       "      <td>C553264065</td>\n",
       "      <td>0.0</td>\n",
       "      <td>0.00</td>\n",
       "      <td>1</td>\n",
       "      <td>0</td>\n",
       "    </tr>\n",
       "    <tr>\n",
       "      <th>3</th>\n",
       "      <td>1</td>\n",
       "      <td>CASH_OUT</td>\n",
       "      <td>181.00</td>\n",
       "      <td>C840083671</td>\n",
       "      <td>181.0</td>\n",
       "      <td>0.0</td>\n",
       "      <td>C38997010</td>\n",
       "      <td>21182.0</td>\n",
       "      <td>0.00</td>\n",
       "      <td>1</td>\n",
       "      <td>0</td>\n",
       "    </tr>\n",
       "    <tr>\n",
       "      <th>15</th>\n",
       "      <td>1</td>\n",
       "      <td>CASH_OUT</td>\n",
       "      <td>229133.94</td>\n",
       "      <td>C905080434</td>\n",
       "      <td>15325.0</td>\n",
       "      <td>0.0</td>\n",
       "      <td>C476402209</td>\n",
       "      <td>5083.0</td>\n",
       "      <td>51513.44</td>\n",
       "      <td>0</td>\n",
       "      <td>0</td>\n",
       "    </tr>\n",
       "    <tr>\n",
       "      <th>19</th>\n",
       "      <td>1</td>\n",
       "      <td>TRANSFER</td>\n",
       "      <td>215310.30</td>\n",
       "      <td>C1670993182</td>\n",
       "      <td>705.0</td>\n",
       "      <td>0.0</td>\n",
       "      <td>C1100439041</td>\n",
       "      <td>22425.0</td>\n",
       "      <td>0.00</td>\n",
       "      <td>0</td>\n",
       "      <td>0</td>\n",
       "    </tr>\n",
       "    <tr>\n",
       "      <th>24</th>\n",
       "      <td>1</td>\n",
       "      <td>TRANSFER</td>\n",
       "      <td>311685.89</td>\n",
       "      <td>C1984094095</td>\n",
       "      <td>10835.0</td>\n",
       "      <td>0.0</td>\n",
       "      <td>C932583850</td>\n",
       "      <td>6267.0</td>\n",
       "      <td>2719172.89</td>\n",
       "      <td>0</td>\n",
       "      <td>0</td>\n",
       "    </tr>\n",
       "  </tbody>\n",
       "</table>\n",
       "</div>"
      ],
      "text/plain": [
       "    step      type     amount     nameOrig  oldbalanceOrg  newbalanceOrig  \\\n",
       "2      1  TRANSFER     181.00  C1305486145          181.0             0.0   \n",
       "3      1  CASH_OUT     181.00   C840083671          181.0             0.0   \n",
       "15     1  CASH_OUT  229133.94   C905080434        15325.0             0.0   \n",
       "19     1  TRANSFER  215310.30  C1670993182          705.0             0.0   \n",
       "24     1  TRANSFER  311685.89  C1984094095        10835.0             0.0   \n",
       "\n",
       "       nameDest  oldbalanceDest  newbalanceDest  isFraud  isFlaggedFraud  \n",
       "2    C553264065             0.0            0.00        1               0  \n",
       "3     C38997010         21182.0            0.00        1               0  \n",
       "15   C476402209          5083.0        51513.44        0               0  \n",
       "19  C1100439041         22425.0            0.00        0               0  \n",
       "24   C932583850          6267.0      2719172.89        0               0  "
      ]
     },
     "execution_count": 18,
     "metadata": {},
     "output_type": "execute_result"
    }
   ],
   "source": [
    "df_new.head()"
   ]
  },
  {
   "cell_type": "code",
   "execution_count": 19,
   "id": "41068eeb",
   "metadata": {},
   "outputs": [
    {
     "name": "stdout",
     "output_type": "stream",
     "text": [
      "<class 'pandas.core.frame.DataFrame'>\n",
      "Int64Index: 2770409 entries, 2 to 6362619\n",
      "Data columns (total 11 columns):\n",
      " #   Column          Dtype  \n",
      "---  ------          -----  \n",
      " 0   step            int64  \n",
      " 1   type            object \n",
      " 2   amount          float64\n",
      " 3   nameOrig        object \n",
      " 4   oldbalanceOrg   float64\n",
      " 5   newbalanceOrig  float64\n",
      " 6   nameDest        object \n",
      " 7   oldbalanceDest  float64\n",
      " 8   newbalanceDest  float64\n",
      " 9   isFraud         int64  \n",
      " 10  isFlaggedFraud  int64  \n",
      "dtypes: float64(5), int64(3), object(3)\n",
      "memory usage: 253.6+ MB\n"
     ]
    }
   ],
   "source": [
    "df_new.info()"
   ]
  },
  {
   "cell_type": "code",
   "execution_count": 20,
   "id": "2c16af3f",
   "metadata": {},
   "outputs": [
    {
     "data": {
      "text/html": [
       "<div>\n",
       "<style scoped>\n",
       "    .dataframe tbody tr th:only-of-type {\n",
       "        vertical-align: middle;\n",
       "    }\n",
       "\n",
       "    .dataframe tbody tr th {\n",
       "        vertical-align: top;\n",
       "    }\n",
       "\n",
       "    .dataframe thead th {\n",
       "        text-align: right;\n",
       "    }\n",
       "</style>\n",
       "<table border=\"1\" class=\"dataframe\">\n",
       "  <thead>\n",
       "    <tr style=\"text-align: right;\">\n",
       "      <th></th>\n",
       "      <th>step</th>\n",
       "      <th>amount</th>\n",
       "      <th>oldbalanceOrg</th>\n",
       "      <th>newbalanceOrig</th>\n",
       "      <th>oldbalanceDest</th>\n",
       "      <th>newbalanceDest</th>\n",
       "      <th>isFraud</th>\n",
       "      <th>isFlaggedFraud</th>\n",
       "    </tr>\n",
       "  </thead>\n",
       "  <tbody>\n",
       "    <tr>\n",
       "      <th>count</th>\n",
       "      <td>2.770409e+06</td>\n",
       "      <td>2.770409e+06</td>\n",
       "      <td>2.770409e+06</td>\n",
       "      <td>2.770409e+06</td>\n",
       "      <td>2.770409e+06</td>\n",
       "      <td>2.770409e+06</td>\n",
       "      <td>2.770409e+06</td>\n",
       "      <td>2.770409e+06</td>\n",
       "    </tr>\n",
       "    <tr>\n",
       "      <th>mean</th>\n",
       "      <td>2.420081e+02</td>\n",
       "      <td>3.175361e+05</td>\n",
       "      <td>4.764308e+04</td>\n",
       "      <td>1.609190e+04</td>\n",
       "      <td>1.703551e+06</td>\n",
       "      <td>2.049734e+06</td>\n",
       "      <td>2.964544e-03</td>\n",
       "      <td>5.775321e-06</td>\n",
       "    </tr>\n",
       "    <tr>\n",
       "      <th>std</th>\n",
       "      <td>1.416191e+02</td>\n",
       "      <td>8.877897e+05</td>\n",
       "      <td>2.513251e+05</td>\n",
       "      <td>1.512558e+05</td>\n",
       "      <td>4.225550e+06</td>\n",
       "      <td>4.676990e+06</td>\n",
       "      <td>5.436687e-02</td>\n",
       "      <td>2.403183e-03</td>\n",
       "    </tr>\n",
       "    <tr>\n",
       "      <th>min</th>\n",
       "      <td>1.000000e+00</td>\n",
       "      <td>0.000000e+00</td>\n",
       "      <td>0.000000e+00</td>\n",
       "      <td>0.000000e+00</td>\n",
       "      <td>0.000000e+00</td>\n",
       "      <td>0.000000e+00</td>\n",
       "      <td>0.000000e+00</td>\n",
       "      <td>0.000000e+00</td>\n",
       "    </tr>\n",
       "    <tr>\n",
       "      <th>25%</th>\n",
       "      <td>1.550000e+02</td>\n",
       "      <td>8.297354e+04</td>\n",
       "      <td>0.000000e+00</td>\n",
       "      <td>0.000000e+00</td>\n",
       "      <td>1.280734e+05</td>\n",
       "      <td>3.272891e+05</td>\n",
       "      <td>0.000000e+00</td>\n",
       "      <td>0.000000e+00</td>\n",
       "    </tr>\n",
       "    <tr>\n",
       "      <th>50%</th>\n",
       "      <td>2.360000e+02</td>\n",
       "      <td>1.712609e+05</td>\n",
       "      <td>3.039600e+02</td>\n",
       "      <td>0.000000e+00</td>\n",
       "      <td>5.557100e+05</td>\n",
       "      <td>8.280539e+05</td>\n",
       "      <td>0.000000e+00</td>\n",
       "      <td>0.000000e+00</td>\n",
       "    </tr>\n",
       "    <tr>\n",
       "      <th>75%</th>\n",
       "      <td>3.320000e+02</td>\n",
       "      <td>3.067912e+05</td>\n",
       "      <td>3.099700e+04</td>\n",
       "      <td>0.000000e+00</td>\n",
       "      <td>1.735900e+06</td>\n",
       "      <td>2.122198e+06</td>\n",
       "      <td>0.000000e+00</td>\n",
       "      <td>0.000000e+00</td>\n",
       "    </tr>\n",
       "    <tr>\n",
       "      <th>max</th>\n",
       "      <td>7.430000e+02</td>\n",
       "      <td>9.244552e+07</td>\n",
       "      <td>5.958504e+07</td>\n",
       "      <td>4.958504e+07</td>\n",
       "      <td>3.560159e+08</td>\n",
       "      <td>3.561793e+08</td>\n",
       "      <td>1.000000e+00</td>\n",
       "      <td>1.000000e+00</td>\n",
       "    </tr>\n",
       "  </tbody>\n",
       "</table>\n",
       "</div>"
      ],
      "text/plain": [
       "               step        amount  oldbalanceOrg  newbalanceOrig  \\\n",
       "count  2.770409e+06  2.770409e+06   2.770409e+06    2.770409e+06   \n",
       "mean   2.420081e+02  3.175361e+05   4.764308e+04    1.609190e+04   \n",
       "std    1.416191e+02  8.877897e+05   2.513251e+05    1.512558e+05   \n",
       "min    1.000000e+00  0.000000e+00   0.000000e+00    0.000000e+00   \n",
       "25%    1.550000e+02  8.297354e+04   0.000000e+00    0.000000e+00   \n",
       "50%    2.360000e+02  1.712609e+05   3.039600e+02    0.000000e+00   \n",
       "75%    3.320000e+02  3.067912e+05   3.099700e+04    0.000000e+00   \n",
       "max    7.430000e+02  9.244552e+07   5.958504e+07    4.958504e+07   \n",
       "\n",
       "       oldbalanceDest  newbalanceDest       isFraud  isFlaggedFraud  \n",
       "count    2.770409e+06    2.770409e+06  2.770409e+06    2.770409e+06  \n",
       "mean     1.703551e+06    2.049734e+06  2.964544e-03    5.775321e-06  \n",
       "std      4.225550e+06    4.676990e+06  5.436687e-02    2.403183e-03  \n",
       "min      0.000000e+00    0.000000e+00  0.000000e+00    0.000000e+00  \n",
       "25%      1.280734e+05    3.272891e+05  0.000000e+00    0.000000e+00  \n",
       "50%      5.557100e+05    8.280539e+05  0.000000e+00    0.000000e+00  \n",
       "75%      1.735900e+06    2.122198e+06  0.000000e+00    0.000000e+00  \n",
       "max      3.560159e+08    3.561793e+08  1.000000e+00    1.000000e+00  "
      ]
     },
     "execution_count": 20,
     "metadata": {},
     "output_type": "execute_result"
    }
   ],
   "source": [
    "df_new.describe()"
   ]
  },
  {
   "cell_type": "code",
   "execution_count": 21,
   "id": "ffa30cc1",
   "metadata": {},
   "outputs": [],
   "source": [
    "df_new = df_new.drop(['step'], axis=1)"
   ]
  },
  {
   "cell_type": "code",
   "execution_count": 22,
   "id": "aba14a32",
   "metadata": {},
   "outputs": [
    {
     "data": {
      "text/plain": [
       "0    2762196\n",
       "1       8213\n",
       "Name: isFraud, dtype: int64"
      ]
     },
     "execution_count": 22,
     "metadata": {},
     "output_type": "execute_result"
    }
   ],
   "source": [
    "df_new['isFraud'].value_counts()"
   ]
  },
  {
   "cell_type": "code",
   "execution_count": 23,
   "id": "e75c8645",
   "metadata": {},
   "outputs": [
    {
     "data": {
      "text/plain": [
       "0    528812\n",
       "1      4097\n",
       "Name: isFraud, dtype: int64"
      ]
     },
     "execution_count": 23,
     "metadata": {},
     "output_type": "execute_result"
    }
   ],
   "source": [
    "df_new[df_new['type']=='TRANSFER']['isFraud'].value_counts()"
   ]
  },
  {
   "cell_type": "code",
   "execution_count": 24,
   "id": "7a960c5a",
   "metadata": {},
   "outputs": [
    {
     "data": {
      "text/plain": [
       "0    2233384\n",
       "1       4116\n",
       "Name: isFraud, dtype: int64"
      ]
     },
     "execution_count": 24,
     "metadata": {},
     "output_type": "execute_result"
    }
   ],
   "source": [
    "df_new[df_new['type']=='CASH_OUT']['isFraud'].value_counts()"
   ]
  },
  {
   "cell_type": "markdown",
   "id": "d812c620",
   "metadata": {},
   "source": [
    "### About the Newly Formed Dataset:\n",
    "\n",
    "* The new dataset consists of 27,70,409 entries and 9 independent features.\n",
    "\n",
    "* There is almost equal number of Fraudulant cases in both the types: TRANSFER and CASH_OUT. However the total number of non fraudalent cases is much more in the CASH_OUT type transaction in comparison to the TRANSFER type."
   ]
  },
  {
   "cell_type": "markdown",
   "id": "3ea2fa70",
   "metadata": {},
   "source": [
    "## Explore Different Features"
   ]
  },
  {
   "cell_type": "markdown",
   "id": "7233f00b",
   "metadata": {},
   "source": [
    "### nameOrig "
   ]
  },
  {
   "cell_type": "code",
   "execution_count": 25,
   "id": "552a564a",
   "metadata": {},
   "outputs": [
    {
     "data": {
      "text/plain": [
       "2768630"
      ]
     },
     "execution_count": 25,
     "metadata": {},
     "output_type": "execute_result"
    }
   ],
   "source": [
    "df_new['nameOrig'].nunique()   #seems to be not so repeating "
   ]
  },
  {
   "cell_type": "code",
   "execution_count": 26,
   "id": "4c3529d9",
   "metadata": {},
   "outputs": [
    {
     "data": {
      "text/plain": [
       "8213"
      ]
     },
     "execution_count": 26,
     "metadata": {},
     "output_type": "execute_result"
    }
   ],
   "source": [
    "df_new[df_new['isFraud']==1]['nameOrig'].nunique()  # the frauds have not done the transfer or cash out using the same name and \n",
    "                                          # hence 'nameOrig' does not seem to have any correlation with the 'Fraud' category. "
   ]
  },
  {
   "cell_type": "code",
   "execution_count": 27,
   "id": "6a932249",
   "metadata": {},
   "outputs": [],
   "source": [
    "df_new= df_new.drop(['nameOrig'], axis=1)"
   ]
  },
  {
   "cell_type": "code",
   "execution_count": 28,
   "id": "03c25753",
   "metadata": {},
   "outputs": [
    {
     "data": {
      "text/html": [
       "<div>\n",
       "<style scoped>\n",
       "    .dataframe tbody tr th:only-of-type {\n",
       "        vertical-align: middle;\n",
       "    }\n",
       "\n",
       "    .dataframe tbody tr th {\n",
       "        vertical-align: top;\n",
       "    }\n",
       "\n",
       "    .dataframe thead th {\n",
       "        text-align: right;\n",
       "    }\n",
       "</style>\n",
       "<table border=\"1\" class=\"dataframe\">\n",
       "  <thead>\n",
       "    <tr style=\"text-align: right;\">\n",
       "      <th></th>\n",
       "      <th>type</th>\n",
       "      <th>amount</th>\n",
       "      <th>oldbalanceOrg</th>\n",
       "      <th>newbalanceOrig</th>\n",
       "      <th>nameDest</th>\n",
       "      <th>oldbalanceDest</th>\n",
       "      <th>newbalanceDest</th>\n",
       "      <th>isFraud</th>\n",
       "      <th>isFlaggedFraud</th>\n",
       "    </tr>\n",
       "  </thead>\n",
       "  <tbody>\n",
       "    <tr>\n",
       "      <th>2</th>\n",
       "      <td>TRANSFER</td>\n",
       "      <td>181.00</td>\n",
       "      <td>181.0</td>\n",
       "      <td>0.0</td>\n",
       "      <td>C553264065</td>\n",
       "      <td>0.0</td>\n",
       "      <td>0.00</td>\n",
       "      <td>1</td>\n",
       "      <td>0</td>\n",
       "    </tr>\n",
       "    <tr>\n",
       "      <th>3</th>\n",
       "      <td>CASH_OUT</td>\n",
       "      <td>181.00</td>\n",
       "      <td>181.0</td>\n",
       "      <td>0.0</td>\n",
       "      <td>C38997010</td>\n",
       "      <td>21182.0</td>\n",
       "      <td>0.00</td>\n",
       "      <td>1</td>\n",
       "      <td>0</td>\n",
       "    </tr>\n",
       "    <tr>\n",
       "      <th>15</th>\n",
       "      <td>CASH_OUT</td>\n",
       "      <td>229133.94</td>\n",
       "      <td>15325.0</td>\n",
       "      <td>0.0</td>\n",
       "      <td>C476402209</td>\n",
       "      <td>5083.0</td>\n",
       "      <td>51513.44</td>\n",
       "      <td>0</td>\n",
       "      <td>0</td>\n",
       "    </tr>\n",
       "    <tr>\n",
       "      <th>19</th>\n",
       "      <td>TRANSFER</td>\n",
       "      <td>215310.30</td>\n",
       "      <td>705.0</td>\n",
       "      <td>0.0</td>\n",
       "      <td>C1100439041</td>\n",
       "      <td>22425.0</td>\n",
       "      <td>0.00</td>\n",
       "      <td>0</td>\n",
       "      <td>0</td>\n",
       "    </tr>\n",
       "    <tr>\n",
       "      <th>24</th>\n",
       "      <td>TRANSFER</td>\n",
       "      <td>311685.89</td>\n",
       "      <td>10835.0</td>\n",
       "      <td>0.0</td>\n",
       "      <td>C932583850</td>\n",
       "      <td>6267.0</td>\n",
       "      <td>2719172.89</td>\n",
       "      <td>0</td>\n",
       "      <td>0</td>\n",
       "    </tr>\n",
       "  </tbody>\n",
       "</table>\n",
       "</div>"
      ],
      "text/plain": [
       "        type     amount  oldbalanceOrg  newbalanceOrig     nameDest  \\\n",
       "2   TRANSFER     181.00          181.0             0.0   C553264065   \n",
       "3   CASH_OUT     181.00          181.0             0.0    C38997010   \n",
       "15  CASH_OUT  229133.94        15325.0             0.0   C476402209   \n",
       "19  TRANSFER  215310.30          705.0             0.0  C1100439041   \n",
       "24  TRANSFER  311685.89        10835.0             0.0   C932583850   \n",
       "\n",
       "    oldbalanceDest  newbalanceDest  isFraud  isFlaggedFraud  \n",
       "2              0.0            0.00        1               0  \n",
       "3          21182.0            0.00        1               0  \n",
       "15          5083.0        51513.44        0               0  \n",
       "19         22425.0            0.00        0               0  \n",
       "24          6267.0      2719172.89        0               0  "
      ]
     },
     "execution_count": 28,
     "metadata": {},
     "output_type": "execute_result"
    }
   ],
   "source": [
    "df_new.head()"
   ]
  },
  {
   "cell_type": "markdown",
   "id": "e3239328",
   "metadata": {},
   "source": [
    "On exploring the feature 'nameOrig' which represents the name of the customer who started the transaction, it was realised that only in few cases the transaction was started by the same customer. Also I checked number of times the transaction was started more than once by the same customer in the case of fraudulant cases and realised that no two cases which were fraud were repeated by the same person. It therefore is not indicative of any pattern that could be helpful in prediction. The feature was therefore dropped."
   ]
  },
  {
   "cell_type": "markdown",
   "id": "783ff019",
   "metadata": {},
   "source": [
    "### Feature 'isFlaggedFraud'"
   ]
  },
  {
   "cell_type": "code",
   "execution_count": 29,
   "id": "0c894dc5",
   "metadata": {},
   "outputs": [
    {
     "data": {
      "text/plain": [
       "0    2770393\n",
       "1         16\n",
       "Name: isFlaggedFraud, dtype: int64"
      ]
     },
     "execution_count": 29,
     "metadata": {},
     "output_type": "execute_result"
    }
   ],
   "source": [
    "df_new['isFlaggedFraud'].value_counts()"
   ]
  },
  {
   "cell_type": "code",
   "execution_count": 30,
   "id": "534bfae9",
   "metadata": {},
   "outputs": [
    {
     "data": {
      "text/plain": [
       "0    8197\n",
       "1      16\n",
       "Name: isFlaggedFraud, dtype: int64"
      ]
     },
     "execution_count": 30,
     "metadata": {},
     "output_type": "execute_result"
    }
   ],
   "source": [
    "df_new[df_new['isFraud']==1]['isFlaggedFraud'].value_counts()"
   ]
  },
  {
   "cell_type": "markdown",
   "id": "10f42f69",
   "metadata": {},
   "source": [
    "The feature 'isFlaggedFraud' consists of only 16 entries corresponding to category 1 and rest all are 0. On further analysis it is seen that all these 16 entries also correspond to the category 1 in the 'isFraud' feature. Hence we can deduce that if there is a 1 in the isFlaggedFraud category then it guarentees the case of Fraud (completely correlated) and hence can be useful while making predictions. So this column is not dropped and left as it is."
   ]
  },
  {
   "cell_type": "markdown",
   "id": "ecc80eeb",
   "metadata": {},
   "source": [
    "### Feature 'nameDest'"
   ]
  },
  {
   "cell_type": "code",
   "execution_count": 31,
   "id": "29f84989",
   "metadata": {},
   "outputs": [
    {
     "data": {
      "text/plain": [
       "509565"
      ]
     },
     "execution_count": 31,
     "metadata": {},
     "output_type": "execute_result"
    }
   ],
   "source": [
    "df_new['nameDest'].nunique()    "
   ]
  },
  {
   "cell_type": "code",
   "execution_count": 32,
   "id": "41d9a405",
   "metadata": {},
   "outputs": [
    {
     "data": {
      "text/plain": [
       "8169"
      ]
     },
     "execution_count": 32,
     "metadata": {},
     "output_type": "execute_result"
    }
   ],
   "source": [
    "df_new[df_new['isFraud']==1]['nameDest'].nunique()"
   ]
  },
  {
   "cell_type": "code",
   "execution_count": 33,
   "id": "0c3b2720",
   "metadata": {},
   "outputs": [],
   "source": [
    "#df_new['count'] = df_new['nameDest'].apply(lambda str: (df_new['nameDest']==str).sum()) \n",
    "\n",
    "df_new['count_dest'] = df_new.groupby('nameDest')['nameDest'].transform('count')"
   ]
  },
  {
   "cell_type": "code",
   "execution_count": 34,
   "id": "06f22a49",
   "metadata": {},
   "outputs": [
    {
     "data": {
      "text/html": [
       "<div>\n",
       "<style scoped>\n",
       "    .dataframe tbody tr th:only-of-type {\n",
       "        vertical-align: middle;\n",
       "    }\n",
       "\n",
       "    .dataframe tbody tr th {\n",
       "        vertical-align: top;\n",
       "    }\n",
       "\n",
       "    .dataframe thead th {\n",
       "        text-align: right;\n",
       "    }\n",
       "</style>\n",
       "<table border=\"1\" class=\"dataframe\">\n",
       "  <thead>\n",
       "    <tr style=\"text-align: right;\">\n",
       "      <th></th>\n",
       "      <th>type</th>\n",
       "      <th>amount</th>\n",
       "      <th>oldbalanceOrg</th>\n",
       "      <th>newbalanceOrig</th>\n",
       "      <th>nameDest</th>\n",
       "      <th>oldbalanceDest</th>\n",
       "      <th>newbalanceDest</th>\n",
       "      <th>isFraud</th>\n",
       "      <th>isFlaggedFraud</th>\n",
       "      <th>count_dest</th>\n",
       "    </tr>\n",
       "  </thead>\n",
       "  <tbody>\n",
       "    <tr>\n",
       "      <th>2</th>\n",
       "      <td>TRANSFER</td>\n",
       "      <td>181.00</td>\n",
       "      <td>181.00</td>\n",
       "      <td>0.0</td>\n",
       "      <td>C553264065</td>\n",
       "      <td>0.00</td>\n",
       "      <td>0.00</td>\n",
       "      <td>1</td>\n",
       "      <td>0</td>\n",
       "      <td>27</td>\n",
       "    </tr>\n",
       "    <tr>\n",
       "      <th>3</th>\n",
       "      <td>CASH_OUT</td>\n",
       "      <td>181.00</td>\n",
       "      <td>181.00</td>\n",
       "      <td>0.0</td>\n",
       "      <td>C38997010</td>\n",
       "      <td>21182.00</td>\n",
       "      <td>0.00</td>\n",
       "      <td>1</td>\n",
       "      <td>0</td>\n",
       "      <td>31</td>\n",
       "    </tr>\n",
       "    <tr>\n",
       "      <th>251</th>\n",
       "      <td>TRANSFER</td>\n",
       "      <td>2806.00</td>\n",
       "      <td>2806.00</td>\n",
       "      <td>0.0</td>\n",
       "      <td>C972765878</td>\n",
       "      <td>0.00</td>\n",
       "      <td>0.00</td>\n",
       "      <td>1</td>\n",
       "      <td>0</td>\n",
       "      <td>20</td>\n",
       "    </tr>\n",
       "    <tr>\n",
       "      <th>252</th>\n",
       "      <td>CASH_OUT</td>\n",
       "      <td>2806.00</td>\n",
       "      <td>2806.00</td>\n",
       "      <td>0.0</td>\n",
       "      <td>C1007251739</td>\n",
       "      <td>26202.00</td>\n",
       "      <td>0.00</td>\n",
       "      <td>1</td>\n",
       "      <td>0</td>\n",
       "      <td>24</td>\n",
       "    </tr>\n",
       "    <tr>\n",
       "      <th>680</th>\n",
       "      <td>TRANSFER</td>\n",
       "      <td>20128.00</td>\n",
       "      <td>20128.00</td>\n",
       "      <td>0.0</td>\n",
       "      <td>C1848415041</td>\n",
       "      <td>0.00</td>\n",
       "      <td>0.00</td>\n",
       "      <td>1</td>\n",
       "      <td>0</td>\n",
       "      <td>22</td>\n",
       "    </tr>\n",
       "    <tr>\n",
       "      <th>...</th>\n",
       "      <td>...</td>\n",
       "      <td>...</td>\n",
       "      <td>...</td>\n",
       "      <td>...</td>\n",
       "      <td>...</td>\n",
       "      <td>...</td>\n",
       "      <td>...</td>\n",
       "      <td>...</td>\n",
       "      <td>...</td>\n",
       "      <td>...</td>\n",
       "    </tr>\n",
       "    <tr>\n",
       "      <th>6362607</th>\n",
       "      <td>CASH_OUT</td>\n",
       "      <td>303846.74</td>\n",
       "      <td>303846.74</td>\n",
       "      <td>0.0</td>\n",
       "      <td>C846260566</td>\n",
       "      <td>343660.89</td>\n",
       "      <td>647507.63</td>\n",
       "      <td>1</td>\n",
       "      <td>0</td>\n",
       "      <td>2</td>\n",
       "    </tr>\n",
       "    <tr>\n",
       "      <th>6362611</th>\n",
       "      <td>CASH_OUT</td>\n",
       "      <td>63416.99</td>\n",
       "      <td>63416.99</td>\n",
       "      <td>0.0</td>\n",
       "      <td>C1662241365</td>\n",
       "      <td>276433.18</td>\n",
       "      <td>339850.17</td>\n",
       "      <td>1</td>\n",
       "      <td>0</td>\n",
       "      <td>3</td>\n",
       "    </tr>\n",
       "    <tr>\n",
       "      <th>6362613</th>\n",
       "      <td>CASH_OUT</td>\n",
       "      <td>1258818.82</td>\n",
       "      <td>1258818.82</td>\n",
       "      <td>0.0</td>\n",
       "      <td>C1240760502</td>\n",
       "      <td>503464.50</td>\n",
       "      <td>1762283.33</td>\n",
       "      <td>1</td>\n",
       "      <td>0</td>\n",
       "      <td>3</td>\n",
       "    </tr>\n",
       "    <tr>\n",
       "      <th>6362617</th>\n",
       "      <td>CASH_OUT</td>\n",
       "      <td>6311409.28</td>\n",
       "      <td>6311409.28</td>\n",
       "      <td>0.0</td>\n",
       "      <td>C1365125890</td>\n",
       "      <td>68488.84</td>\n",
       "      <td>6379898.11</td>\n",
       "      <td>1</td>\n",
       "      <td>0</td>\n",
       "      <td>3</td>\n",
       "    </tr>\n",
       "    <tr>\n",
       "      <th>6362619</th>\n",
       "      <td>CASH_OUT</td>\n",
       "      <td>850002.52</td>\n",
       "      <td>850002.52</td>\n",
       "      <td>0.0</td>\n",
       "      <td>C873221189</td>\n",
       "      <td>6510099.11</td>\n",
       "      <td>7360101.63</td>\n",
       "      <td>1</td>\n",
       "      <td>0</td>\n",
       "      <td>23</td>\n",
       "    </tr>\n",
       "  </tbody>\n",
       "</table>\n",
       "<p>5111 rows × 10 columns</p>\n",
       "</div>"
      ],
      "text/plain": [
       "             type      amount  oldbalanceOrg  newbalanceOrig     nameDest  \\\n",
       "2        TRANSFER      181.00         181.00             0.0   C553264065   \n",
       "3        CASH_OUT      181.00         181.00             0.0    C38997010   \n",
       "251      TRANSFER     2806.00        2806.00             0.0   C972765878   \n",
       "252      CASH_OUT     2806.00        2806.00             0.0  C1007251739   \n",
       "680      TRANSFER    20128.00       20128.00             0.0  C1848415041   \n",
       "...           ...         ...            ...             ...          ...   \n",
       "6362607  CASH_OUT   303846.74      303846.74             0.0   C846260566   \n",
       "6362611  CASH_OUT    63416.99       63416.99             0.0  C1662241365   \n",
       "6362613  CASH_OUT  1258818.82     1258818.82             0.0  C1240760502   \n",
       "6362617  CASH_OUT  6311409.28     6311409.28             0.0  C1365125890   \n",
       "6362619  CASH_OUT   850002.52      850002.52             0.0   C873221189   \n",
       "\n",
       "         oldbalanceDest  newbalanceDest  isFraud  isFlaggedFraud  count_dest  \n",
       "2                  0.00            0.00        1               0          27  \n",
       "3              21182.00            0.00        1               0          31  \n",
       "251                0.00            0.00        1               0          20  \n",
       "252            26202.00            0.00        1               0          24  \n",
       "680                0.00            0.00        1               0          22  \n",
       "...                 ...             ...      ...             ...         ...  \n",
       "6362607       343660.89       647507.63        1               0           2  \n",
       "6362611       276433.18       339850.17        1               0           3  \n",
       "6362613       503464.50      1762283.33        1               0           3  \n",
       "6362617        68488.84      6379898.11        1               0           3  \n",
       "6362619      6510099.11      7360101.63        1               0          23  \n",
       "\n",
       "[5111 rows x 10 columns]"
      ]
     },
     "execution_count": 34,
     "metadata": {},
     "output_type": "execute_result"
    }
   ],
   "source": [
    "df_new[(df_new['isFraud']==1) & (df_new['count_dest'] >1)]"
   ]
  },
  {
   "cell_type": "code",
   "execution_count": 35,
   "id": "a69ad346",
   "metadata": {},
   "outputs": [
    {
     "data": {
      "text/html": [
       "<div>\n",
       "<style scoped>\n",
       "    .dataframe tbody tr th:only-of-type {\n",
       "        vertical-align: middle;\n",
       "    }\n",
       "\n",
       "    .dataframe tbody tr th {\n",
       "        vertical-align: top;\n",
       "    }\n",
       "\n",
       "    .dataframe thead th {\n",
       "        text-align: right;\n",
       "    }\n",
       "</style>\n",
       "<table border=\"1\" class=\"dataframe\">\n",
       "  <thead>\n",
       "    <tr style=\"text-align: right;\">\n",
       "      <th></th>\n",
       "      <th>type</th>\n",
       "      <th>amount</th>\n",
       "      <th>oldbalanceOrg</th>\n",
       "      <th>newbalanceOrig</th>\n",
       "      <th>nameDest</th>\n",
       "      <th>oldbalanceDest</th>\n",
       "      <th>newbalanceDest</th>\n",
       "      <th>isFraud</th>\n",
       "      <th>isFlaggedFraud</th>\n",
       "      <th>count_dest</th>\n",
       "    </tr>\n",
       "  </thead>\n",
       "  <tbody>\n",
       "    <tr>\n",
       "      <th>2</th>\n",
       "      <td>TRANSFER</td>\n",
       "      <td>181.00</td>\n",
       "      <td>181.00</td>\n",
       "      <td>0.00</td>\n",
       "      <td>C553264065</td>\n",
       "      <td>0.00</td>\n",
       "      <td>0.00</td>\n",
       "      <td>1</td>\n",
       "      <td>0</td>\n",
       "      <td>27</td>\n",
       "    </tr>\n",
       "    <tr>\n",
       "      <th>6167</th>\n",
       "      <td>TRANSFER</td>\n",
       "      <td>109985.65</td>\n",
       "      <td>41851.00</td>\n",
       "      <td>0.00</td>\n",
       "      <td>C553264065</td>\n",
       "      <td>0.00</td>\n",
       "      <td>109985.65</td>\n",
       "      <td>0</td>\n",
       "      <td>0</td>\n",
       "      <td>27</td>\n",
       "    </tr>\n",
       "    <tr>\n",
       "      <th>16381</th>\n",
       "      <td>CASH_OUT</td>\n",
       "      <td>111622.39</td>\n",
       "      <td>2347.00</td>\n",
       "      <td>0.00</td>\n",
       "      <td>C553264065</td>\n",
       "      <td>99729.44</td>\n",
       "      <td>5254.44</td>\n",
       "      <td>0</td>\n",
       "      <td>0</td>\n",
       "      <td>27</td>\n",
       "    </tr>\n",
       "    <tr>\n",
       "      <th>62736</th>\n",
       "      <td>TRANSFER</td>\n",
       "      <td>1447322.21</td>\n",
       "      <td>65634.00</td>\n",
       "      <td>0.00</td>\n",
       "      <td>C553264065</td>\n",
       "      <td>5254.44</td>\n",
       "      <td>1317666.01</td>\n",
       "      <td>0</td>\n",
       "      <td>0</td>\n",
       "      <td>27</td>\n",
       "    </tr>\n",
       "    <tr>\n",
       "      <th>227904</th>\n",
       "      <td>CASH_OUT</td>\n",
       "      <td>340825.56</td>\n",
       "      <td>0.00</td>\n",
       "      <td>0.00</td>\n",
       "      <td>C553264065</td>\n",
       "      <td>1303946.65</td>\n",
       "      <td>1384840.44</td>\n",
       "      <td>0</td>\n",
       "      <td>0</td>\n",
       "      <td>27</td>\n",
       "    </tr>\n",
       "    <tr>\n",
       "      <th>292508</th>\n",
       "      <td>CASH_OUT</td>\n",
       "      <td>128766.03</td>\n",
       "      <td>0.00</td>\n",
       "      <td>0.00</td>\n",
       "      <td>C553264065</td>\n",
       "      <td>1256074.41</td>\n",
       "      <td>1384840.44</td>\n",
       "      <td>0</td>\n",
       "      <td>0</td>\n",
       "      <td>27</td>\n",
       "    </tr>\n",
       "    <tr>\n",
       "      <th>425019</th>\n",
       "      <td>TRANSFER</td>\n",
       "      <td>1491.48</td>\n",
       "      <td>0.00</td>\n",
       "      <td>0.00</td>\n",
       "      <td>C553264065</td>\n",
       "      <td>1384840.44</td>\n",
       "      <td>1439708.33</td>\n",
       "      <td>0</td>\n",
       "      <td>0</td>\n",
       "      <td>27</td>\n",
       "    </tr>\n",
       "    <tr>\n",
       "      <th>436299</th>\n",
       "      <td>CASH_OUT</td>\n",
       "      <td>53376.40</td>\n",
       "      <td>0.00</td>\n",
       "      <td>0.00</td>\n",
       "      <td>C553264065</td>\n",
       "      <td>1386331.92</td>\n",
       "      <td>1439708.33</td>\n",
       "      <td>0</td>\n",
       "      <td>0</td>\n",
       "      <td>27</td>\n",
       "    </tr>\n",
       "    <tr>\n",
       "      <th>492328</th>\n",
       "      <td>CASH_OUT</td>\n",
       "      <td>510506.07</td>\n",
       "      <td>0.00</td>\n",
       "      <td>0.00</td>\n",
       "      <td>C553264065</td>\n",
       "      <td>1439708.33</td>\n",
       "      <td>2112180.23</td>\n",
       "      <td>0</td>\n",
       "      <td>0</td>\n",
       "      <td>27</td>\n",
       "    </tr>\n",
       "    <tr>\n",
       "      <th>531255</th>\n",
       "      <td>CASH_OUT</td>\n",
       "      <td>161965.84</td>\n",
       "      <td>10206.00</td>\n",
       "      <td>0.00</td>\n",
       "      <td>C553264065</td>\n",
       "      <td>1950214.39</td>\n",
       "      <td>2112180.23</td>\n",
       "      <td>0</td>\n",
       "      <td>0</td>\n",
       "      <td>27</td>\n",
       "    </tr>\n",
       "    <tr>\n",
       "      <th>703024</th>\n",
       "      <td>CASH_OUT</td>\n",
       "      <td>383322.44</td>\n",
       "      <td>0.00</td>\n",
       "      <td>0.00</td>\n",
       "      <td>C553264065</td>\n",
       "      <td>2112180.23</td>\n",
       "      <td>2543892.56</td>\n",
       "      <td>0</td>\n",
       "      <td>0</td>\n",
       "      <td>27</td>\n",
       "    </tr>\n",
       "    <tr>\n",
       "      <th>704677</th>\n",
       "      <td>TRANSFER</td>\n",
       "      <td>48389.89</td>\n",
       "      <td>11460.36</td>\n",
       "      <td>0.00</td>\n",
       "      <td>C553264065</td>\n",
       "      <td>2495502.68</td>\n",
       "      <td>2543892.56</td>\n",
       "      <td>0</td>\n",
       "      <td>0</td>\n",
       "      <td>27</td>\n",
       "    </tr>\n",
       "    <tr>\n",
       "      <th>743914</th>\n",
       "      <td>CASH_OUT</td>\n",
       "      <td>16982.06</td>\n",
       "      <td>28051.00</td>\n",
       "      <td>11068.94</td>\n",
       "      <td>C553264065</td>\n",
       "      <td>2543892.56</td>\n",
       "      <td>2560874.62</td>\n",
       "      <td>0</td>\n",
       "      <td>0</td>\n",
       "      <td>27</td>\n",
       "    </tr>\n",
       "    <tr>\n",
       "      <th>777295</th>\n",
       "      <td>TRANSFER</td>\n",
       "      <td>75090.79</td>\n",
       "      <td>5315.18</td>\n",
       "      <td>0.00</td>\n",
       "      <td>C553264065</td>\n",
       "      <td>2560874.62</td>\n",
       "      <td>2635965.41</td>\n",
       "      <td>0</td>\n",
       "      <td>0</td>\n",
       "      <td>27</td>\n",
       "    </tr>\n",
       "    <tr>\n",
       "      <th>822760</th>\n",
       "      <td>CASH_OUT</td>\n",
       "      <td>371638.10</td>\n",
       "      <td>153222.00</td>\n",
       "      <td>0.00</td>\n",
       "      <td>C553264065</td>\n",
       "      <td>2635965.41</td>\n",
       "      <td>2609502.15</td>\n",
       "      <td>0</td>\n",
       "      <td>0</td>\n",
       "      <td>27</td>\n",
       "    </tr>\n",
       "    <tr>\n",
       "      <th>897983</th>\n",
       "      <td>TRANSFER</td>\n",
       "      <td>428995.04</td>\n",
       "      <td>100313.00</td>\n",
       "      <td>0.00</td>\n",
       "      <td>C553264065</td>\n",
       "      <td>2609502.15</td>\n",
       "      <td>3192256.90</td>\n",
       "      <td>0</td>\n",
       "      <td>0</td>\n",
       "      <td>27</td>\n",
       "    </tr>\n",
       "    <tr>\n",
       "      <th>902878</th>\n",
       "      <td>CASH_OUT</td>\n",
       "      <td>153759.71</td>\n",
       "      <td>312792.00</td>\n",
       "      <td>159032.29</td>\n",
       "      <td>C553264065</td>\n",
       "      <td>3038497.19</td>\n",
       "      <td>3192256.90</td>\n",
       "      <td>0</td>\n",
       "      <td>0</td>\n",
       "      <td>27</td>\n",
       "    </tr>\n",
       "    <tr>\n",
       "      <th>975052</th>\n",
       "      <td>CASH_OUT</td>\n",
       "      <td>104233.10</td>\n",
       "      <td>0.00</td>\n",
       "      <td>0.00</td>\n",
       "      <td>C553264065</td>\n",
       "      <td>3192256.90</td>\n",
       "      <td>3296490.00</td>\n",
       "      <td>0</td>\n",
       "      <td>0</td>\n",
       "      <td>27</td>\n",
       "    </tr>\n",
       "    <tr>\n",
       "      <th>994298</th>\n",
       "      <td>CASH_OUT</td>\n",
       "      <td>53488.19</td>\n",
       "      <td>0.00</td>\n",
       "      <td>0.00</td>\n",
       "      <td>C553264065</td>\n",
       "      <td>3296490.00</td>\n",
       "      <td>3349978.20</td>\n",
       "      <td>0</td>\n",
       "      <td>0</td>\n",
       "      <td>27</td>\n",
       "    </tr>\n",
       "    <tr>\n",
       "      <th>1258407</th>\n",
       "      <td>TRANSFER</td>\n",
       "      <td>351176.83</td>\n",
       "      <td>0.00</td>\n",
       "      <td>0.00</td>\n",
       "      <td>C553264065</td>\n",
       "      <td>3349978.20</td>\n",
       "      <td>3701155.03</td>\n",
       "      <td>0</td>\n",
       "      <td>0</td>\n",
       "      <td>27</td>\n",
       "    </tr>\n",
       "    <tr>\n",
       "      <th>1309211</th>\n",
       "      <td>CASH_OUT</td>\n",
       "      <td>414466.92</td>\n",
       "      <td>21629.00</td>\n",
       "      <td>0.00</td>\n",
       "      <td>C553264065</td>\n",
       "      <td>3701155.03</td>\n",
       "      <td>4115621.95</td>\n",
       "      <td>0</td>\n",
       "      <td>0</td>\n",
       "      <td>27</td>\n",
       "    </tr>\n",
       "    <tr>\n",
       "      <th>2653784</th>\n",
       "      <td>CASH_OUT</td>\n",
       "      <td>86716.78</td>\n",
       "      <td>0.00</td>\n",
       "      <td>0.00</td>\n",
       "      <td>C553264065</td>\n",
       "      <td>3471217.35</td>\n",
       "      <td>3557934.13</td>\n",
       "      <td>0</td>\n",
       "      <td>0</td>\n",
       "      <td>27</td>\n",
       "    </tr>\n",
       "    <tr>\n",
       "      <th>3232316</th>\n",
       "      <td>TRANSFER</td>\n",
       "      <td>598097.11</td>\n",
       "      <td>0.00</td>\n",
       "      <td>0.00</td>\n",
       "      <td>C553264065</td>\n",
       "      <td>3331659.02</td>\n",
       "      <td>3929756.13</td>\n",
       "      <td>0</td>\n",
       "      <td>0</td>\n",
       "      <td>27</td>\n",
       "    </tr>\n",
       "    <tr>\n",
       "      <th>4725905</th>\n",
       "      <td>CASH_OUT</td>\n",
       "      <td>261913.19</td>\n",
       "      <td>0.00</td>\n",
       "      <td>0.00</td>\n",
       "      <td>C553264065</td>\n",
       "      <td>3004670.85</td>\n",
       "      <td>3266584.05</td>\n",
       "      <td>0</td>\n",
       "      <td>0</td>\n",
       "      <td>27</td>\n",
       "    </tr>\n",
       "    <tr>\n",
       "      <th>5019864</th>\n",
       "      <td>CASH_OUT</td>\n",
       "      <td>469491.37</td>\n",
       "      <td>4059.00</td>\n",
       "      <td>0.00</td>\n",
       "      <td>C553264065</td>\n",
       "      <td>3266584.05</td>\n",
       "      <td>3736075.42</td>\n",
       "      <td>0</td>\n",
       "      <td>0</td>\n",
       "      <td>27</td>\n",
       "    </tr>\n",
       "    <tr>\n",
       "      <th>5421915</th>\n",
       "      <td>CASH_OUT</td>\n",
       "      <td>41962.84</td>\n",
       "      <td>0.00</td>\n",
       "      <td>0.00</td>\n",
       "      <td>C553264065</td>\n",
       "      <td>3736075.42</td>\n",
       "      <td>3778038.26</td>\n",
       "      <td>0</td>\n",
       "      <td>0</td>\n",
       "      <td>27</td>\n",
       "    </tr>\n",
       "    <tr>\n",
       "      <th>5512046</th>\n",
       "      <td>CASH_OUT</td>\n",
       "      <td>143821.57</td>\n",
       "      <td>0.00</td>\n",
       "      <td>0.00</td>\n",
       "      <td>C553264065</td>\n",
       "      <td>3778038.26</td>\n",
       "      <td>3921859.83</td>\n",
       "      <td>0</td>\n",
       "      <td>0</td>\n",
       "      <td>27</td>\n",
       "    </tr>\n",
       "  </tbody>\n",
       "</table>\n",
       "</div>"
      ],
      "text/plain": [
       "             type      amount  oldbalanceOrg  newbalanceOrig    nameDest  \\\n",
       "2        TRANSFER      181.00         181.00            0.00  C553264065   \n",
       "6167     TRANSFER   109985.65       41851.00            0.00  C553264065   \n",
       "16381    CASH_OUT   111622.39        2347.00            0.00  C553264065   \n",
       "62736    TRANSFER  1447322.21       65634.00            0.00  C553264065   \n",
       "227904   CASH_OUT   340825.56           0.00            0.00  C553264065   \n",
       "292508   CASH_OUT   128766.03           0.00            0.00  C553264065   \n",
       "425019   TRANSFER     1491.48           0.00            0.00  C553264065   \n",
       "436299   CASH_OUT    53376.40           0.00            0.00  C553264065   \n",
       "492328   CASH_OUT   510506.07           0.00            0.00  C553264065   \n",
       "531255   CASH_OUT   161965.84       10206.00            0.00  C553264065   \n",
       "703024   CASH_OUT   383322.44           0.00            0.00  C553264065   \n",
       "704677   TRANSFER    48389.89       11460.36            0.00  C553264065   \n",
       "743914   CASH_OUT    16982.06       28051.00        11068.94  C553264065   \n",
       "777295   TRANSFER    75090.79        5315.18            0.00  C553264065   \n",
       "822760   CASH_OUT   371638.10      153222.00            0.00  C553264065   \n",
       "897983   TRANSFER   428995.04      100313.00            0.00  C553264065   \n",
       "902878   CASH_OUT   153759.71      312792.00       159032.29  C553264065   \n",
       "975052   CASH_OUT   104233.10           0.00            0.00  C553264065   \n",
       "994298   CASH_OUT    53488.19           0.00            0.00  C553264065   \n",
       "1258407  TRANSFER   351176.83           0.00            0.00  C553264065   \n",
       "1309211  CASH_OUT   414466.92       21629.00            0.00  C553264065   \n",
       "2653784  CASH_OUT    86716.78           0.00            0.00  C553264065   \n",
       "3232316  TRANSFER   598097.11           0.00            0.00  C553264065   \n",
       "4725905  CASH_OUT   261913.19           0.00            0.00  C553264065   \n",
       "5019864  CASH_OUT   469491.37        4059.00            0.00  C553264065   \n",
       "5421915  CASH_OUT    41962.84           0.00            0.00  C553264065   \n",
       "5512046  CASH_OUT   143821.57           0.00            0.00  C553264065   \n",
       "\n",
       "         oldbalanceDest  newbalanceDest  isFraud  isFlaggedFraud  count_dest  \n",
       "2                  0.00            0.00        1               0          27  \n",
       "6167               0.00       109985.65        0               0          27  \n",
       "16381          99729.44         5254.44        0               0          27  \n",
       "62736           5254.44      1317666.01        0               0          27  \n",
       "227904       1303946.65      1384840.44        0               0          27  \n",
       "292508       1256074.41      1384840.44        0               0          27  \n",
       "425019       1384840.44      1439708.33        0               0          27  \n",
       "436299       1386331.92      1439708.33        0               0          27  \n",
       "492328       1439708.33      2112180.23        0               0          27  \n",
       "531255       1950214.39      2112180.23        0               0          27  \n",
       "703024       2112180.23      2543892.56        0               0          27  \n",
       "704677       2495502.68      2543892.56        0               0          27  \n",
       "743914       2543892.56      2560874.62        0               0          27  \n",
       "777295       2560874.62      2635965.41        0               0          27  \n",
       "822760       2635965.41      2609502.15        0               0          27  \n",
       "897983       2609502.15      3192256.90        0               0          27  \n",
       "902878       3038497.19      3192256.90        0               0          27  \n",
       "975052       3192256.90      3296490.00        0               0          27  \n",
       "994298       3296490.00      3349978.20        0               0          27  \n",
       "1258407      3349978.20      3701155.03        0               0          27  \n",
       "1309211      3701155.03      4115621.95        0               0          27  \n",
       "2653784      3471217.35      3557934.13        0               0          27  \n",
       "3232316      3331659.02      3929756.13        0               0          27  \n",
       "4725905      3004670.85      3266584.05        0               0          27  \n",
       "5019864      3266584.05      3736075.42        0               0          27  \n",
       "5421915      3736075.42      3778038.26        0               0          27  \n",
       "5512046      3778038.26      3921859.83        0               0          27  "
      ]
     },
     "execution_count": 35,
     "metadata": {},
     "output_type": "execute_result"
    }
   ],
   "source": [
    "df_new[df_new['nameDest']=='C553264065']"
   ]
  },
  {
   "cell_type": "code",
   "execution_count": 36,
   "id": "a03bb9e1",
   "metadata": {},
   "outputs": [],
   "source": [
    "df_new = df_new.drop(['count_dest'], axis=1)"
   ]
  },
  {
   "cell_type": "markdown",
   "id": "a1f61b8d",
   "metadata": {},
   "source": [
    "* On analysing the feature 'nameDest' which stores information regarding the customer who is the recipient of transaction, it was realised that there were around 5 lakhs unique recipient ids amongst a total of around 27.5 lakhs transactions. This implies that the recipient account is repeated in certain transactions. This can be important in deriving insights about the patterns since it is very likely for the scammers to repeat the process with different customers and hence the destination account could be same in many cases. \n",
    "\n",
    "* It would therefor not be wise to drop this column altogether like we did for the 'nameOrig' feature. Hence to capture the information, a new column called count_dest has been created which stores the number of times a particular destination account has been encountered during different transactions. After creating this column, the original column 'nameDest' has been dropped.\n",
    "\n",
    "* There are also cases where the destination account happens to be same in different transactions where some transactions have been classified into fraud and some into non-fraud. Hence 'count_dest' might not be the best to understandand and therefore it was dropped later."
   ]
  },
  {
   "cell_type": "code",
   "execution_count": 37,
   "id": "35f264ba",
   "metadata": {},
   "outputs": [],
   "source": [
    "df_new = df_new.drop(['nameDest'], axis=1)"
   ]
  },
  {
   "cell_type": "code",
   "execution_count": 38,
   "id": "a8dc21a3",
   "metadata": {},
   "outputs": [
    {
     "data": {
      "text/html": [
       "<div>\n",
       "<style scoped>\n",
       "    .dataframe tbody tr th:only-of-type {\n",
       "        vertical-align: middle;\n",
       "    }\n",
       "\n",
       "    .dataframe tbody tr th {\n",
       "        vertical-align: top;\n",
       "    }\n",
       "\n",
       "    .dataframe thead th {\n",
       "        text-align: right;\n",
       "    }\n",
       "</style>\n",
       "<table border=\"1\" class=\"dataframe\">\n",
       "  <thead>\n",
       "    <tr style=\"text-align: right;\">\n",
       "      <th></th>\n",
       "      <th>type</th>\n",
       "      <th>amount</th>\n",
       "      <th>oldbalanceOrg</th>\n",
       "      <th>newbalanceOrig</th>\n",
       "      <th>oldbalanceDest</th>\n",
       "      <th>newbalanceDest</th>\n",
       "      <th>isFraud</th>\n",
       "      <th>isFlaggedFraud</th>\n",
       "    </tr>\n",
       "  </thead>\n",
       "  <tbody>\n",
       "    <tr>\n",
       "      <th>2</th>\n",
       "      <td>TRANSFER</td>\n",
       "      <td>181.00</td>\n",
       "      <td>181.00</td>\n",
       "      <td>0.0</td>\n",
       "      <td>0.00</td>\n",
       "      <td>0.00</td>\n",
       "      <td>1</td>\n",
       "      <td>0</td>\n",
       "    </tr>\n",
       "    <tr>\n",
       "      <th>3</th>\n",
       "      <td>CASH_OUT</td>\n",
       "      <td>181.00</td>\n",
       "      <td>181.00</td>\n",
       "      <td>0.0</td>\n",
       "      <td>21182.00</td>\n",
       "      <td>0.00</td>\n",
       "      <td>1</td>\n",
       "      <td>0</td>\n",
       "    </tr>\n",
       "    <tr>\n",
       "      <th>15</th>\n",
       "      <td>CASH_OUT</td>\n",
       "      <td>229133.94</td>\n",
       "      <td>15325.00</td>\n",
       "      <td>0.0</td>\n",
       "      <td>5083.00</td>\n",
       "      <td>51513.44</td>\n",
       "      <td>0</td>\n",
       "      <td>0</td>\n",
       "    </tr>\n",
       "    <tr>\n",
       "      <th>19</th>\n",
       "      <td>TRANSFER</td>\n",
       "      <td>215310.30</td>\n",
       "      <td>705.00</td>\n",
       "      <td>0.0</td>\n",
       "      <td>22425.00</td>\n",
       "      <td>0.00</td>\n",
       "      <td>0</td>\n",
       "      <td>0</td>\n",
       "    </tr>\n",
       "    <tr>\n",
       "      <th>24</th>\n",
       "      <td>TRANSFER</td>\n",
       "      <td>311685.89</td>\n",
       "      <td>10835.00</td>\n",
       "      <td>0.0</td>\n",
       "      <td>6267.00</td>\n",
       "      <td>2719172.89</td>\n",
       "      <td>0</td>\n",
       "      <td>0</td>\n",
       "    </tr>\n",
       "    <tr>\n",
       "      <th>...</th>\n",
       "      <td>...</td>\n",
       "      <td>...</td>\n",
       "      <td>...</td>\n",
       "      <td>...</td>\n",
       "      <td>...</td>\n",
       "      <td>...</td>\n",
       "      <td>...</td>\n",
       "      <td>...</td>\n",
       "    </tr>\n",
       "    <tr>\n",
       "      <th>6362615</th>\n",
       "      <td>CASH_OUT</td>\n",
       "      <td>339682.13</td>\n",
       "      <td>339682.13</td>\n",
       "      <td>0.0</td>\n",
       "      <td>0.00</td>\n",
       "      <td>339682.13</td>\n",
       "      <td>1</td>\n",
       "      <td>0</td>\n",
       "    </tr>\n",
       "    <tr>\n",
       "      <th>6362616</th>\n",
       "      <td>TRANSFER</td>\n",
       "      <td>6311409.28</td>\n",
       "      <td>6311409.28</td>\n",
       "      <td>0.0</td>\n",
       "      <td>0.00</td>\n",
       "      <td>0.00</td>\n",
       "      <td>1</td>\n",
       "      <td>0</td>\n",
       "    </tr>\n",
       "    <tr>\n",
       "      <th>6362617</th>\n",
       "      <td>CASH_OUT</td>\n",
       "      <td>6311409.28</td>\n",
       "      <td>6311409.28</td>\n",
       "      <td>0.0</td>\n",
       "      <td>68488.84</td>\n",
       "      <td>6379898.11</td>\n",
       "      <td>1</td>\n",
       "      <td>0</td>\n",
       "    </tr>\n",
       "    <tr>\n",
       "      <th>6362618</th>\n",
       "      <td>TRANSFER</td>\n",
       "      <td>850002.52</td>\n",
       "      <td>850002.52</td>\n",
       "      <td>0.0</td>\n",
       "      <td>0.00</td>\n",
       "      <td>0.00</td>\n",
       "      <td>1</td>\n",
       "      <td>0</td>\n",
       "    </tr>\n",
       "    <tr>\n",
       "      <th>6362619</th>\n",
       "      <td>CASH_OUT</td>\n",
       "      <td>850002.52</td>\n",
       "      <td>850002.52</td>\n",
       "      <td>0.0</td>\n",
       "      <td>6510099.11</td>\n",
       "      <td>7360101.63</td>\n",
       "      <td>1</td>\n",
       "      <td>0</td>\n",
       "    </tr>\n",
       "  </tbody>\n",
       "</table>\n",
       "<p>2770409 rows × 8 columns</p>\n",
       "</div>"
      ],
      "text/plain": [
       "             type      amount  oldbalanceOrg  newbalanceOrig  oldbalanceDest  \\\n",
       "2        TRANSFER      181.00         181.00             0.0            0.00   \n",
       "3        CASH_OUT      181.00         181.00             0.0        21182.00   \n",
       "15       CASH_OUT   229133.94       15325.00             0.0         5083.00   \n",
       "19       TRANSFER   215310.30         705.00             0.0        22425.00   \n",
       "24       TRANSFER   311685.89       10835.00             0.0         6267.00   \n",
       "...           ...         ...            ...             ...             ...   \n",
       "6362615  CASH_OUT   339682.13      339682.13             0.0            0.00   \n",
       "6362616  TRANSFER  6311409.28     6311409.28             0.0            0.00   \n",
       "6362617  CASH_OUT  6311409.28     6311409.28             0.0        68488.84   \n",
       "6362618  TRANSFER   850002.52      850002.52             0.0            0.00   \n",
       "6362619  CASH_OUT   850002.52      850002.52             0.0      6510099.11   \n",
       "\n",
       "         newbalanceDest  isFraud  isFlaggedFraud  \n",
       "2                  0.00        1               0  \n",
       "3                  0.00        1               0  \n",
       "15             51513.44        0               0  \n",
       "19                 0.00        0               0  \n",
       "24           2719172.89        0               0  \n",
       "...                 ...      ...             ...  \n",
       "6362615       339682.13        1               0  \n",
       "6362616            0.00        1               0  \n",
       "6362617      6379898.11        1               0  \n",
       "6362618            0.00        1               0  \n",
       "6362619      7360101.63        1               0  \n",
       "\n",
       "[2770409 rows x 8 columns]"
      ]
     },
     "execution_count": 38,
     "metadata": {},
     "output_type": "execute_result"
    }
   ],
   "source": [
    "df_new"
   ]
  },
  {
   "cell_type": "markdown",
   "id": "7a7b7069",
   "metadata": {},
   "source": [
    "### newbalanceOrig"
   ]
  },
  {
   "cell_type": "code",
   "execution_count": 39,
   "id": "5e6def96",
   "metadata": {},
   "outputs": [
    {
     "data": {
      "text/plain": [
       "0    2488603\n",
       "1       8053\n",
       "Name: isFraud, dtype: int64"
      ]
     },
     "execution_count": 39,
     "metadata": {},
     "output_type": "execute_result"
    }
   ],
   "source": [
    "df_new[df_new['newbalanceOrig']==0.0]['isFraud'].value_counts()"
   ]
  },
  {
   "cell_type": "code",
   "execution_count": 40,
   "id": "bf482f5f",
   "metadata": {},
   "outputs": [
    {
     "name": "stdout",
     "output_type": "stream",
     "text": [
      "Min:  0.0\n",
      "Max:  49585040.37\n",
      "Mean:  16091.90467901671\n",
      "Std:  151255.8247610912\n"
     ]
    }
   ],
   "source": [
    "newbalanceOrig_std = df_new['newbalanceOrig'].std()\n",
    "newbalanceOrig_mean = df_new['newbalanceOrig'].mean()\n",
    "newbalanceOrig_min = df_new['newbalanceOrig'].min()\n",
    "newbalanceOrig_max=df_new['newbalanceOrig'].max()\n",
    "\n",
    "print(\"Min: \",newbalanceOrig_min)\n",
    "print(\"Max: \",newbalanceOrig_max)\n",
    "print(\"Mean: \",newbalanceOrig_mean)\n",
    "print(\"Std: \",newbalanceOrig_std )"
   ]
  },
  {
   "cell_type": "code",
   "execution_count": 41,
   "id": "d73213b5",
   "metadata": {},
   "outputs": [
    {
     "data": {
      "text/plain": [
       "0    19359\n",
       "1      153\n",
       "Name: isFraud, dtype: int64"
      ]
     },
     "execution_count": 41,
     "metadata": {},
     "output_type": "execute_result"
    }
   ],
   "source": [
    "df_new[df_new['newbalanceOrig'] > (3 *newbalanceOrig_std + newbalanceOrig_mean)]['isFraud'].value_counts()"
   ]
  },
  {
   "cell_type": "code",
   "execution_count": 42,
   "id": "4afc9648",
   "metadata": {},
   "outputs": [
    {
     "name": "stderr",
     "output_type": "stream",
     "text": [
      "C:\\Users\\ishid\\AppData\\Local\\Temp\\ipykernel_15440\\3372371745.py:1: UserWarning: Boolean Series key will be reindexed to match DataFrame index.\n",
      "  df_new[(df_new['newbalanceOrig'] > (3 *newbalanceOrig_std + newbalanceOrig_mean)) & (df['isFraud']==1)]\n"
     ]
    },
    {
     "data": {
      "text/html": [
       "<div>\n",
       "<style scoped>\n",
       "    .dataframe tbody tr th:only-of-type {\n",
       "        vertical-align: middle;\n",
       "    }\n",
       "\n",
       "    .dataframe tbody tr th {\n",
       "        vertical-align: top;\n",
       "    }\n",
       "\n",
       "    .dataframe thead th {\n",
       "        text-align: right;\n",
       "    }\n",
       "</style>\n",
       "<table border=\"1\" class=\"dataframe\">\n",
       "  <thead>\n",
       "    <tr style=\"text-align: right;\">\n",
       "      <th></th>\n",
       "      <th>type</th>\n",
       "      <th>amount</th>\n",
       "      <th>oldbalanceOrg</th>\n",
       "      <th>newbalanceOrig</th>\n",
       "      <th>oldbalanceDest</th>\n",
       "      <th>newbalanceDest</th>\n",
       "      <th>isFraud</th>\n",
       "      <th>isFlaggedFraud</th>\n",
       "    </tr>\n",
       "  </thead>\n",
       "  <tbody>\n",
       "    <tr>\n",
       "      <th>4440</th>\n",
       "      <td>TRANSFER</td>\n",
       "      <td>10000000.00</td>\n",
       "      <td>12930418.44</td>\n",
       "      <td>2930418.44</td>\n",
       "      <td>0.0</td>\n",
       "      <td>0.0</td>\n",
       "      <td>1</td>\n",
       "      <td>0</td>\n",
       "    </tr>\n",
       "    <tr>\n",
       "      <th>481250</th>\n",
       "      <td>TRANSFER</td>\n",
       "      <td>10000000.00</td>\n",
       "      <td>11861008.32</td>\n",
       "      <td>1861008.32</td>\n",
       "      <td>0.0</td>\n",
       "      <td>0.0</td>\n",
       "      <td>1</td>\n",
       "      <td>0</td>\n",
       "    </tr>\n",
       "    <tr>\n",
       "      <th>586311</th>\n",
       "      <td>TRANSFER</td>\n",
       "      <td>10000000.00</td>\n",
       "      <td>19887819.06</td>\n",
       "      <td>9887819.06</td>\n",
       "      <td>0.0</td>\n",
       "      <td>0.0</td>\n",
       "      <td>1</td>\n",
       "      <td>0</td>\n",
       "    </tr>\n",
       "    <tr>\n",
       "      <th>1030559</th>\n",
       "      <td>TRANSFER</td>\n",
       "      <td>10000000.00</td>\n",
       "      <td>18594065.09</td>\n",
       "      <td>8594065.09</td>\n",
       "      <td>0.0</td>\n",
       "      <td>0.0</td>\n",
       "      <td>1</td>\n",
       "      <td>0</td>\n",
       "    </tr>\n",
       "    <tr>\n",
       "      <th>1030661</th>\n",
       "      <td>TRANSFER</td>\n",
       "      <td>10000000.00</td>\n",
       "      <td>10987591.59</td>\n",
       "      <td>987591.59</td>\n",
       "      <td>0.0</td>\n",
       "      <td>0.0</td>\n",
       "      <td>1</td>\n",
       "      <td>0</td>\n",
       "    </tr>\n",
       "    <tr>\n",
       "      <th>...</th>\n",
       "      <td>...</td>\n",
       "      <td>...</td>\n",
       "      <td>...</td>\n",
       "      <td>...</td>\n",
       "      <td>...</td>\n",
       "      <td>...</td>\n",
       "      <td>...</td>\n",
       "      <td>...</td>\n",
       "    </tr>\n",
       "    <tr>\n",
       "      <th>6362576</th>\n",
       "      <td>TRANSFER</td>\n",
       "      <td>10000000.00</td>\n",
       "      <td>45674547.89</td>\n",
       "      <td>35674547.89</td>\n",
       "      <td>0.0</td>\n",
       "      <td>0.0</td>\n",
       "      <td>1</td>\n",
       "      <td>0</td>\n",
       "    </tr>\n",
       "    <tr>\n",
       "      <th>6362578</th>\n",
       "      <td>TRANSFER</td>\n",
       "      <td>10000000.00</td>\n",
       "      <td>35674547.89</td>\n",
       "      <td>25674547.89</td>\n",
       "      <td>0.0</td>\n",
       "      <td>0.0</td>\n",
       "      <td>1</td>\n",
       "      <td>0</td>\n",
       "    </tr>\n",
       "    <tr>\n",
       "      <th>6362580</th>\n",
       "      <td>TRANSFER</td>\n",
       "      <td>10000000.00</td>\n",
       "      <td>25674547.89</td>\n",
       "      <td>15674547.89</td>\n",
       "      <td>0.0</td>\n",
       "      <td>0.0</td>\n",
       "      <td>1</td>\n",
       "      <td>0</td>\n",
       "    </tr>\n",
       "    <tr>\n",
       "      <th>6362582</th>\n",
       "      <td>TRANSFER</td>\n",
       "      <td>10000000.00</td>\n",
       "      <td>15674547.89</td>\n",
       "      <td>5674547.89</td>\n",
       "      <td>0.0</td>\n",
       "      <td>0.0</td>\n",
       "      <td>1</td>\n",
       "      <td>0</td>\n",
       "    </tr>\n",
       "    <tr>\n",
       "      <th>6362584</th>\n",
       "      <td>TRANSFER</td>\n",
       "      <td>5674547.89</td>\n",
       "      <td>5674547.89</td>\n",
       "      <td>5674547.89</td>\n",
       "      <td>0.0</td>\n",
       "      <td>0.0</td>\n",
       "      <td>1</td>\n",
       "      <td>1</td>\n",
       "    </tr>\n",
       "  </tbody>\n",
       "</table>\n",
       "<p>153 rows × 8 columns</p>\n",
       "</div>"
      ],
      "text/plain": [
       "             type       amount  oldbalanceOrg  newbalanceOrig  oldbalanceDest  \\\n",
       "4440     TRANSFER  10000000.00    12930418.44      2930418.44             0.0   \n",
       "481250   TRANSFER  10000000.00    11861008.32      1861008.32             0.0   \n",
       "586311   TRANSFER  10000000.00    19887819.06      9887819.06             0.0   \n",
       "1030559  TRANSFER  10000000.00    18594065.09      8594065.09             0.0   \n",
       "1030661  TRANSFER  10000000.00    10987591.59       987591.59             0.0   \n",
       "...           ...          ...            ...             ...             ...   \n",
       "6362576  TRANSFER  10000000.00    45674547.89     35674547.89             0.0   \n",
       "6362578  TRANSFER  10000000.00    35674547.89     25674547.89             0.0   \n",
       "6362580  TRANSFER  10000000.00    25674547.89     15674547.89             0.0   \n",
       "6362582  TRANSFER  10000000.00    15674547.89      5674547.89             0.0   \n",
       "6362584  TRANSFER   5674547.89     5674547.89      5674547.89             0.0   \n",
       "\n",
       "         newbalanceDest  isFraud  isFlaggedFraud  \n",
       "4440                0.0        1               0  \n",
       "481250              0.0        1               0  \n",
       "586311              0.0        1               0  \n",
       "1030559             0.0        1               0  \n",
       "1030661             0.0        1               0  \n",
       "...                 ...      ...             ...  \n",
       "6362576             0.0        1               0  \n",
       "6362578             0.0        1               0  \n",
       "6362580             0.0        1               0  \n",
       "6362582             0.0        1               0  \n",
       "6362584             0.0        1               1  \n",
       "\n",
       "[153 rows x 8 columns]"
      ]
     },
     "execution_count": 42,
     "metadata": {},
     "output_type": "execute_result"
    }
   ],
   "source": [
    "df_new[(df_new['newbalanceOrig'] > (3 *newbalanceOrig_std + newbalanceOrig_mean)) & (df['isFraud']==1)]"
   ]
  },
  {
   "cell_type": "markdown",
   "id": "f1e92c5f",
   "metadata": {},
   "source": [
    "* After analysing the feature 'newbalanceOrig', we can see that in most of the fraudulant cases the new balance of the customer is 0 as is expected. \n",
    "\n",
    "* However there are instance where the amount left in the customer's account lies far away from 3 standard deviations (outliers), but since the dataset is highly imbalanced so dropping these outliers could significantly impact the model's prediction abilities and accuracy. Therefore it would be wise to not make changes or drop rows for now."
   ]
  },
  {
   "cell_type": "markdown",
   "id": "79129abb",
   "metadata": {},
   "source": [
    "### oldbalanceOrg"
   ]
  },
  {
   "cell_type": "code",
   "execution_count": 43,
   "id": "e135b695",
   "metadata": {},
   "outputs": [
    {
     "data": {
      "text/html": [
       "<div>\n",
       "<style scoped>\n",
       "    .dataframe tbody tr th:only-of-type {\n",
       "        vertical-align: middle;\n",
       "    }\n",
       "\n",
       "    .dataframe tbody tr th {\n",
       "        vertical-align: top;\n",
       "    }\n",
       "\n",
       "    .dataframe thead th {\n",
       "        text-align: right;\n",
       "    }\n",
       "</style>\n",
       "<table border=\"1\" class=\"dataframe\">\n",
       "  <thead>\n",
       "    <tr style=\"text-align: right;\">\n",
       "      <th></th>\n",
       "      <th>type</th>\n",
       "      <th>amount</th>\n",
       "      <th>oldbalanceOrg</th>\n",
       "      <th>newbalanceOrig</th>\n",
       "      <th>oldbalanceDest</th>\n",
       "      <th>newbalanceDest</th>\n",
       "      <th>isFraud</th>\n",
       "      <th>isFlaggedFraud</th>\n",
       "    </tr>\n",
       "  </thead>\n",
       "  <tbody>\n",
       "    <tr>\n",
       "      <th>724</th>\n",
       "      <td>CASH_OUT</td>\n",
       "      <td>416001.33</td>\n",
       "      <td>0.0</td>\n",
       "      <td>0.0</td>\n",
       "      <td>102.00</td>\n",
       "      <td>9291619.62</td>\n",
       "      <td>1</td>\n",
       "      <td>0</td>\n",
       "    </tr>\n",
       "    <tr>\n",
       "      <th>14861</th>\n",
       "      <td>CASH_OUT</td>\n",
       "      <td>181728.11</td>\n",
       "      <td>0.0</td>\n",
       "      <td>0.0</td>\n",
       "      <td>11397.00</td>\n",
       "      <td>184477.77</td>\n",
       "      <td>1</td>\n",
       "      <td>0</td>\n",
       "    </tr>\n",
       "    <tr>\n",
       "      <th>25875</th>\n",
       "      <td>TRANSFER</td>\n",
       "      <td>1078013.76</td>\n",
       "      <td>0.0</td>\n",
       "      <td>0.0</td>\n",
       "      <td>0.00</td>\n",
       "      <td>970749.68</td>\n",
       "      <td>1</td>\n",
       "      <td>0</td>\n",
       "    </tr>\n",
       "    <tr>\n",
       "      <th>77745</th>\n",
       "      <td>CASH_OUT</td>\n",
       "      <td>277970.88</td>\n",
       "      <td>0.0</td>\n",
       "      <td>0.0</td>\n",
       "      <td>0.00</td>\n",
       "      <td>277970.88</td>\n",
       "      <td>1</td>\n",
       "      <td>0</td>\n",
       "    </tr>\n",
       "    <tr>\n",
       "      <th>138559</th>\n",
       "      <td>TRANSFER</td>\n",
       "      <td>1933920.80</td>\n",
       "      <td>0.0</td>\n",
       "      <td>0.0</td>\n",
       "      <td>1283762.85</td>\n",
       "      <td>3217683.65</td>\n",
       "      <td>1</td>\n",
       "      <td>0</td>\n",
       "    </tr>\n",
       "    <tr>\n",
       "      <th>169998</th>\n",
       "      <td>CASH_OUT</td>\n",
       "      <td>149668.66</td>\n",
       "      <td>0.0</td>\n",
       "      <td>0.0</td>\n",
       "      <td>44170.11</td>\n",
       "      <td>193838.76</td>\n",
       "      <td>1</td>\n",
       "      <td>0</td>\n",
       "    </tr>\n",
       "    <tr>\n",
       "      <th>178668</th>\n",
       "      <td>CASH_OUT</td>\n",
       "      <td>222048.71</td>\n",
       "      <td>0.0</td>\n",
       "      <td>0.0</td>\n",
       "      <td>2979.00</td>\n",
       "      <td>225027.71</td>\n",
       "      <td>1</td>\n",
       "      <td>0</td>\n",
       "    </tr>\n",
       "    <tr>\n",
       "      <th>200845</th>\n",
       "      <td>CASH_OUT</td>\n",
       "      <td>454859.39</td>\n",
       "      <td>0.0</td>\n",
       "      <td>0.0</td>\n",
       "      <td>0.00</td>\n",
       "      <td>454859.39</td>\n",
       "      <td>1</td>\n",
       "      <td>0</td>\n",
       "    </tr>\n",
       "    <tr>\n",
       "      <th>291459</th>\n",
       "      <td>CASH_OUT</td>\n",
       "      <td>95428.32</td>\n",
       "      <td>0.0</td>\n",
       "      <td>0.0</td>\n",
       "      <td>0.00</td>\n",
       "      <td>95428.32</td>\n",
       "      <td>1</td>\n",
       "      <td>0</td>\n",
       "    </tr>\n",
       "    <tr>\n",
       "      <th>296686</th>\n",
       "      <td>CASH_OUT</td>\n",
       "      <td>39713.28</td>\n",
       "      <td>0.0</td>\n",
       "      <td>0.0</td>\n",
       "      <td>1274866.51</td>\n",
       "      <td>1314579.79</td>\n",
       "      <td>1</td>\n",
       "      <td>0</td>\n",
       "    </tr>\n",
       "    <tr>\n",
       "      <th>424928</th>\n",
       "      <td>CASH_OUT</td>\n",
       "      <td>508782.20</td>\n",
       "      <td>0.0</td>\n",
       "      <td>0.0</td>\n",
       "      <td>1082007.65</td>\n",
       "      <td>1590789.85</td>\n",
       "      <td>1</td>\n",
       "      <td>0</td>\n",
       "    </tr>\n",
       "    <tr>\n",
       "      <th>479636</th>\n",
       "      <td>CASH_OUT</td>\n",
       "      <td>122101.57</td>\n",
       "      <td>0.0</td>\n",
       "      <td>0.0</td>\n",
       "      <td>0.00</td>\n",
       "      <td>639940.20</td>\n",
       "      <td>1</td>\n",
       "      <td>0</td>\n",
       "    </tr>\n",
       "    <tr>\n",
       "      <th>543928</th>\n",
       "      <td>CASH_OUT</td>\n",
       "      <td>23292.30</td>\n",
       "      <td>0.0</td>\n",
       "      <td>0.0</td>\n",
       "      <td>392364.62</td>\n",
       "      <td>415656.92</td>\n",
       "      <td>1</td>\n",
       "      <td>0</td>\n",
       "    </tr>\n",
       "    <tr>\n",
       "      <th>643671</th>\n",
       "      <td>CASH_OUT</td>\n",
       "      <td>112280.88</td>\n",
       "      <td>0.0</td>\n",
       "      <td>0.0</td>\n",
       "      <td>40512.49</td>\n",
       "      <td>152793.36</td>\n",
       "      <td>1</td>\n",
       "      <td>0</td>\n",
       "    </tr>\n",
       "    <tr>\n",
       "      <th>694551</th>\n",
       "      <td>CASH_OUT</td>\n",
       "      <td>234377.29</td>\n",
       "      <td>0.0</td>\n",
       "      <td>0.0</td>\n",
       "      <td>34937.86</td>\n",
       "      <td>269315.15</td>\n",
       "      <td>1</td>\n",
       "      <td>0</td>\n",
       "    </tr>\n",
       "    <tr>\n",
       "      <th>732891</th>\n",
       "      <td>CASH_OUT</td>\n",
       "      <td>112486.46</td>\n",
       "      <td>0.0</td>\n",
       "      <td>0.0</td>\n",
       "      <td>257274.47</td>\n",
       "      <td>369760.93</td>\n",
       "      <td>1</td>\n",
       "      <td>0</td>\n",
       "    </tr>\n",
       "    <tr>\n",
       "      <th>750755</th>\n",
       "      <td>CASH_OUT</td>\n",
       "      <td>577418.98</td>\n",
       "      <td>0.0</td>\n",
       "      <td>0.0</td>\n",
       "      <td>0.00</td>\n",
       "      <td>577418.98</td>\n",
       "      <td>1</td>\n",
       "      <td>0</td>\n",
       "    </tr>\n",
       "    <tr>\n",
       "      <th>764187</th>\n",
       "      <td>CASH_OUT</td>\n",
       "      <td>407005.78</td>\n",
       "      <td>0.0</td>\n",
       "      <td>0.0</td>\n",
       "      <td>0.00</td>\n",
       "      <td>407005.78</td>\n",
       "      <td>1</td>\n",
       "      <td>0</td>\n",
       "    </tr>\n",
       "    <tr>\n",
       "      <th>920521</th>\n",
       "      <td>TRANSFER</td>\n",
       "      <td>1395850.55</td>\n",
       "      <td>0.0</td>\n",
       "      <td>0.0</td>\n",
       "      <td>260806.21</td>\n",
       "      <td>1656656.77</td>\n",
       "      <td>1</td>\n",
       "      <td>0</td>\n",
       "    </tr>\n",
       "    <tr>\n",
       "      <th>1021951</th>\n",
       "      <td>TRANSFER</td>\n",
       "      <td>202978.65</td>\n",
       "      <td>0.0</td>\n",
       "      <td>0.0</td>\n",
       "      <td>2122336.55</td>\n",
       "      <td>2325315.19</td>\n",
       "      <td>1</td>\n",
       "      <td>0</td>\n",
       "    </tr>\n",
       "    <tr>\n",
       "      <th>2058343</th>\n",
       "      <td>CASH_OUT</td>\n",
       "      <td>332729.54</td>\n",
       "      <td>0.0</td>\n",
       "      <td>0.0</td>\n",
       "      <td>613712.35</td>\n",
       "      <td>946441.90</td>\n",
       "      <td>1</td>\n",
       "      <td>0</td>\n",
       "    </tr>\n",
       "    <tr>\n",
       "      <th>2242699</th>\n",
       "      <td>CASH_OUT</td>\n",
       "      <td>229909.57</td>\n",
       "      <td>0.0</td>\n",
       "      <td>0.0</td>\n",
       "      <td>0.00</td>\n",
       "      <td>229909.57</td>\n",
       "      <td>1</td>\n",
       "      <td>0</td>\n",
       "    </tr>\n",
       "    <tr>\n",
       "      <th>2622102</th>\n",
       "      <td>CASH_OUT</td>\n",
       "      <td>291519.84</td>\n",
       "      <td>0.0</td>\n",
       "      <td>0.0</td>\n",
       "      <td>0.00</td>\n",
       "      <td>291519.84</td>\n",
       "      <td>1</td>\n",
       "      <td>0</td>\n",
       "    </tr>\n",
       "    <tr>\n",
       "      <th>2736447</th>\n",
       "      <td>CASH_OUT</td>\n",
       "      <td>0.00</td>\n",
       "      <td>0.0</td>\n",
       "      <td>0.0</td>\n",
       "      <td>0.00</td>\n",
       "      <td>0.00</td>\n",
       "      <td>1</td>\n",
       "      <td>0</td>\n",
       "    </tr>\n",
       "    <tr>\n",
       "      <th>2946481</th>\n",
       "      <td>CASH_OUT</td>\n",
       "      <td>40611.22</td>\n",
       "      <td>0.0</td>\n",
       "      <td>0.0</td>\n",
       "      <td>0.00</td>\n",
       "      <td>40611.22</td>\n",
       "      <td>1</td>\n",
       "      <td>0</td>\n",
       "    </tr>\n",
       "    <tr>\n",
       "      <th>2983493</th>\n",
       "      <td>CASH_OUT</td>\n",
       "      <td>94372.61</td>\n",
       "      <td>0.0</td>\n",
       "      <td>0.0</td>\n",
       "      <td>471783.48</td>\n",
       "      <td>566156.08</td>\n",
       "      <td>1</td>\n",
       "      <td>0</td>\n",
       "    </tr>\n",
       "    <tr>\n",
       "      <th>3247298</th>\n",
       "      <td>CASH_OUT</td>\n",
       "      <td>0.00</td>\n",
       "      <td>0.0</td>\n",
       "      <td>0.0</td>\n",
       "      <td>0.00</td>\n",
       "      <td>0.00</td>\n",
       "      <td>1</td>\n",
       "      <td>0</td>\n",
       "    </tr>\n",
       "    <tr>\n",
       "      <th>3760289</th>\n",
       "      <td>CASH_OUT</td>\n",
       "      <td>0.00</td>\n",
       "      <td>0.0</td>\n",
       "      <td>0.0</td>\n",
       "      <td>538547.63</td>\n",
       "      <td>538547.63</td>\n",
       "      <td>1</td>\n",
       "      <td>0</td>\n",
       "    </tr>\n",
       "    <tr>\n",
       "      <th>5563714</th>\n",
       "      <td>CASH_OUT</td>\n",
       "      <td>0.00</td>\n",
       "      <td>0.0</td>\n",
       "      <td>0.0</td>\n",
       "      <td>7970766.57</td>\n",
       "      <td>7970766.57</td>\n",
       "      <td>1</td>\n",
       "      <td>0</td>\n",
       "    </tr>\n",
       "    <tr>\n",
       "      <th>5996408</th>\n",
       "      <td>CASH_OUT</td>\n",
       "      <td>0.00</td>\n",
       "      <td>0.0</td>\n",
       "      <td>0.0</td>\n",
       "      <td>76759.90</td>\n",
       "      <td>76759.90</td>\n",
       "      <td>1</td>\n",
       "      <td>0</td>\n",
       "    </tr>\n",
       "    <tr>\n",
       "      <th>5996410</th>\n",
       "      <td>CASH_OUT</td>\n",
       "      <td>0.00</td>\n",
       "      <td>0.0</td>\n",
       "      <td>0.0</td>\n",
       "      <td>2921531.34</td>\n",
       "      <td>2921531.34</td>\n",
       "      <td>1</td>\n",
       "      <td>0</td>\n",
       "    </tr>\n",
       "    <tr>\n",
       "      <th>6168500</th>\n",
       "      <td>CASH_OUT</td>\n",
       "      <td>0.00</td>\n",
       "      <td>0.0</td>\n",
       "      <td>0.0</td>\n",
       "      <td>230289.66</td>\n",
       "      <td>230289.66</td>\n",
       "      <td>1</td>\n",
       "      <td>0</td>\n",
       "    </tr>\n",
       "    <tr>\n",
       "      <th>6205440</th>\n",
       "      <td>CASH_OUT</td>\n",
       "      <td>0.00</td>\n",
       "      <td>0.0</td>\n",
       "      <td>0.0</td>\n",
       "      <td>1328472.86</td>\n",
       "      <td>1328472.86</td>\n",
       "      <td>1</td>\n",
       "      <td>0</td>\n",
       "    </tr>\n",
       "    <tr>\n",
       "      <th>6266414</th>\n",
       "      <td>CASH_OUT</td>\n",
       "      <td>0.00</td>\n",
       "      <td>0.0</td>\n",
       "      <td>0.0</td>\n",
       "      <td>0.00</td>\n",
       "      <td>0.00</td>\n",
       "      <td>1</td>\n",
       "      <td>0</td>\n",
       "    </tr>\n",
       "    <tr>\n",
       "      <th>6281483</th>\n",
       "      <td>CASH_OUT</td>\n",
       "      <td>0.00</td>\n",
       "      <td>0.0</td>\n",
       "      <td>0.0</td>\n",
       "      <td>0.00</td>\n",
       "      <td>0.00</td>\n",
       "      <td>1</td>\n",
       "      <td>0</td>\n",
       "    </tr>\n",
       "    <tr>\n",
       "      <th>6281485</th>\n",
       "      <td>CASH_OUT</td>\n",
       "      <td>0.00</td>\n",
       "      <td>0.0</td>\n",
       "      <td>0.0</td>\n",
       "      <td>0.00</td>\n",
       "      <td>0.00</td>\n",
       "      <td>1</td>\n",
       "      <td>0</td>\n",
       "    </tr>\n",
       "    <tr>\n",
       "      <th>6296015</th>\n",
       "      <td>CASH_OUT</td>\n",
       "      <td>0.00</td>\n",
       "      <td>0.0</td>\n",
       "      <td>0.0</td>\n",
       "      <td>27938.72</td>\n",
       "      <td>27938.72</td>\n",
       "      <td>1</td>\n",
       "      <td>0</td>\n",
       "    </tr>\n",
       "    <tr>\n",
       "      <th>6351226</th>\n",
       "      <td>CASH_OUT</td>\n",
       "      <td>0.00</td>\n",
       "      <td>0.0</td>\n",
       "      <td>0.0</td>\n",
       "      <td>107777.02</td>\n",
       "      <td>107777.02</td>\n",
       "      <td>1</td>\n",
       "      <td>0</td>\n",
       "    </tr>\n",
       "    <tr>\n",
       "      <th>6362461</th>\n",
       "      <td>CASH_OUT</td>\n",
       "      <td>0.00</td>\n",
       "      <td>0.0</td>\n",
       "      <td>0.0</td>\n",
       "      <td>1008609.53</td>\n",
       "      <td>1008609.53</td>\n",
       "      <td>1</td>\n",
       "      <td>0</td>\n",
       "    </tr>\n",
       "    <tr>\n",
       "      <th>6362463</th>\n",
       "      <td>CASH_OUT</td>\n",
       "      <td>0.00</td>\n",
       "      <td>0.0</td>\n",
       "      <td>0.0</td>\n",
       "      <td>0.00</td>\n",
       "      <td>0.00</td>\n",
       "      <td>1</td>\n",
       "      <td>0</td>\n",
       "    </tr>\n",
       "    <tr>\n",
       "      <th>6362585</th>\n",
       "      <td>CASH_OUT</td>\n",
       "      <td>0.00</td>\n",
       "      <td>0.0</td>\n",
       "      <td>0.0</td>\n",
       "      <td>267522.87</td>\n",
       "      <td>267522.87</td>\n",
       "      <td>1</td>\n",
       "      <td>0</td>\n",
       "    </tr>\n",
       "  </tbody>\n",
       "</table>\n",
       "</div>"
      ],
      "text/plain": [
       "             type      amount  oldbalanceOrg  newbalanceOrig  oldbalanceDest  \\\n",
       "724      CASH_OUT   416001.33            0.0             0.0          102.00   \n",
       "14861    CASH_OUT   181728.11            0.0             0.0        11397.00   \n",
       "25875    TRANSFER  1078013.76            0.0             0.0            0.00   \n",
       "77745    CASH_OUT   277970.88            0.0             0.0            0.00   \n",
       "138559   TRANSFER  1933920.80            0.0             0.0      1283762.85   \n",
       "169998   CASH_OUT   149668.66            0.0             0.0        44170.11   \n",
       "178668   CASH_OUT   222048.71            0.0             0.0         2979.00   \n",
       "200845   CASH_OUT   454859.39            0.0             0.0            0.00   \n",
       "291459   CASH_OUT    95428.32            0.0             0.0            0.00   \n",
       "296686   CASH_OUT    39713.28            0.0             0.0      1274866.51   \n",
       "424928   CASH_OUT   508782.20            0.0             0.0      1082007.65   \n",
       "479636   CASH_OUT   122101.57            0.0             0.0            0.00   \n",
       "543928   CASH_OUT    23292.30            0.0             0.0       392364.62   \n",
       "643671   CASH_OUT   112280.88            0.0             0.0        40512.49   \n",
       "694551   CASH_OUT   234377.29            0.0             0.0        34937.86   \n",
       "732891   CASH_OUT   112486.46            0.0             0.0       257274.47   \n",
       "750755   CASH_OUT   577418.98            0.0             0.0            0.00   \n",
       "764187   CASH_OUT   407005.78            0.0             0.0            0.00   \n",
       "920521   TRANSFER  1395850.55            0.0             0.0       260806.21   \n",
       "1021951  TRANSFER   202978.65            0.0             0.0      2122336.55   \n",
       "2058343  CASH_OUT   332729.54            0.0             0.0       613712.35   \n",
       "2242699  CASH_OUT   229909.57            0.0             0.0            0.00   \n",
       "2622102  CASH_OUT   291519.84            0.0             0.0            0.00   \n",
       "2736447  CASH_OUT        0.00            0.0             0.0            0.00   \n",
       "2946481  CASH_OUT    40611.22            0.0             0.0            0.00   \n",
       "2983493  CASH_OUT    94372.61            0.0             0.0       471783.48   \n",
       "3247298  CASH_OUT        0.00            0.0             0.0            0.00   \n",
       "3760289  CASH_OUT        0.00            0.0             0.0       538547.63   \n",
       "5563714  CASH_OUT        0.00            0.0             0.0      7970766.57   \n",
       "5996408  CASH_OUT        0.00            0.0             0.0        76759.90   \n",
       "5996410  CASH_OUT        0.00            0.0             0.0      2921531.34   \n",
       "6168500  CASH_OUT        0.00            0.0             0.0       230289.66   \n",
       "6205440  CASH_OUT        0.00            0.0             0.0      1328472.86   \n",
       "6266414  CASH_OUT        0.00            0.0             0.0            0.00   \n",
       "6281483  CASH_OUT        0.00            0.0             0.0            0.00   \n",
       "6281485  CASH_OUT        0.00            0.0             0.0            0.00   \n",
       "6296015  CASH_OUT        0.00            0.0             0.0        27938.72   \n",
       "6351226  CASH_OUT        0.00            0.0             0.0       107777.02   \n",
       "6362461  CASH_OUT        0.00            0.0             0.0      1008609.53   \n",
       "6362463  CASH_OUT        0.00            0.0             0.0            0.00   \n",
       "6362585  CASH_OUT        0.00            0.0             0.0       267522.87   \n",
       "\n",
       "         newbalanceDest  isFraud  isFlaggedFraud  \n",
       "724          9291619.62        1               0  \n",
       "14861         184477.77        1               0  \n",
       "25875         970749.68        1               0  \n",
       "77745         277970.88        1               0  \n",
       "138559       3217683.65        1               0  \n",
       "169998        193838.76        1               0  \n",
       "178668        225027.71        1               0  \n",
       "200845        454859.39        1               0  \n",
       "291459         95428.32        1               0  \n",
       "296686       1314579.79        1               0  \n",
       "424928       1590789.85        1               0  \n",
       "479636        639940.20        1               0  \n",
       "543928        415656.92        1               0  \n",
       "643671        152793.36        1               0  \n",
       "694551        269315.15        1               0  \n",
       "732891        369760.93        1               0  \n",
       "750755        577418.98        1               0  \n",
       "764187        407005.78        1               0  \n",
       "920521       1656656.77        1               0  \n",
       "1021951      2325315.19        1               0  \n",
       "2058343       946441.90        1               0  \n",
       "2242699       229909.57        1               0  \n",
       "2622102       291519.84        1               0  \n",
       "2736447            0.00        1               0  \n",
       "2946481        40611.22        1               0  \n",
       "2983493       566156.08        1               0  \n",
       "3247298            0.00        1               0  \n",
       "3760289       538547.63        1               0  \n",
       "5563714      7970766.57        1               0  \n",
       "5996408        76759.90        1               0  \n",
       "5996410      2921531.34        1               0  \n",
       "6168500       230289.66        1               0  \n",
       "6205440      1328472.86        1               0  \n",
       "6266414            0.00        1               0  \n",
       "6281483            0.00        1               0  \n",
       "6281485            0.00        1               0  \n",
       "6296015        27938.72        1               0  \n",
       "6351226       107777.02        1               0  \n",
       "6362461      1008609.53        1               0  \n",
       "6362463            0.00        1               0  \n",
       "6362585       267522.87        1               0  "
      ]
     },
     "execution_count": 43,
     "metadata": {},
     "output_type": "execute_result"
    }
   ],
   "source": [
    "df_new[(df_new['oldbalanceOrg']==0.0) & (df_new['isFraud']==1)]"
   ]
  },
  {
   "cell_type": "markdown",
   "id": "84b4a95d",
   "metadata": {},
   "source": [
    "From above we can see that there are entries where the original balance is 0 but there is some amount transaction that is shown along the 'amount' column which does not seem right to me. So I have removed such rows from the dataset as it could create some discrepancy."
   ]
  },
  {
   "cell_type": "code",
   "execution_count": 44,
   "id": "fecbe179",
   "metadata": {},
   "outputs": [],
   "source": [
    "mask = (df_new['oldbalanceOrg']==0.0) & (df_new['isFraud']==1)\n",
    "df_new= df_new.drop(df_new[mask].index, axis=0)      "
   ]
  },
  {
   "cell_type": "code",
   "execution_count": 45,
   "id": "cbaa4a83",
   "metadata": {},
   "outputs": [],
   "source": [
    "temp = df_new['isFraud'] == 1\n",
    "filtered_indices = df_new[temp]['oldbalanceOrg'] > (3* df_new['oldbalanceOrg'].std() +df_new['oldbalanceOrg'].mean())\n",
    "\n",
    "result_df = df_new.loc[df_new[temp][filtered_indices].index]"
   ]
  },
  {
   "cell_type": "code",
   "execution_count": 46,
   "id": "1f85f0c5",
   "metadata": {},
   "outputs": [
    {
     "data": {
      "text/plain": [
       "1    3097\n",
       "Name: isFraud, dtype: int64"
      ]
     },
     "execution_count": 46,
     "metadata": {},
     "output_type": "execute_result"
    }
   ],
   "source": [
    "result_df['isFraud'].value_counts()"
   ]
  },
  {
   "cell_type": "code",
   "execution_count": 47,
   "id": "874ea3a8",
   "metadata": {},
   "outputs": [
    {
     "data": {
      "text/plain": [
       "<Axes: xlabel='isFraud', ylabel='oldbalanceOrg'>"
      ]
     },
     "execution_count": 47,
     "metadata": {},
     "output_type": "execute_result"
    },
    {
     "data": {
      "image/png": "[encoded data removed]",
      "text/plain": [
       "<Figure size 640x480 with 1 Axes>"
      ]
     },
     "metadata": {},
     "output_type": "display_data"
    }
   ],
   "source": [
    "sns.boxplot(x='isFraud', y='oldbalanceOrg', data=df_new)"
   ]
  },
  {
   "cell_type": "code",
   "execution_count": 48,
   "id": "2aee17a3",
   "metadata": {},
   "outputs": [
    {
     "data": {
      "text/plain": [
       "43818855.3"
      ]
     },
     "execution_count": 48,
     "metadata": {},
     "output_type": "execute_result"
    }
   ],
   "source": [
    "df_new[df_new['isFraud']==0]['oldbalanceOrg'].max()"
   ]
  },
  {
   "cell_type": "code",
   "execution_count": 49,
   "id": "9caaf56b",
   "metadata": {},
   "outputs": [
    {
     "data": {
      "text/plain": [
       "59585040.37"
      ]
     },
     "execution_count": 49,
     "metadata": {},
     "output_type": "execute_result"
    }
   ],
   "source": [
    "df_new[df_new['isFraud']==1]['oldbalanceOrg'].max()"
   ]
  },
  {
   "cell_type": "code",
   "execution_count": 50,
   "id": "22af996b",
   "metadata": {},
   "outputs": [],
   "source": [
    "temp= df_new['isFraud']==1\n",
    "filtered_indices = df_new[temp]['oldbalanceOrg'] > (df_new[df_new['isFraud']==0]['oldbalanceOrg'].max())\n",
    "m =df_new.loc[df_new[temp][filtered_indices].index]"
   ]
  },
  {
   "cell_type": "code",
   "execution_count": 51,
   "id": "bb8ab706",
   "metadata": {},
   "outputs": [
    {
     "data": {
      "text/html": [
       "<div>\n",
       "<style scoped>\n",
       "    .dataframe tbody tr th:only-of-type {\n",
       "        vertical-align: middle;\n",
       "    }\n",
       "\n",
       "    .dataframe tbody tr th {\n",
       "        vertical-align: top;\n",
       "    }\n",
       "\n",
       "    .dataframe thead th {\n",
       "        text-align: right;\n",
       "    }\n",
       "</style>\n",
       "<table border=\"1\" class=\"dataframe\">\n",
       "  <thead>\n",
       "    <tr style=\"text-align: right;\">\n",
       "      <th></th>\n",
       "      <th>type</th>\n",
       "      <th>amount</th>\n",
       "      <th>oldbalanceOrg</th>\n",
       "      <th>newbalanceOrig</th>\n",
       "      <th>oldbalanceDest</th>\n",
       "      <th>newbalanceDest</th>\n",
       "      <th>isFraud</th>\n",
       "      <th>isFlaggedFraud</th>\n",
       "    </tr>\n",
       "  </thead>\n",
       "  <tbody>\n",
       "    <tr>\n",
       "      <th>5563705</th>\n",
       "      <td>TRANSFER</td>\n",
       "      <td>10000000.0</td>\n",
       "      <td>44892193.09</td>\n",
       "      <td>34892193.09</td>\n",
       "      <td>0.0</td>\n",
       "      <td>0.0</td>\n",
       "      <td>1</td>\n",
       "      <td>0</td>\n",
       "    </tr>\n",
       "    <tr>\n",
       "      <th>5996399</th>\n",
       "      <td>TRANSFER</td>\n",
       "      <td>10000000.0</td>\n",
       "      <td>59585040.37</td>\n",
       "      <td>49585040.37</td>\n",
       "      <td>0.0</td>\n",
       "      <td>0.0</td>\n",
       "      <td>1</td>\n",
       "      <td>0</td>\n",
       "    </tr>\n",
       "    <tr>\n",
       "      <th>5996401</th>\n",
       "      <td>TRANSFER</td>\n",
       "      <td>10000000.0</td>\n",
       "      <td>49585040.37</td>\n",
       "      <td>39585040.37</td>\n",
       "      <td>0.0</td>\n",
       "      <td>0.0</td>\n",
       "      <td>1</td>\n",
       "      <td>0</td>\n",
       "    </tr>\n",
       "    <tr>\n",
       "      <th>6281474</th>\n",
       "      <td>TRANSFER</td>\n",
       "      <td>10000000.0</td>\n",
       "      <td>50399045.08</td>\n",
       "      <td>40399045.08</td>\n",
       "      <td>0.0</td>\n",
       "      <td>0.0</td>\n",
       "      <td>1</td>\n",
       "      <td>0</td>\n",
       "    </tr>\n",
       "    <tr>\n",
       "      <th>6362452</th>\n",
       "      <td>TRANSFER</td>\n",
       "      <td>10000000.0</td>\n",
       "      <td>57316255.05</td>\n",
       "      <td>47316255.05</td>\n",
       "      <td>0.0</td>\n",
       "      <td>0.0</td>\n",
       "      <td>1</td>\n",
       "      <td>0</td>\n",
       "    </tr>\n",
       "    <tr>\n",
       "      <th>6362454</th>\n",
       "      <td>TRANSFER</td>\n",
       "      <td>10000000.0</td>\n",
       "      <td>47316255.05</td>\n",
       "      <td>37316255.05</td>\n",
       "      <td>0.0</td>\n",
       "      <td>0.0</td>\n",
       "      <td>1</td>\n",
       "      <td>0</td>\n",
       "    </tr>\n",
       "    <tr>\n",
       "      <th>6362576</th>\n",
       "      <td>TRANSFER</td>\n",
       "      <td>10000000.0</td>\n",
       "      <td>45674547.89</td>\n",
       "      <td>35674547.89</td>\n",
       "      <td>0.0</td>\n",
       "      <td>0.0</td>\n",
       "      <td>1</td>\n",
       "      <td>0</td>\n",
       "    </tr>\n",
       "  </tbody>\n",
       "</table>\n",
       "</div>"
      ],
      "text/plain": [
       "             type      amount  oldbalanceOrg  newbalanceOrig  oldbalanceDest  \\\n",
       "5563705  TRANSFER  10000000.0    44892193.09     34892193.09             0.0   \n",
       "5996399  TRANSFER  10000000.0    59585040.37     49585040.37             0.0   \n",
       "5996401  TRANSFER  10000000.0    49585040.37     39585040.37             0.0   \n",
       "6281474  TRANSFER  10000000.0    50399045.08     40399045.08             0.0   \n",
       "6362452  TRANSFER  10000000.0    57316255.05     47316255.05             0.0   \n",
       "6362454  TRANSFER  10000000.0    47316255.05     37316255.05             0.0   \n",
       "6362576  TRANSFER  10000000.0    45674547.89     35674547.89             0.0   \n",
       "\n",
       "         newbalanceDest  isFraud  isFlaggedFraud  \n",
       "5563705             0.0        1               0  \n",
       "5996399             0.0        1               0  \n",
       "5996401             0.0        1               0  \n",
       "6281474             0.0        1               0  \n",
       "6362452             0.0        1               0  \n",
       "6362454             0.0        1               0  \n",
       "6362576             0.0        1               0  "
      ]
     },
     "execution_count": 51,
     "metadata": {},
     "output_type": "execute_result"
    }
   ],
   "source": [
    "m"
   ]
  },
  {
   "cell_type": "code",
   "execution_count": 52,
   "id": "02daa846",
   "metadata": {},
   "outputs": [
    {
     "data": {
      "text/plain": [
       "<Axes: xlabel='isFraud', ylabel='oldbalanceOrg'>"
      ]
     },
     "execution_count": 52,
     "metadata": {},
     "output_type": "execute_result"
    },
    {
     "data": {
      "image/png": "[encoded data removed]",
      "text/plain": [
       "<Figure size 640x480 with 1 Axes>"
      ]
     },
     "metadata": {},
     "output_type": "display_data"
    }
   ],
   "source": [
    "sns.boxplot(x='isFraud', y='oldbalanceOrg', data=df_new, hue='type')"
   ]
  },
  {
   "cell_type": "markdown",
   "id": "0a92a2f6",
   "metadata": {},
   "source": [
    "* Since a lot of fraud category data points lies as outliers for the feature 'oldbalanceOrg' so it would be difficult to remove the outliers as it could impact the accuracy.\n",
    "\n",
    "* Another insight is that the transactions done through the 'TRANSFER' method are on accounts with high old balance amount while the CASH_OUT type transaction is done on accounts with lower original balance."
   ]
  },
  {
   "cell_type": "code",
   "execution_count": 53,
   "id": "4fffaaf7",
   "metadata": {},
   "outputs": [
    {
     "data": {
      "text/plain": [
       "0    12508\n",
       "1     4085\n",
       "Name: isFraud, dtype: int64"
      ]
     },
     "execution_count": 53,
     "metadata": {},
     "output_type": "execute_result"
    }
   ],
   "source": [
    "df_new[df_new['newbalanceDest']==0.0]['isFraud'].value_counts()"
   ]
  },
  {
   "cell_type": "code",
   "execution_count": 54,
   "id": "37ef4de0",
   "metadata": {},
   "outputs": [
    {
     "data": {
      "text/plain": [
       "TRANSFER    4068\n",
       "CASH_OUT      17\n",
       "Name: type, dtype: int64"
      ]
     },
     "execution_count": 54,
     "metadata": {},
     "output_type": "execute_result"
    }
   ],
   "source": [
    "df_new[(df_new['newbalanceDest']==0.0) & (df_new['isFraud']==1)]['type'].value_counts()"
   ]
  },
  {
   "cell_type": "code",
   "execution_count": 55,
   "id": "92facd79",
   "metadata": {},
   "outputs": [
    {
     "data": {
      "text/plain": [
       "CASH_OUT    4062\n",
       "TRANSFER      25\n",
       "Name: type, dtype: int64"
      ]
     },
     "execution_count": 55,
     "metadata": {},
     "output_type": "execute_result"
    }
   ],
   "source": [
    "df_new[(df_new['newbalanceDest']!=0.0) & (df_new['isFraud']==1)]['type'].value_counts()"
   ]
  },
  {
   "cell_type": "code",
   "execution_count": 56,
   "id": "9891d953",
   "metadata": {},
   "outputs": [
    {
     "data": {
      "text/plain": [
       "<Axes: xlabel='type', ylabel='count'>"
      ]
     },
     "execution_count": 56,
     "metadata": {},
     "output_type": "execute_result"
    },
    {
     "data": {
      "image/png": "[encoded data removed]",
      "text/plain": [
       "<Figure size 640x480 with 1 Axes>"
      ]
     },
     "metadata": {},
     "output_type": "display_data"
    }
   ],
   "source": [
    "df_plot= df_new[df_new['isFraud']==1]\n",
    "sns.countplot(x='type', data=df_plot)"
   ]
  },
  {
   "cell_type": "code",
   "execution_count": 57,
   "id": "ab7dd007",
   "metadata": {},
   "outputs": [
    {
     "data": {
      "text/plain": [
       "<Axes: xlabel='isFraud', ylabel='newbalanceDest'>"
      ]
     },
     "execution_count": 57,
     "metadata": {},
     "output_type": "execute_result"
    },
    {
     "data": {
      "image/png": "[encoded data removed]",
      "text/plain": [
       "<Figure size 640x480 with 1 Axes>"
      ]
     },
     "metadata": {},
     "output_type": "display_data"
    }
   ],
   "source": [
    "sns.boxplot(x='isFraud', y='newbalanceDest', data=df_new,hue='type')"
   ]
  },
  {
   "cell_type": "markdown",
   "id": "e575b249",
   "metadata": {},
   "source": [
    "* There are majorly two kinds of cases, one where the final balance in the destination account is 0 and one where it is not 0.\n",
    "\n",
    "* The case where the destination account has 0 amount are mostly where the transactions are done through the 'TRANSFER' method and the situation where is some amount in the destination account, the transactions have been done through the 'CASH_OUT' method.\n",
    "\n",
    "* Most of the outliers pertaining to the feature 'newbalanceDest' are associated to non fraudulant case which shows that in most of the fraudulant casesthe new balance of the destination account is kept low."
   ]
  },
  {
   "cell_type": "markdown",
   "id": "36825213",
   "metadata": {},
   "source": [
    "## Check how correlated the features are:"
   ]
  },
  {
   "cell_type": "code",
   "execution_count": 58,
   "id": "2fdc1779",
   "metadata": {},
   "outputs": [
    {
     "name": "stderr",
     "output_type": "stream",
     "text": [
      "C:\\Users\\ishid\\AppData\\Local\\Temp\\ipykernel_15440\\1695001384.py:1: FutureWarning: The default value of numeric_only in DataFrame.corr is deprecated. In a future version, it will default to False. Select only valid columns or specify the value of numeric_only to silence this warning.\n",
      "  correlation_matrix= df_new.corr()\n"
     ]
    },
    {
     "data": {
      "text/plain": [
       "<Axes: >"
      ]
     },
     "execution_count": 58,
     "metadata": {},
     "output_type": "execute_result"
    },
    {
     "data": {
      "image/png": "[encoded data removed]",
      "text/plain": [
       "<Figure size 640x480 with 2 Axes>"
      ]
     },
     "metadata": {},
     "output_type": "display_data"
    }
   ],
   "source": [
    "correlation_matrix= df_new.corr()\n",
    "sns.heatmap(data= correlation_matrix, cmap='coolwarm')"
   ]
  },
  {
   "cell_type": "markdown",
   "id": "9697e2a7",
   "metadata": {},
   "source": [
    "* Through the correlation heatmap we can see that the tewo features, namely 'oldbalanceDest' and 'newbalanceDest' are highly correlated so it can be a good idea to drop one of the two features, since it can lead to the problem of multicollinearity and create biasness in prediction. "
   ]
  },
  {
   "cell_type": "code",
   "execution_count": 59,
   "id": "8d13a68c",
   "metadata": {},
   "outputs": [],
   "source": [
    "df_new= df_new.drop(['newbalanceDest'], axis=1)"
   ]
  },
  {
   "cell_type": "code",
   "execution_count": 60,
   "id": "2c0e97f7",
   "metadata": {},
   "outputs": [
    {
     "data": {
      "text/html": [
       "<div>\n",
       "<style scoped>\n",
       "    .dataframe tbody tr th:only-of-type {\n",
       "        vertical-align: middle;\n",
       "    }\n",
       "\n",
       "    .dataframe tbody tr th {\n",
       "        vertical-align: top;\n",
       "    }\n",
       "\n",
       "    .dataframe thead th {\n",
       "        text-align: right;\n",
       "    }\n",
       "</style>\n",
       "<table border=\"1\" class=\"dataframe\">\n",
       "  <thead>\n",
       "    <tr style=\"text-align: right;\">\n",
       "      <th></th>\n",
       "      <th>type</th>\n",
       "      <th>amount</th>\n",
       "      <th>oldbalanceOrg</th>\n",
       "      <th>newbalanceOrig</th>\n",
       "      <th>oldbalanceDest</th>\n",
       "      <th>isFraud</th>\n",
       "      <th>isFlaggedFraud</th>\n",
       "    </tr>\n",
       "  </thead>\n",
       "  <tbody>\n",
       "    <tr>\n",
       "      <th>2</th>\n",
       "      <td>TRANSFER</td>\n",
       "      <td>181.00</td>\n",
       "      <td>181.0</td>\n",
       "      <td>0.0</td>\n",
       "      <td>0.0</td>\n",
       "      <td>1</td>\n",
       "      <td>0</td>\n",
       "    </tr>\n",
       "    <tr>\n",
       "      <th>3</th>\n",
       "      <td>CASH_OUT</td>\n",
       "      <td>181.00</td>\n",
       "      <td>181.0</td>\n",
       "      <td>0.0</td>\n",
       "      <td>21182.0</td>\n",
       "      <td>1</td>\n",
       "      <td>0</td>\n",
       "    </tr>\n",
       "    <tr>\n",
       "      <th>15</th>\n",
       "      <td>CASH_OUT</td>\n",
       "      <td>229133.94</td>\n",
       "      <td>15325.0</td>\n",
       "      <td>0.0</td>\n",
       "      <td>5083.0</td>\n",
       "      <td>0</td>\n",
       "      <td>0</td>\n",
       "    </tr>\n",
       "    <tr>\n",
       "      <th>19</th>\n",
       "      <td>TRANSFER</td>\n",
       "      <td>215310.30</td>\n",
       "      <td>705.0</td>\n",
       "      <td>0.0</td>\n",
       "      <td>22425.0</td>\n",
       "      <td>0</td>\n",
       "      <td>0</td>\n",
       "    </tr>\n",
       "    <tr>\n",
       "      <th>24</th>\n",
       "      <td>TRANSFER</td>\n",
       "      <td>311685.89</td>\n",
       "      <td>10835.0</td>\n",
       "      <td>0.0</td>\n",
       "      <td>6267.0</td>\n",
       "      <td>0</td>\n",
       "      <td>0</td>\n",
       "    </tr>\n",
       "  </tbody>\n",
       "</table>\n",
       "</div>"
      ],
      "text/plain": [
       "        type     amount  oldbalanceOrg  newbalanceOrig  oldbalanceDest  \\\n",
       "2   TRANSFER     181.00          181.0             0.0             0.0   \n",
       "3   CASH_OUT     181.00          181.0             0.0         21182.0   \n",
       "15  CASH_OUT  229133.94        15325.0             0.0          5083.0   \n",
       "19  TRANSFER  215310.30          705.0             0.0         22425.0   \n",
       "24  TRANSFER  311685.89        10835.0             0.0          6267.0   \n",
       "\n",
       "    isFraud  isFlaggedFraud  \n",
       "2         1               0  \n",
       "3         1               0  \n",
       "15        0               0  \n",
       "19        0               0  \n",
       "24        0               0  "
      ]
     },
     "execution_count": 60,
     "metadata": {},
     "output_type": "execute_result"
    }
   ],
   "source": [
    "df_new.head()"
   ]
  },
  {
   "cell_type": "markdown",
   "id": "ff182af1",
   "metadata": {},
   "source": [
    "### Lets explore the feature 'amount'"
   ]
  },
  {
   "cell_type": "code",
   "execution_count": 61,
   "id": "84bd39f6",
   "metadata": {},
   "outputs": [
    {
     "data": {
      "text/plain": [
       "<Axes: xlabel='type', ylabel='amount'>"
      ]
     },
     "execution_count": 61,
     "metadata": {},
     "output_type": "execute_result"
    },
    {
     "data": {
      "image/png": "[encoded data removed]",
      "text/plain": [
       "<Figure size 640x480 with 1 Axes>"
      ]
     },
     "metadata": {},
     "output_type": "display_data"
    }
   ],
   "source": [
    "sns.boxplot(x='type', y='amount', data=df_new, hue='isFraud')"
   ]
  },
  {
   "cell_type": "code",
   "execution_count": 62,
   "id": "9a49d6a9",
   "metadata": {},
   "outputs": [
    {
     "data": {
      "text/plain": [
       "type              528812\n",
       "amount            528812\n",
       "oldbalanceOrg     528812\n",
       "newbalanceOrig    528812\n",
       "oldbalanceDest    528812\n",
       "isFraud           528812\n",
       "isFlaggedFraud    528812\n",
       "dtype: int64"
      ]
     },
     "execution_count": 62,
     "metadata": {},
     "output_type": "execute_result"
    }
   ],
   "source": [
    "df_new[(df_new['isFraud']==0) & (df_new['type']=='TRANSFER')].count()"
   ]
  },
  {
   "cell_type": "code",
   "execution_count": 63,
   "id": "4ab0c8db",
   "metadata": {},
   "outputs": [
    {
     "data": {
      "text/plain": [
       "count    5.288120e+05\n",
       "mean     9.062290e+05\n",
       "std      1.874155e+06\n",
       "min      2.600000e+00\n",
       "25%      2.165708e+05\n",
       "50%      4.865219e+05\n",
       "75%      9.727336e+05\n",
       "max      9.244552e+07\n",
       "Name: amount, dtype: float64"
      ]
     },
     "execution_count": 63,
     "metadata": {},
     "output_type": "execute_result"
    }
   ],
   "source": [
    "df_new[(df_new['isFraud']==0) & (df_new['type']=='TRANSFER')]['amount'].describe()"
   ]
  },
  {
   "cell_type": "code",
   "execution_count": 64,
   "id": "3f4e5626",
   "metadata": {},
   "outputs": [
    {
     "data": {
      "text/plain": [
       "10000000.0"
      ]
     },
     "execution_count": 64,
     "metadata": {},
     "output_type": "execute_result"
    }
   ],
   "source": [
    "df_new[(df_new['isFraud']==1) & (df_new['type']=='TRANSFER')]['amount'].max()"
   ]
  },
  {
   "cell_type": "code",
   "execution_count": 65,
   "id": "a210c449",
   "metadata": {},
   "outputs": [
    {
     "data": {
      "text/plain": [
       "10000000.0"
      ]
     },
     "execution_count": 65,
     "metadata": {},
     "output_type": "execute_result"
    }
   ],
   "source": [
    "df_new[(df_new['isFraud']==1) & (df_new['type']=='CASH_OUT')]['amount'].max()"
   ]
  },
  {
   "cell_type": "code",
   "execution_count": 66,
   "id": "9bd25e57",
   "metadata": {},
   "outputs": [],
   "source": [
    "amount_notFraud_std = df_new[(df_new['isFraud']==0) & (df_new['type']=='TRANSFER')]['amount'].std()\n",
    "amount_notFraud_mean = df_new[(df_new['isFraud']==0) & (df_new['type']=='TRANSFER')]['amount'].mean()"
   ]
  },
  {
   "cell_type": "code",
   "execution_count": 67,
   "id": "9c9245a1",
   "metadata": {},
   "outputs": [
    {
     "data": {
      "text/plain": [
       "6528694.7841126025"
      ]
     },
     "execution_count": 67,
     "metadata": {},
     "output_type": "execute_result"
    }
   ],
   "source": [
    "values_remove=3* amount_notFraud_std + amount_notFraud_mean\n",
    "values_remove"
   ]
  },
  {
   "cell_type": "code",
   "execution_count": 68,
   "id": "42a4876e",
   "metadata": {},
   "outputs": [
    {
     "data": {
      "text/plain": [
       "type              8708\n",
       "amount            8708\n",
       "oldbalanceOrg     8708\n",
       "newbalanceOrig    8708\n",
       "oldbalanceDest    8708\n",
       "isFraud           8708\n",
       "isFlaggedFraud    8708\n",
       "dtype: int64"
      ]
     },
     "execution_count": 68,
     "metadata": {},
     "output_type": "execute_result"
    }
   ],
   "source": [
    "temp_check = df_new['amount'] > values_remove\n",
    "df_new[temp_check].count()"
   ]
  },
  {
   "cell_type": "code",
   "execution_count": 69,
   "id": "b3e7900c",
   "metadata": {},
   "outputs": [
    {
     "data": {
      "text/plain": [
       "type              2443\n",
       "amount            2443\n",
       "oldbalanceOrg     2443\n",
       "newbalanceOrig    2443\n",
       "oldbalanceDest    2443\n",
       "isFraud           2443\n",
       "isFlaggedFraud    2443\n",
       "dtype: int64"
      ]
     },
     "execution_count": 69,
     "metadata": {},
     "output_type": "execute_result"
    }
   ],
   "source": [
    "temp_check = df_new['amount'] > 10000000\n",
    "df_new[temp_check].count()"
   ]
  },
  {
   "cell_type": "code",
   "execution_count": 70,
   "id": "2b0468b2",
   "metadata": {},
   "outputs": [],
   "source": [
    "temp= df_new['isFraud']==0\n",
    "filtered =(df_new['isFraud']==0) & (df_new['type']=='TRANSFER') & (df_new['amount']>10000000)\n",
    "df_new = df_new.drop(df_new[filtered].index)"
   ]
  },
  {
   "cell_type": "code",
   "execution_count": 71,
   "id": "8b4ce47a",
   "metadata": {},
   "outputs": [
    {
     "data": {
      "text/plain": [
       "<Axes: xlabel='type', ylabel='amount'>"
      ]
     },
     "execution_count": 71,
     "metadata": {},
     "output_type": "execute_result"
    },
    {
     "data": {
      "image/png": "[encoded data removed]",
      "text/plain": [
       "<Figure size 640x480 with 1 Axes>"
      ]
     },
     "metadata": {},
     "output_type": "display_data"
    }
   ],
   "source": [
    "sns.boxplot(x='type', y='amount', data=df_new, hue='isFraud')"
   ]
  },
  {
   "cell_type": "markdown",
   "id": "9248cafd",
   "metadata": {},
   "source": [
    "* On analysing the feature 'amount' we understood that most of the outliers belonged to the non- fraudulant category .Further analysis showed that those outliers lies many standard deviations away . So I decided to remove the outlier which were further than the maximum amount value categorised as the fraudulant class (2443 rows) since it can still keep intact the information necessary for prediction. "
   ]
  },
  {
   "cell_type": "code",
   "execution_count": 72,
   "id": "5a684f4f",
   "metadata": {},
   "outputs": [
    {
     "data": {
      "text/plain": [
       "<Axes: xlabel='isFraud', ylabel='oldbalanceOrg'>"
      ]
     },
     "execution_count": 72,
     "metadata": {},
     "output_type": "execute_result"
    },
    {
     "data": {
      "image/png": "[encoded data removed]",
      "text/plain": [
       "<Figure size 640x480 with 1 Axes>"
      ]
     },
     "metadata": {},
     "output_type": "display_data"
    }
   ],
   "source": [
    "sns.boxplot(x='isFraud', y='oldbalanceOrg', data=df_new)"
   ]
  },
  {
   "cell_type": "code",
   "execution_count": 73,
   "id": "15866c81",
   "metadata": {},
   "outputs": [
    {
     "data": {
      "text/plain": [
       "<Axes: xlabel='isFraud', ylabel='newbalanceOrig'>"
      ]
     },
     "execution_count": 73,
     "metadata": {},
     "output_type": "execute_result"
    },
    {
     "data": {
      "image/png": "[encoded data removed]",
      "text/plain": [
       "<Figure size 640x480 with 1 Axes>"
      ]
     },
     "metadata": {},
     "output_type": "display_data"
    }
   ],
   "source": [
    "sns.boxplot(x='isFraud', y='newbalanceOrig', data=df_new)"
   ]
  },
  {
   "cell_type": "code",
   "execution_count": 74,
   "id": "d1633e81",
   "metadata": {},
   "outputs": [
    {
     "data": {
      "text/plain": [
       "<Axes: xlabel='isFraud', ylabel='oldbalanceDest'>"
      ]
     },
     "execution_count": 74,
     "metadata": {},
     "output_type": "execute_result"
    },
    {
     "data": {
      "image/png": "[encoded data removed]",
      "text/plain": [
       "<Figure size 640x480 with 1 Axes>"
      ]
     },
     "metadata": {},
     "output_type": "display_data"
    }
   ],
   "source": [
    "sns.boxplot(x='isFraud', y='oldbalanceDest', data=df_new)"
   ]
  },
  {
   "cell_type": "code",
   "execution_count": 75,
   "id": "f1d30be8",
   "metadata": {},
   "outputs": [],
   "source": [
    "max_old_dest_fraud= df_new[df_new['isFraud']==1]['oldbalanceDest'].max()"
   ]
  },
  {
   "cell_type": "code",
   "execution_count": 76,
   "id": "431a9c91",
   "metadata": {},
   "outputs": [],
   "source": [
    "filtered =(df_new['isFraud']==0)  & (df_new['oldbalanceDest']> max_old_dest_fraud)\n",
    "df_new = df_new.drop(df_new[filtered].index)"
   ]
  },
  {
   "cell_type": "code",
   "execution_count": 77,
   "id": "5faaf069",
   "metadata": {},
   "outputs": [
    {
     "data": {
      "text/plain": [
       "<Axes: xlabel='isFraud', ylabel='oldbalanceDest'>"
      ]
     },
     "execution_count": 77,
     "metadata": {},
     "output_type": "execute_result"
    },
    {
     "data": {
      "image/png": "[encoded data removed]",
      "text/plain": [
       "<Figure size 640x480 with 1 Axes>"
      ]
     },
     "metadata": {},
     "output_type": "display_data"
    }
   ],
   "source": [
    "sns.boxplot(x='isFraud', y='oldbalanceDest', data=df_new)"
   ]
  },
  {
   "cell_type": "code",
   "execution_count": 78,
   "id": "0a347845",
   "metadata": {},
   "outputs": [
    {
     "data": {
      "text/plain": [
       "type              8\n",
       "amount            8\n",
       "oldbalanceOrg     8\n",
       "newbalanceOrig    8\n",
       "oldbalanceDest    8\n",
       "isFraud           8\n",
       "isFlaggedFraud    8\n",
       "dtype: int64"
      ]
     },
     "execution_count": 78,
     "metadata": {},
     "output_type": "execute_result"
    }
   ],
   "source": [
    "k_mean = df_new[df_new['isFraud']==1]['oldbalanceDest'].mean()\n",
    "k_std = df_new[df_new['isFraud']==1]['oldbalanceDest'].std()\n",
    "k_max = df_new[df_new['isFraud']==1]['oldbalanceDest'].max()\n",
    "indices = (df_new['isFraud']==1) & (df_new['oldbalanceDest'] > (8*k_std+k_mean))\n",
    "df_new[indices].count()"
   ]
  },
  {
   "cell_type": "code",
   "execution_count": 79,
   "id": "497d5e62",
   "metadata": {},
   "outputs": [
    {
     "data": {
      "text/plain": [
       "type              2767896\n",
       "amount            2767896\n",
       "oldbalanceOrg     2767896\n",
       "newbalanceOrig    2767896\n",
       "oldbalanceDest    2767896\n",
       "isFraud           2767896\n",
       "isFlaggedFraud    2767896\n",
       "dtype: int64"
      ]
     },
     "execution_count": 79,
     "metadata": {},
     "output_type": "execute_result"
    }
   ],
   "source": [
    "df_new.count()"
   ]
  },
  {
   "cell_type": "code",
   "execution_count": 80,
   "id": "42a15f20",
   "metadata": {},
   "outputs": [
    {
     "data": {
      "text/html": [
       "<div>\n",
       "<style scoped>\n",
       "    .dataframe tbody tr th:only-of-type {\n",
       "        vertical-align: middle;\n",
       "    }\n",
       "\n",
       "    .dataframe tbody tr th {\n",
       "        vertical-align: top;\n",
       "    }\n",
       "\n",
       "    .dataframe thead th {\n",
       "        text-align: right;\n",
       "    }\n",
       "</style>\n",
       "<table border=\"1\" class=\"dataframe\">\n",
       "  <thead>\n",
       "    <tr style=\"text-align: right;\">\n",
       "      <th></th>\n",
       "      <th>type</th>\n",
       "      <th>amount</th>\n",
       "      <th>oldbalanceOrg</th>\n",
       "      <th>newbalanceOrig</th>\n",
       "      <th>oldbalanceDest</th>\n",
       "      <th>isFraud</th>\n",
       "      <th>isFlaggedFraud</th>\n",
       "    </tr>\n",
       "  </thead>\n",
       "  <tbody>\n",
       "    <tr>\n",
       "      <th>2</th>\n",
       "      <td>TRANSFER</td>\n",
       "      <td>181.00</td>\n",
       "      <td>181.0</td>\n",
       "      <td>0.0</td>\n",
       "      <td>0.0</td>\n",
       "      <td>1</td>\n",
       "      <td>0</td>\n",
       "    </tr>\n",
       "    <tr>\n",
       "      <th>3</th>\n",
       "      <td>CASH_OUT</td>\n",
       "      <td>181.00</td>\n",
       "      <td>181.0</td>\n",
       "      <td>0.0</td>\n",
       "      <td>21182.0</td>\n",
       "      <td>1</td>\n",
       "      <td>0</td>\n",
       "    </tr>\n",
       "    <tr>\n",
       "      <th>15</th>\n",
       "      <td>CASH_OUT</td>\n",
       "      <td>229133.94</td>\n",
       "      <td>15325.0</td>\n",
       "      <td>0.0</td>\n",
       "      <td>5083.0</td>\n",
       "      <td>0</td>\n",
       "      <td>0</td>\n",
       "    </tr>\n",
       "    <tr>\n",
       "      <th>19</th>\n",
       "      <td>TRANSFER</td>\n",
       "      <td>215310.30</td>\n",
       "      <td>705.0</td>\n",
       "      <td>0.0</td>\n",
       "      <td>22425.0</td>\n",
       "      <td>0</td>\n",
       "      <td>0</td>\n",
       "    </tr>\n",
       "    <tr>\n",
       "      <th>24</th>\n",
       "      <td>TRANSFER</td>\n",
       "      <td>311685.89</td>\n",
       "      <td>10835.0</td>\n",
       "      <td>0.0</td>\n",
       "      <td>6267.0</td>\n",
       "      <td>0</td>\n",
       "      <td>0</td>\n",
       "    </tr>\n",
       "  </tbody>\n",
       "</table>\n",
       "</div>"
      ],
      "text/plain": [
       "        type     amount  oldbalanceOrg  newbalanceOrig  oldbalanceDest  \\\n",
       "2   TRANSFER     181.00          181.0             0.0             0.0   \n",
       "3   CASH_OUT     181.00          181.0             0.0         21182.0   \n",
       "15  CASH_OUT  229133.94        15325.0             0.0          5083.0   \n",
       "19  TRANSFER  215310.30          705.0             0.0         22425.0   \n",
       "24  TRANSFER  311685.89        10835.0             0.0          6267.0   \n",
       "\n",
       "    isFraud  isFlaggedFraud  \n",
       "2         1               0  \n",
       "3         1               0  \n",
       "15        0               0  \n",
       "19        0               0  \n",
       "24        0               0  "
      ]
     },
     "execution_count": 80,
     "metadata": {},
     "output_type": "execute_result"
    }
   ],
   "source": [
    "df_new.head()"
   ]
  },
  {
   "cell_type": "markdown",
   "id": "8e3c3aab",
   "metadata": {},
   "source": [
    "### One Hot Encode 'type' column"
   ]
  },
  {
   "cell_type": "code",
   "execution_count": 81,
   "id": "b2efbcc7",
   "metadata": {},
   "outputs": [],
   "source": [
    "df_new = pd.get_dummies(data=df_new, columns=['type'], drop_first=True)"
   ]
  },
  {
   "cell_type": "code",
   "execution_count": 82,
   "id": "7e39d7b1",
   "metadata": {},
   "outputs": [
    {
     "data": {
      "text/html": [
       "<div>\n",
       "<style scoped>\n",
       "    .dataframe tbody tr th:only-of-type {\n",
       "        vertical-align: middle;\n",
       "    }\n",
       "\n",
       "    .dataframe tbody tr th {\n",
       "        vertical-align: top;\n",
       "    }\n",
       "\n",
       "    .dataframe thead th {\n",
       "        text-align: right;\n",
       "    }\n",
       "</style>\n",
       "<table border=\"1\" class=\"dataframe\">\n",
       "  <thead>\n",
       "    <tr style=\"text-align: right;\">\n",
       "      <th></th>\n",
       "      <th>amount</th>\n",
       "      <th>oldbalanceOrg</th>\n",
       "      <th>newbalanceOrig</th>\n",
       "      <th>oldbalanceDest</th>\n",
       "      <th>isFraud</th>\n",
       "      <th>isFlaggedFraud</th>\n",
       "      <th>type_TRANSFER</th>\n",
       "    </tr>\n",
       "  </thead>\n",
       "  <tbody>\n",
       "    <tr>\n",
       "      <th>2</th>\n",
       "      <td>181.00</td>\n",
       "      <td>181.0</td>\n",
       "      <td>0.0</td>\n",
       "      <td>0.0</td>\n",
       "      <td>1</td>\n",
       "      <td>0</td>\n",
       "      <td>1</td>\n",
       "    </tr>\n",
       "    <tr>\n",
       "      <th>3</th>\n",
       "      <td>181.00</td>\n",
       "      <td>181.0</td>\n",
       "      <td>0.0</td>\n",
       "      <td>21182.0</td>\n",
       "      <td>1</td>\n",
       "      <td>0</td>\n",
       "      <td>0</td>\n",
       "    </tr>\n",
       "    <tr>\n",
       "      <th>15</th>\n",
       "      <td>229133.94</td>\n",
       "      <td>15325.0</td>\n",
       "      <td>0.0</td>\n",
       "      <td>5083.0</td>\n",
       "      <td>0</td>\n",
       "      <td>0</td>\n",
       "      <td>0</td>\n",
       "    </tr>\n",
       "    <tr>\n",
       "      <th>19</th>\n",
       "      <td>215310.30</td>\n",
       "      <td>705.0</td>\n",
       "      <td>0.0</td>\n",
       "      <td>22425.0</td>\n",
       "      <td>0</td>\n",
       "      <td>0</td>\n",
       "      <td>1</td>\n",
       "    </tr>\n",
       "    <tr>\n",
       "      <th>24</th>\n",
       "      <td>311685.89</td>\n",
       "      <td>10835.0</td>\n",
       "      <td>0.0</td>\n",
       "      <td>6267.0</td>\n",
       "      <td>0</td>\n",
       "      <td>0</td>\n",
       "      <td>1</td>\n",
       "    </tr>\n",
       "  </tbody>\n",
       "</table>\n",
       "</div>"
      ],
      "text/plain": [
       "       amount  oldbalanceOrg  newbalanceOrig  oldbalanceDest  isFraud  \\\n",
       "2      181.00          181.0             0.0             0.0        1   \n",
       "3      181.00          181.0             0.0         21182.0        1   \n",
       "15  229133.94        15325.0             0.0          5083.0        0   \n",
       "19  215310.30          705.0             0.0         22425.0        0   \n",
       "24  311685.89        10835.0             0.0          6267.0        0   \n",
       "\n",
       "    isFlaggedFraud  type_TRANSFER  \n",
       "2                0              1  \n",
       "3                0              0  \n",
       "15               0              0  \n",
       "19               0              1  \n",
       "24               0              1  "
      ]
     },
     "execution_count": 82,
     "metadata": {},
     "output_type": "execute_result"
    }
   ],
   "source": [
    "df_new.head()"
   ]
  },
  {
   "cell_type": "markdown",
   "id": "3187ca15",
   "metadata": {},
   "source": [
    "### Split the Dataset:"
   ]
  },
  {
   "cell_type": "code",
   "execution_count": 83,
   "id": "092cc736",
   "metadata": {},
   "outputs": [],
   "source": [
    "x= df_new.drop(['isFraud'], axis=1)\n",
    "y= df_new['isFraud']\n",
    "x_train, x_test, y_train, y_test = train_test_split(x, y, test_size=0.33, random_state=42)"
   ]
  },
  {
   "cell_type": "code",
   "execution_count": 84,
   "id": "b3b0d7e0",
   "metadata": {},
   "outputs": [
    {
     "data": {
      "text/html": [
       "<div>\n",
       "<style scoped>\n",
       "    .dataframe tbody tr th:only-of-type {\n",
       "        vertical-align: middle;\n",
       "    }\n",
       "\n",
       "    .dataframe tbody tr th {\n",
       "        vertical-align: top;\n",
       "    }\n",
       "\n",
       "    .dataframe thead th {\n",
       "        text-align: right;\n",
       "    }\n",
       "</style>\n",
       "<table border=\"1\" class=\"dataframe\">\n",
       "  <thead>\n",
       "    <tr style=\"text-align: right;\">\n",
       "      <th></th>\n",
       "      <th>amount</th>\n",
       "      <th>oldbalanceOrg</th>\n",
       "      <th>newbalanceOrig</th>\n",
       "      <th>oldbalanceDest</th>\n",
       "      <th>isFlaggedFraud</th>\n",
       "      <th>type_TRANSFER</th>\n",
       "    </tr>\n",
       "  </thead>\n",
       "  <tbody>\n",
       "    <tr>\n",
       "      <th>1939545</th>\n",
       "      <td>10220.64</td>\n",
       "      <td>0.00</td>\n",
       "      <td>0.0</td>\n",
       "      <td>4937401.68</td>\n",
       "      <td>0</td>\n",
       "      <td>0</td>\n",
       "    </tr>\n",
       "    <tr>\n",
       "      <th>6224886</th>\n",
       "      <td>124732.91</td>\n",
       "      <td>123783.00</td>\n",
       "      <td>0.0</td>\n",
       "      <td>0.00</td>\n",
       "      <td>0</td>\n",
       "      <td>0</td>\n",
       "    </tr>\n",
       "    <tr>\n",
       "      <th>5772862</th>\n",
       "      <td>291258.40</td>\n",
       "      <td>0.00</td>\n",
       "      <td>0.0</td>\n",
       "      <td>1575008.43</td>\n",
       "      <td>0</td>\n",
       "      <td>0</td>\n",
       "    </tr>\n",
       "    <tr>\n",
       "      <th>643073</th>\n",
       "      <td>357156.63</td>\n",
       "      <td>16175.00</td>\n",
       "      <td>0.0</td>\n",
       "      <td>6475493.88</td>\n",
       "      <td>0</td>\n",
       "      <td>0</td>\n",
       "    </tr>\n",
       "    <tr>\n",
       "      <th>5491143</th>\n",
       "      <td>187017.52</td>\n",
       "      <td>8036.00</td>\n",
       "      <td>0.0</td>\n",
       "      <td>270941.65</td>\n",
       "      <td>0</td>\n",
       "      <td>0</td>\n",
       "    </tr>\n",
       "    <tr>\n",
       "      <th>...</th>\n",
       "      <td>...</td>\n",
       "      <td>...</td>\n",
       "      <td>...</td>\n",
       "      <td>...</td>\n",
       "      <td>...</td>\n",
       "      <td>...</td>\n",
       "    </tr>\n",
       "    <tr>\n",
       "      <th>257922</th>\n",
       "      <td>196867.17</td>\n",
       "      <td>20140.00</td>\n",
       "      <td>0.0</td>\n",
       "      <td>1260818.54</td>\n",
       "      <td>0</td>\n",
       "      <td>0</td>\n",
       "    </tr>\n",
       "    <tr>\n",
       "      <th>3865239</th>\n",
       "      <td>82325.31</td>\n",
       "      <td>69725.00</td>\n",
       "      <td>0.0</td>\n",
       "      <td>596497.48</td>\n",
       "      <td>0</td>\n",
       "      <td>0</td>\n",
       "    </tr>\n",
       "    <tr>\n",
       "      <th>5399156</th>\n",
       "      <td>369912.14</td>\n",
       "      <td>25405.47</td>\n",
       "      <td>0.0</td>\n",
       "      <td>1948345.43</td>\n",
       "      <td>0</td>\n",
       "      <td>0</td>\n",
       "    </tr>\n",
       "    <tr>\n",
       "      <th>5098229</th>\n",
       "      <td>331040.55</td>\n",
       "      <td>0.00</td>\n",
       "      <td>0.0</td>\n",
       "      <td>478305.15</td>\n",
       "      <td>0</td>\n",
       "      <td>0</td>\n",
       "    </tr>\n",
       "    <tr>\n",
       "      <th>5075989</th>\n",
       "      <td>40552.49</td>\n",
       "      <td>22616.00</td>\n",
       "      <td>0.0</td>\n",
       "      <td>74534.83</td>\n",
       "      <td>0</td>\n",
       "      <td>1</td>\n",
       "    </tr>\n",
       "  </tbody>\n",
       "</table>\n",
       "<p>1854490 rows × 6 columns</p>\n",
       "</div>"
      ],
      "text/plain": [
       "            amount  oldbalanceOrg  newbalanceOrig  oldbalanceDest  \\\n",
       "1939545   10220.64           0.00             0.0      4937401.68   \n",
       "6224886  124732.91      123783.00             0.0            0.00   \n",
       "5772862  291258.40           0.00             0.0      1575008.43   \n",
       "643073   357156.63       16175.00             0.0      6475493.88   \n",
       "5491143  187017.52        8036.00             0.0       270941.65   \n",
       "...            ...            ...             ...             ...   \n",
       "257922   196867.17       20140.00             0.0      1260818.54   \n",
       "3865239   82325.31       69725.00             0.0       596497.48   \n",
       "5399156  369912.14       25405.47             0.0      1948345.43   \n",
       "5098229  331040.55           0.00             0.0       478305.15   \n",
       "5075989   40552.49       22616.00             0.0        74534.83   \n",
       "\n",
       "         isFlaggedFraud  type_TRANSFER  \n",
       "1939545               0              0  \n",
       "6224886               0              0  \n",
       "5772862               0              0  \n",
       "643073                0              0  \n",
       "5491143               0              0  \n",
       "...                 ...            ...  \n",
       "257922                0              0  \n",
       "3865239               0              0  \n",
       "5399156               0              0  \n",
       "5098229               0              0  \n",
       "5075989               0              1  \n",
       "\n",
       "[1854490 rows x 6 columns]"
      ]
     },
     "execution_count": 84,
     "metadata": {},
     "output_type": "execute_result"
    }
   ],
   "source": [
    "x_train"
   ]
  },
  {
   "cell_type": "code",
   "execution_count": 85,
   "id": "9c0fde6c",
   "metadata": {},
   "outputs": [
    {
     "data": {
      "text/html": [
       "<div>\n",
       "<style scoped>\n",
       "    .dataframe tbody tr th:only-of-type {\n",
       "        vertical-align: middle;\n",
       "    }\n",
       "\n",
       "    .dataframe tbody tr th {\n",
       "        vertical-align: top;\n",
       "    }\n",
       "\n",
       "    .dataframe thead th {\n",
       "        text-align: right;\n",
       "    }\n",
       "</style>\n",
       "<table border=\"1\" class=\"dataframe\">\n",
       "  <thead>\n",
       "    <tr style=\"text-align: right;\">\n",
       "      <th></th>\n",
       "      <th>amount</th>\n",
       "      <th>oldbalanceOrg</th>\n",
       "      <th>newbalanceOrig</th>\n",
       "      <th>oldbalanceDest</th>\n",
       "      <th>isFlaggedFraud</th>\n",
       "      <th>type_TRANSFER</th>\n",
       "    </tr>\n",
       "  </thead>\n",
       "  <tbody>\n",
       "    <tr>\n",
       "      <th>2525429</th>\n",
       "      <td>64607.10</td>\n",
       "      <td>5262.0</td>\n",
       "      <td>0.0</td>\n",
       "      <td>0.00</td>\n",
       "      <td>0</td>\n",
       "      <td>0</td>\n",
       "    </tr>\n",
       "    <tr>\n",
       "      <th>3191229</th>\n",
       "      <td>183609.27</td>\n",
       "      <td>0.0</td>\n",
       "      <td>0.0</td>\n",
       "      <td>219710.10</td>\n",
       "      <td>0</td>\n",
       "      <td>0</td>\n",
       "    </tr>\n",
       "    <tr>\n",
       "      <th>783133</th>\n",
       "      <td>16814.99</td>\n",
       "      <td>0.0</td>\n",
       "      <td>0.0</td>\n",
       "      <td>1896271.25</td>\n",
       "      <td>0</td>\n",
       "      <td>0</td>\n",
       "    </tr>\n",
       "    <tr>\n",
       "      <th>1945937</th>\n",
       "      <td>292385.87</td>\n",
       "      <td>0.0</td>\n",
       "      <td>0.0</td>\n",
       "      <td>3043572.71</td>\n",
       "      <td>0</td>\n",
       "      <td>0</td>\n",
       "    </tr>\n",
       "    <tr>\n",
       "      <th>5521643</th>\n",
       "      <td>266734.88</td>\n",
       "      <td>0.0</td>\n",
       "      <td>0.0</td>\n",
       "      <td>1439031.48</td>\n",
       "      <td>0</td>\n",
       "      <td>0</td>\n",
       "    </tr>\n",
       "    <tr>\n",
       "      <th>...</th>\n",
       "      <td>...</td>\n",
       "      <td>...</td>\n",
       "      <td>...</td>\n",
       "      <td>...</td>\n",
       "      <td>...</td>\n",
       "      <td>...</td>\n",
       "    </tr>\n",
       "    <tr>\n",
       "      <th>820626</th>\n",
       "      <td>652547.01</td>\n",
       "      <td>0.0</td>\n",
       "      <td>0.0</td>\n",
       "      <td>2577562.94</td>\n",
       "      <td>0</td>\n",
       "      <td>1</td>\n",
       "    </tr>\n",
       "    <tr>\n",
       "      <th>2696604</th>\n",
       "      <td>439598.68</td>\n",
       "      <td>0.0</td>\n",
       "      <td>0.0</td>\n",
       "      <td>2072823.75</td>\n",
       "      <td>0</td>\n",
       "      <td>1</td>\n",
       "    </tr>\n",
       "    <tr>\n",
       "      <th>4176422</th>\n",
       "      <td>10000000.00</td>\n",
       "      <td>10431.0</td>\n",
       "      <td>0.0</td>\n",
       "      <td>0.00</td>\n",
       "      <td>0</td>\n",
       "      <td>1</td>\n",
       "    </tr>\n",
       "    <tr>\n",
       "      <th>115116</th>\n",
       "      <td>64603.79</td>\n",
       "      <td>21140.0</td>\n",
       "      <td>0.0</td>\n",
       "      <td>1530409.48</td>\n",
       "      <td>0</td>\n",
       "      <td>0</td>\n",
       "    </tr>\n",
       "    <tr>\n",
       "      <th>2803762</th>\n",
       "      <td>146117.11</td>\n",
       "      <td>0.0</td>\n",
       "      <td>0.0</td>\n",
       "      <td>456839.59</td>\n",
       "      <td>0</td>\n",
       "      <td>1</td>\n",
       "    </tr>\n",
       "  </tbody>\n",
       "</table>\n",
       "<p>913406 rows × 6 columns</p>\n",
       "</div>"
      ],
      "text/plain": [
       "              amount  oldbalanceOrg  newbalanceOrig  oldbalanceDest  \\\n",
       "2525429     64607.10         5262.0             0.0            0.00   \n",
       "3191229    183609.27            0.0             0.0       219710.10   \n",
       "783133      16814.99            0.0             0.0      1896271.25   \n",
       "1945937    292385.87            0.0             0.0      3043572.71   \n",
       "5521643    266734.88            0.0             0.0      1439031.48   \n",
       "...              ...            ...             ...             ...   \n",
       "820626     652547.01            0.0             0.0      2577562.94   \n",
       "2696604    439598.68            0.0             0.0      2072823.75   \n",
       "4176422  10000000.00        10431.0             0.0            0.00   \n",
       "115116      64603.79        21140.0             0.0      1530409.48   \n",
       "2803762    146117.11            0.0             0.0       456839.59   \n",
       "\n",
       "         isFlaggedFraud  type_TRANSFER  \n",
       "2525429               0              0  \n",
       "3191229               0              0  \n",
       "783133                0              0  \n",
       "1945937               0              0  \n",
       "5521643               0              0  \n",
       "...                 ...            ...  \n",
       "820626                0              1  \n",
       "2696604               0              1  \n",
       "4176422               0              1  \n",
       "115116                0              0  \n",
       "2803762               0              1  \n",
       "\n",
       "[913406 rows x 6 columns]"
      ]
     },
     "execution_count": 85,
     "metadata": {},
     "output_type": "execute_result"
    }
   ],
   "source": [
    "x_test"
   ]
  },
  {
   "cell_type": "markdown",
   "id": "9e1adb88",
   "metadata": {},
   "source": [
    "### Normalisation"
   ]
  },
  {
   "cell_type": "markdown",
   "id": "bb8eecab",
   "metadata": {},
   "source": [
    "* The four features, namely amount, oldbalanceOrg, newbalanceOrig, and oldbalanceDest are normalised to bring the values stored in these columns into a range of 0 and 1."
   ]
  },
  {
   "cell_type": "code",
   "execution_count": 86,
   "id": "57d83754",
   "metadata": {},
   "outputs": [],
   "source": [
    "x_train_pre = x_train[['amount','oldbalanceOrg','newbalanceOrig','oldbalanceDest']]\n",
    "x_trainleft_pre = x_train[['isFlaggedFraud','type_TRANSFER']].values\n",
    "x_test_pre = x_test[['amount','oldbalanceOrg','newbalanceOrig','oldbalanceDest']]\n",
    "x_testleft_pre = x_test[['isFlaggedFraud','type_TRANSFER']].values"
   ]
  },
  {
   "cell_type": "code",
   "execution_count": 87,
   "id": "88048236",
   "metadata": {},
   "outputs": [
    {
     "data": {
      "text/html": [
       "<div>\n",
       "<style scoped>\n",
       "    .dataframe tbody tr th:only-of-type {\n",
       "        vertical-align: middle;\n",
       "    }\n",
       "\n",
       "    .dataframe tbody tr th {\n",
       "        vertical-align: top;\n",
       "    }\n",
       "\n",
       "    .dataframe thead th {\n",
       "        text-align: right;\n",
       "    }\n",
       "</style>\n",
       "<table border=\"1\" class=\"dataframe\">\n",
       "  <thead>\n",
       "    <tr style=\"text-align: right;\">\n",
       "      <th></th>\n",
       "      <th>amount</th>\n",
       "      <th>oldbalanceOrg</th>\n",
       "      <th>newbalanceOrig</th>\n",
       "      <th>oldbalanceDest</th>\n",
       "    </tr>\n",
       "  </thead>\n",
       "  <tbody>\n",
       "    <tr>\n",
       "      <th>1939545</th>\n",
       "      <td>10220.64</td>\n",
       "      <td>0.00</td>\n",
       "      <td>0.0</td>\n",
       "      <td>4937401.68</td>\n",
       "    </tr>\n",
       "    <tr>\n",
       "      <th>6224886</th>\n",
       "      <td>124732.91</td>\n",
       "      <td>123783.00</td>\n",
       "      <td>0.0</td>\n",
       "      <td>0.00</td>\n",
       "    </tr>\n",
       "    <tr>\n",
       "      <th>5772862</th>\n",
       "      <td>291258.40</td>\n",
       "      <td>0.00</td>\n",
       "      <td>0.0</td>\n",
       "      <td>1575008.43</td>\n",
       "    </tr>\n",
       "    <tr>\n",
       "      <th>643073</th>\n",
       "      <td>357156.63</td>\n",
       "      <td>16175.00</td>\n",
       "      <td>0.0</td>\n",
       "      <td>6475493.88</td>\n",
       "    </tr>\n",
       "    <tr>\n",
       "      <th>5491143</th>\n",
       "      <td>187017.52</td>\n",
       "      <td>8036.00</td>\n",
       "      <td>0.0</td>\n",
       "      <td>270941.65</td>\n",
       "    </tr>\n",
       "    <tr>\n",
       "      <th>...</th>\n",
       "      <td>...</td>\n",
       "      <td>...</td>\n",
       "      <td>...</td>\n",
       "      <td>...</td>\n",
       "    </tr>\n",
       "    <tr>\n",
       "      <th>257922</th>\n",
       "      <td>196867.17</td>\n",
       "      <td>20140.00</td>\n",
       "      <td>0.0</td>\n",
       "      <td>1260818.54</td>\n",
       "    </tr>\n",
       "    <tr>\n",
       "      <th>3865239</th>\n",
       "      <td>82325.31</td>\n",
       "      <td>69725.00</td>\n",
       "      <td>0.0</td>\n",
       "      <td>596497.48</td>\n",
       "    </tr>\n",
       "    <tr>\n",
       "      <th>5399156</th>\n",
       "      <td>369912.14</td>\n",
       "      <td>25405.47</td>\n",
       "      <td>0.0</td>\n",
       "      <td>1948345.43</td>\n",
       "    </tr>\n",
       "    <tr>\n",
       "      <th>5098229</th>\n",
       "      <td>331040.55</td>\n",
       "      <td>0.00</td>\n",
       "      <td>0.0</td>\n",
       "      <td>478305.15</td>\n",
       "    </tr>\n",
       "    <tr>\n",
       "      <th>5075989</th>\n",
       "      <td>40552.49</td>\n",
       "      <td>22616.00</td>\n",
       "      <td>0.0</td>\n",
       "      <td>74534.83</td>\n",
       "    </tr>\n",
       "  </tbody>\n",
       "</table>\n",
       "<p>1854490 rows × 4 columns</p>\n",
       "</div>"
      ],
      "text/plain": [
       "            amount  oldbalanceOrg  newbalanceOrig  oldbalanceDest\n",
       "1939545   10220.64           0.00             0.0      4937401.68\n",
       "6224886  124732.91      123783.00             0.0            0.00\n",
       "5772862  291258.40           0.00             0.0      1575008.43\n",
       "643073   357156.63       16175.00             0.0      6475493.88\n",
       "5491143  187017.52        8036.00             0.0       270941.65\n",
       "...            ...            ...             ...             ...\n",
       "257922   196867.17       20140.00             0.0      1260818.54\n",
       "3865239   82325.31       69725.00             0.0       596497.48\n",
       "5399156  369912.14       25405.47             0.0      1948345.43\n",
       "5098229  331040.55           0.00             0.0       478305.15\n",
       "5075989   40552.49       22616.00             0.0        74534.83\n",
       "\n",
       "[1854490 rows x 4 columns]"
      ]
     },
     "execution_count": 87,
     "metadata": {},
     "output_type": "execute_result"
    }
   ],
   "source": [
    "x_train_pre"
   ]
  },
  {
   "cell_type": "code",
   "execution_count": 88,
   "id": "203732ff",
   "metadata": {},
   "outputs": [
    {
     "data": {
      "text/plain": [
       "array([[0, 0],\n",
       "       [0, 0],\n",
       "       [0, 0],\n",
       "       ...,\n",
       "       [0, 0],\n",
       "       [0, 0],\n",
       "       [0, 1]], dtype=int64)"
      ]
     },
     "execution_count": 88,
     "metadata": {},
     "output_type": "execute_result"
    }
   ],
   "source": [
    "x_trainleft_pre"
   ]
  },
  {
   "cell_type": "code",
   "execution_count": 89,
   "id": "e716a0fc",
   "metadata": {},
   "outputs": [
    {
     "data": {
      "text/html": [
       "<style>#sk-container-id-1 {color: black;background-color: white;}#sk-container-id-1 pre{padding: 0;}#sk-container-id-1 div.sk-toggleable {background-color: white;}#sk-container-id-1 label.sk-toggleable__label {cursor: pointer;display: block;width: 100%;margin-bottom: 0;padding: 0.3em;box-sizing: border-box;text-align: center;}#sk-container-id-1 label.sk-toggleable__label-arrow:before {content: \"▸\";float: left;margin-right: 0.25em;color: #696969;}#sk-container-id-1 label.sk-toggleable__label-arrow:hover:before {color: black;}#sk-container-id-1 div.sk-estimator:hover label.sk-toggleable__label-arrow:before {color: black;}#sk-container-id-1 div.sk-toggleable__content {max-height: 0;max-width: 0;overflow: hidden;text-align: left;background-color: #f0f8ff;}#sk-container-id-1 div.sk-toggleable__content pre {margin: 0.2em;color: black;border-radius: 0.25em;background-color: #f0f8ff;}#sk-container-id-1 input.sk-toggleable__control:checked~div.sk-toggleable__content {max-height: 200px;max-width: 100%;overflow: auto;}#sk-container-id-1 input.sk-toggleable__control:checked~label.sk-toggleable__label-arrow:before {content: \"▾\";}#sk-container-id-1 div.sk-estimator input.sk-toggleable__control:checked~label.sk-toggleable__label {background-color: #d4ebff;}#sk-container-id-1 div.sk-label input.sk-toggleable__control:checked~label.sk-toggleable__label {background-color: #d4ebff;}#sk-container-id-1 input.sk-hidden--visually {border: 0;clip: rect(1px 1px 1px 1px);clip: rect(1px, 1px, 1px, 1px);height: 1px;margin: -1px;overflow: hidden;padding: 0;position: absolute;width: 1px;}#sk-container-id-1 div.sk-estimator {font-family: monospace;background-color: #f0f8ff;border: 1px dotted black;border-radius: 0.25em;box-sizing: border-box;margin-bottom: 0.5em;}#sk-container-id-1 div.sk-estimator:hover {background-color: #d4ebff;}#sk-container-id-1 div.sk-parallel-item::after {content: \"\";width: 100%;border-bottom: 1px solid gray;flex-grow: 1;}#sk-container-id-1 div.sk-label:hover label.sk-toggleable__label {background-color: #d4ebff;}#sk-container-id-1 div.sk-serial::before {content: \"\";position: absolute;border-left: 1px solid gray;box-sizing: border-box;top: 0;bottom: 0;left: 50%;z-index: 0;}#sk-container-id-1 div.sk-serial {display: flex;flex-direction: column;align-items: center;background-color: white;padding-right: 0.2em;padding-left: 0.2em;position: relative;}#sk-container-id-1 div.sk-item {position: relative;z-index: 1;}#sk-container-id-1 div.sk-parallel {display: flex;align-items: stretch;justify-content: center;background-color: white;position: relative;}#sk-container-id-1 div.sk-item::before, #sk-container-id-1 div.sk-parallel-item::before {content: \"\";position: absolute;border-left: 1px solid gray;box-sizing: border-box;top: 0;bottom: 0;left: 50%;z-index: -1;}#sk-container-id-1 div.sk-parallel-item {display: flex;flex-direction: column;z-index: 1;position: relative;background-color: white;}#sk-container-id-1 div.sk-parallel-item:first-child::after {align-self: flex-end;width: 50%;}#sk-container-id-1 div.sk-parallel-item:last-child::after {align-self: flex-start;width: 50%;}#sk-container-id-1 div.sk-parallel-item:only-child::after {width: 0;}#sk-container-id-1 div.sk-dashed-wrapped {border: 1px dashed gray;margin: 0 0.4em 0.5em 0.4em;box-sizing: border-box;padding-bottom: 0.4em;background-color: white;}#sk-container-id-1 div.sk-label label {font-family: monospace;font-weight: bold;display: inline-block;line-height: 1.2em;}#sk-container-id-1 div.sk-label-container {text-align: center;}#sk-container-id-1 div.sk-container {/* jupyter's `normalize.less` sets `[hidden] { display: none; }` but bootstrap.min.css set `[hidden] { display: none !important; }` so we also need the `!important` here to be able to override the default hidden behavior on the sphinx rendered scikit-learn.org. See: https://github.com/scikit-learn/scikit-learn/issues/21755 */display: inline-block !important;position: relative;}#sk-container-id-1 div.sk-text-repr-fallback {display: none;}</style><div id=\"sk-container-id-1\" class=\"sk-top-container\"><div class=\"sk-text-repr-fallback\"><pre>MinMaxScaler()</pre><b>In a Jupyter environment, please rerun this cell to show the HTML representation or trust the notebook. <br />On GitHub, the HTML representation is unable to render, please try loading this page with nbviewer.org.</b></div><div class=\"sk-container\" hidden><div class=\"sk-item\"><div class=\"sk-estimator sk-toggleable\"><input class=\"sk-toggleable__control sk-hidden--visually\" id=\"sk-estimator-id-1\" type=\"checkbox\" checked><label for=\"sk-estimator-id-1\" class=\"sk-toggleable__label sk-toggleable__label-arrow\">MinMaxScaler</label><div class=\"sk-toggleable__content\"><pre>MinMaxScaler()</pre></div></div></div></div></div>"
      ],
      "text/plain": [
       "MinMaxScaler()"
      ]
     },
     "execution_count": 89,
     "metadata": {},
     "output_type": "execute_result"
    }
   ],
   "source": [
    "from sklearn.preprocessing import MinMaxScaler\n",
    "scaler = MinMaxScaler()\n",
    "scaler.fit(x_train_pre)"
   ]
  },
  {
   "cell_type": "code",
   "execution_count": 90,
   "id": "ddf0351b",
   "metadata": {},
   "outputs": [],
   "source": [
    "x_train_scaled = scaler.transform(x_train_pre)\n",
    "x_test_scaled = scaler.transform(x_test_pre)"
   ]
  },
  {
   "cell_type": "code",
   "execution_count": 91,
   "id": "a3a90423",
   "metadata": {},
   "outputs": [
    {
     "data": {
      "text/plain": [
       "array([[0.00102206, 0.        , 0.        , 0.02092212],\n",
       "       [0.01247329, 0.00207742, 0.        , 0.        ],\n",
       "       [0.02912584, 0.        , 0.        , 0.00667406],\n",
       "       ...,\n",
       "       [0.03699121, 0.00042637, 0.        , 0.00825607],\n",
       "       [0.03310405, 0.        , 0.        , 0.00202681],\n",
       "       [0.00405525, 0.00037956, 0.        , 0.00031584]])"
      ]
     },
     "execution_count": 91,
     "metadata": {},
     "output_type": "execute_result"
    }
   ],
   "source": [
    "x_train_scaled"
   ]
  },
  {
   "cell_type": "code",
   "execution_count": 92,
   "id": "a2f4d781",
   "metadata": {},
   "outputs": [],
   "source": [
    "x_test_scaled = pd.DataFrame(data= x_test_scaled)"
   ]
  },
  {
   "cell_type": "code",
   "execution_count": 93,
   "id": "6bd4b552",
   "metadata": {},
   "outputs": [],
   "source": [
    "x_testleft_pre = pd.DataFrame(data= x_testleft_pre)"
   ]
  },
  {
   "cell_type": "code",
   "execution_count": 94,
   "id": "81a5ad03",
   "metadata": {},
   "outputs": [],
   "source": [
    "x_train_scaled = pd.DataFrame(data= x_train_scaled)\n"
   ]
  },
  {
   "cell_type": "code",
   "execution_count": 95,
   "id": "079ffeb9",
   "metadata": {},
   "outputs": [],
   "source": [
    "x_trainleft_pre = pd.DataFrame(data= x_trainleft_pre)"
   ]
  },
  {
   "cell_type": "code",
   "execution_count": 98,
   "id": "2d6c46ac",
   "metadata": {},
   "outputs": [],
   "source": [
    "x_train_final = pd.concat([x_train_scaled,x_trainleft_pre], axis=1)\n",
    "x_test_final = pd.concat([x_test_scaled,x_testleft_pre], axis=1)"
   ]
  },
  {
   "cell_type": "code",
   "execution_count": 99,
   "id": "2d87f8ee",
   "metadata": {},
   "outputs": [
    {
     "data": {
      "text/html": [
       "<div>\n",
       "<style scoped>\n",
       "    .dataframe tbody tr th:only-of-type {\n",
       "        vertical-align: middle;\n",
       "    }\n",
       "\n",
       "    .dataframe tbody tr th {\n",
       "        vertical-align: top;\n",
       "    }\n",
       "\n",
       "    .dataframe thead th {\n",
       "        text-align: right;\n",
       "    }\n",
       "</style>\n",
       "<table border=\"1\" class=\"dataframe\">\n",
       "  <thead>\n",
       "    <tr style=\"text-align: right;\">\n",
       "      <th></th>\n",
       "      <th>0</th>\n",
       "      <th>1</th>\n",
       "      <th>2</th>\n",
       "      <th>3</th>\n",
       "      <th>0</th>\n",
       "      <th>1</th>\n",
       "    </tr>\n",
       "  </thead>\n",
       "  <tbody>\n",
       "    <tr>\n",
       "      <th>0</th>\n",
       "      <td>0.006461</td>\n",
       "      <td>0.000088</td>\n",
       "      <td>0.0</td>\n",
       "      <td>0.000000</td>\n",
       "      <td>0</td>\n",
       "      <td>0</td>\n",
       "    </tr>\n",
       "    <tr>\n",
       "      <th>1</th>\n",
       "      <td>0.018361</td>\n",
       "      <td>0.000000</td>\n",
       "      <td>0.0</td>\n",
       "      <td>0.000931</td>\n",
       "      <td>0</td>\n",
       "      <td>0</td>\n",
       "    </tr>\n",
       "    <tr>\n",
       "      <th>2</th>\n",
       "      <td>0.001681</td>\n",
       "      <td>0.000000</td>\n",
       "      <td>0.0</td>\n",
       "      <td>0.008035</td>\n",
       "      <td>0</td>\n",
       "      <td>0</td>\n",
       "    </tr>\n",
       "    <tr>\n",
       "      <th>3</th>\n",
       "      <td>0.029239</td>\n",
       "      <td>0.000000</td>\n",
       "      <td>0.0</td>\n",
       "      <td>0.012897</td>\n",
       "      <td>0</td>\n",
       "      <td>0</td>\n",
       "    </tr>\n",
       "    <tr>\n",
       "      <th>4</th>\n",
       "      <td>0.026673</td>\n",
       "      <td>0.000000</td>\n",
       "      <td>0.0</td>\n",
       "      <td>0.006098</td>\n",
       "      <td>0</td>\n",
       "      <td>0</td>\n",
       "    </tr>\n",
       "    <tr>\n",
       "      <th>...</th>\n",
       "      <td>...</td>\n",
       "      <td>...</td>\n",
       "      <td>...</td>\n",
       "      <td>...</td>\n",
       "      <td>...</td>\n",
       "      <td>...</td>\n",
       "    </tr>\n",
       "    <tr>\n",
       "      <th>913401</th>\n",
       "      <td>0.065255</td>\n",
       "      <td>0.000000</td>\n",
       "      <td>0.0</td>\n",
       "      <td>0.010922</td>\n",
       "      <td>0</td>\n",
       "      <td>1</td>\n",
       "    </tr>\n",
       "    <tr>\n",
       "      <th>913402</th>\n",
       "      <td>0.043960</td>\n",
       "      <td>0.000000</td>\n",
       "      <td>0.0</td>\n",
       "      <td>0.008784</td>\n",
       "      <td>0</td>\n",
       "      <td>1</td>\n",
       "    </tr>\n",
       "    <tr>\n",
       "      <th>913403</th>\n",
       "      <td>1.000000</td>\n",
       "      <td>0.000175</td>\n",
       "      <td>0.0</td>\n",
       "      <td>0.000000</td>\n",
       "      <td>0</td>\n",
       "      <td>1</td>\n",
       "    </tr>\n",
       "    <tr>\n",
       "      <th>913404</th>\n",
       "      <td>0.006460</td>\n",
       "      <td>0.000355</td>\n",
       "      <td>0.0</td>\n",
       "      <td>0.006485</td>\n",
       "      <td>0</td>\n",
       "      <td>0</td>\n",
       "    </tr>\n",
       "    <tr>\n",
       "      <th>913405</th>\n",
       "      <td>0.014612</td>\n",
       "      <td>0.000000</td>\n",
       "      <td>0.0</td>\n",
       "      <td>0.001936</td>\n",
       "      <td>0</td>\n",
       "      <td>1</td>\n",
       "    </tr>\n",
       "  </tbody>\n",
       "</table>\n",
       "<p>913406 rows × 6 columns</p>\n",
       "</div>"
      ],
      "text/plain": [
       "               0         1    2         3  0  1\n",
       "0       0.006461  0.000088  0.0  0.000000  0  0\n",
       "1       0.018361  0.000000  0.0  0.000931  0  0\n",
       "2       0.001681  0.000000  0.0  0.008035  0  0\n",
       "3       0.029239  0.000000  0.0  0.012897  0  0\n",
       "4       0.026673  0.000000  0.0  0.006098  0  0\n",
       "...          ...       ...  ...       ... .. ..\n",
       "913401  0.065255  0.000000  0.0  0.010922  0  1\n",
       "913402  0.043960  0.000000  0.0  0.008784  0  1\n",
       "913403  1.000000  0.000175  0.0  0.000000  0  1\n",
       "913404  0.006460  0.000355  0.0  0.006485  0  0\n",
       "913405  0.014612  0.000000  0.0  0.001936  0  1\n",
       "\n",
       "[913406 rows x 6 columns]"
      ]
     },
     "execution_count": 99,
     "metadata": {},
     "output_type": "execute_result"
    }
   ],
   "source": [
    "x_test_final"
   ]
  },
  {
   "cell_type": "code",
   "execution_count": 100,
   "id": "87b0d790",
   "metadata": {},
   "outputs": [],
   "source": [
    "x_train_final = x_train_final.values\n",
    "x_test_final = x_test_final.values"
   ]
  },
  {
   "cell_type": "code",
   "execution_count": 101,
   "id": "5be0f3ca",
   "metadata": {},
   "outputs": [
    {
     "data": {
      "text/plain": [
       "array([[1.02206300e-03, 0.00000000e+00, 0.00000000e+00, 2.09221222e-02,\n",
       "        0.00000000e+00, 0.00000000e+00],\n",
       "       [1.24732900e-02, 2.07741741e-03, 0.00000000e+00, 0.00000000e+00,\n",
       "        0.00000000e+00, 0.00000000e+00],\n",
       "       [2.91258390e-02, 0.00000000e+00, 0.00000000e+00, 6.67406078e-03,\n",
       "        0.00000000e+00, 0.00000000e+00],\n",
       "       ...,\n",
       "       [3.69912130e-02, 4.26373295e-04, 0.00000000e+00, 8.25606744e-03,\n",
       "        0.00000000e+00, 0.00000000e+00],\n",
       "       [3.31040540e-02, 0.00000000e+00, 0.00000000e+00, 2.02680670e-03,\n",
       "        0.00000000e+00, 0.00000000e+00],\n",
       "       [4.05524800e-03, 3.79558357e-04, 0.00000000e+00, 3.15839570e-04,\n",
       "        0.00000000e+00, 1.00000000e+00]])"
      ]
     },
     "execution_count": 101,
     "metadata": {},
     "output_type": "execute_result"
    }
   ],
   "source": [
    "x_train_final"
   ]
  },
  {
   "cell_type": "markdown",
   "id": "4f929c35",
   "metadata": {},
   "source": [
    "## Model Implementation"
   ]
  },
  {
   "cell_type": "markdown",
   "id": "a05b2e3c",
   "metadata": {},
   "source": [
    "### LOGISTIC REGRESSION"
   ]
  },
  {
   "cell_type": "code",
   "execution_count": 286,
   "id": "c239f20d",
   "metadata": {},
   "outputs": [
    {
     "data": {
      "text/html": [
       "<style>#sk-container-id-12 {color: black;background-color: white;}#sk-container-id-12 pre{padding: 0;}#sk-container-id-12 div.sk-toggleable {background-color: white;}#sk-container-id-12 label.sk-toggleable__label {cursor: pointer;display: block;width: 100%;margin-bottom: 0;padding: 0.3em;box-sizing: border-box;text-align: center;}#sk-container-id-12 label.sk-toggleable__label-arrow:before {content: \"▸\";float: left;margin-right: 0.25em;color: #696969;}#sk-container-id-12 label.sk-toggleable__label-arrow:hover:before {color: black;}#sk-container-id-12 div.sk-estimator:hover label.sk-toggleable__label-arrow:before {color: black;}#sk-container-id-12 div.sk-toggleable__content {max-height: 0;max-width: 0;overflow: hidden;text-align: left;background-color: #f0f8ff;}#sk-container-id-12 div.sk-toggleable__content pre {margin: 0.2em;color: black;border-radius: 0.25em;background-color: #f0f8ff;}#sk-container-id-12 input.sk-toggleable__control:checked~div.sk-toggleable__content {max-height: 200px;max-width: 100%;overflow: auto;}#sk-container-id-12 input.sk-toggleable__control:checked~label.sk-toggleable__label-arrow:before {content: \"▾\";}#sk-container-id-12 div.sk-estimator input.sk-toggleable__control:checked~label.sk-toggleable__label {background-color: #d4ebff;}#sk-container-id-12 div.sk-label input.sk-toggleable__control:checked~label.sk-toggleable__label {background-color: #d4ebff;}#sk-container-id-12 input.sk-hidden--visually {border: 0;clip: rect(1px 1px 1px 1px);clip: rect(1px, 1px, 1px, 1px);height: 1px;margin: -1px;overflow: hidden;padding: 0;position: absolute;width: 1px;}#sk-container-id-12 div.sk-estimator {font-family: monospace;background-color: #f0f8ff;border: 1px dotted black;border-radius: 0.25em;box-sizing: border-box;margin-bottom: 0.5em;}#sk-container-id-12 div.sk-estimator:hover {background-color: #d4ebff;}#sk-container-id-12 div.sk-parallel-item::after {content: \"\";width: 100%;border-bottom: 1px solid gray;flex-grow: 1;}#sk-container-id-12 div.sk-label:hover label.sk-toggleable__label {background-color: #d4ebff;}#sk-container-id-12 div.sk-serial::before {content: \"\";position: absolute;border-left: 1px solid gray;box-sizing: border-box;top: 0;bottom: 0;left: 50%;z-index: 0;}#sk-container-id-12 div.sk-serial {display: flex;flex-direction: column;align-items: center;background-color: white;padding-right: 0.2em;padding-left: 0.2em;position: relative;}#sk-container-id-12 div.sk-item {position: relative;z-index: 1;}#sk-container-id-12 div.sk-parallel {display: flex;align-items: stretch;justify-content: center;background-color: white;position: relative;}#sk-container-id-12 div.sk-item::before, #sk-container-id-12 div.sk-parallel-item::before {content: \"\";position: absolute;border-left: 1px solid gray;box-sizing: border-box;top: 0;bottom: 0;left: 50%;z-index: -1;}#sk-container-id-12 div.sk-parallel-item {display: flex;flex-direction: column;z-index: 1;position: relative;background-color: white;}#sk-container-id-12 div.sk-parallel-item:first-child::after {align-self: flex-end;width: 50%;}#sk-container-id-12 div.sk-parallel-item:last-child::after {align-self: flex-start;width: 50%;}#sk-container-id-12 div.sk-parallel-item:only-child::after {width: 0;}#sk-container-id-12 div.sk-dashed-wrapped {border: 1px dashed gray;margin: 0 0.4em 0.5em 0.4em;box-sizing: border-box;padding-bottom: 0.4em;background-color: white;}#sk-container-id-12 div.sk-label label {font-family: monospace;font-weight: bold;display: inline-block;line-height: 1.2em;}#sk-container-id-12 div.sk-label-container {text-align: center;}#sk-container-id-12 div.sk-container {/* jupyter's `normalize.less` sets `[hidden] { display: none; }` but bootstrap.min.css set `[hidden] { display: none !important; }` so we also need the `!important` here to be able to override the default hidden behavior on the sphinx rendered scikit-learn.org. See: https://github.com/scikit-learn/scikit-learn/issues/21755 */display: inline-block !important;position: relative;}#sk-container-id-12 div.sk-text-repr-fallback {display: none;}</style><div id=\"sk-container-id-12\" class=\"sk-top-container\"><div class=\"sk-text-repr-fallback\"><pre>LogisticRegression()</pre><b>In a Jupyter environment, please rerun this cell to show the HTML representation or trust the notebook. <br />On GitHub, the HTML representation is unable to render, please try loading this page with nbviewer.org.</b></div><div class=\"sk-container\" hidden><div class=\"sk-item\"><div class=\"sk-estimator sk-toggleable\"><input class=\"sk-toggleable__control sk-hidden--visually\" id=\"sk-estimator-id-12\" type=\"checkbox\" checked><label for=\"sk-estimator-id-12\" class=\"sk-toggleable__label sk-toggleable__label-arrow\">LogisticRegression</label><div class=\"sk-toggleable__content\"><pre>LogisticRegression()</pre></div></div></div></div></div>"
      ],
      "text/plain": [
       "LogisticRegression()"
      ]
     },
     "execution_count": 286,
     "metadata": {},
     "output_type": "execute_result"
    }
   ],
   "source": [
    "logmodel = LogisticRegression()\n",
    "logmodel.fit(x_train_final,y_train)"
   ]
  },
  {
   "cell_type": "code",
   "execution_count": 287,
   "id": "5b66186a",
   "metadata": {},
   "outputs": [],
   "source": [
    "predictions = logmodel.predict(x_test_final)"
   ]
  },
  {
   "cell_type": "code",
   "execution_count": 288,
   "id": "3b4d03a3",
   "metadata": {},
   "outputs": [
    {
     "name": "stdout",
     "output_type": "stream",
     "text": [
      "[[910723     11]\n",
      " [  2403    269]]\n"
     ]
    }
   ],
   "source": [
    "print(confusion_matrix(y_test, predictions))"
   ]
  },
  {
   "cell_type": "code",
   "execution_count": 289,
   "id": "b113010d",
   "metadata": {},
   "outputs": [
    {
     "name": "stdout",
     "output_type": "stream",
     "text": [
      "              precision    recall  f1-score   support\n",
      "\n",
      "           0       1.00      1.00      1.00    910734\n",
      "           1       0.96      0.10      0.18      2672\n",
      "\n",
      "    accuracy                           1.00    913406\n",
      "   macro avg       0.98      0.55      0.59    913406\n",
      "weighted avg       1.00      1.00      1.00    913406\n",
      "\n"
     ]
    }
   ],
   "source": [
    "print(classification_report(y_test, predictions))"
   ]
  },
  {
   "cell_type": "code",
   "execution_count": 290,
   "id": "f98dfb00",
   "metadata": {},
   "outputs": [
    {
     "name": "stdout",
     "output_type": "stream",
     "text": [
      "Accuracy_Score:  99.73571445775482\n",
      "Recall_Score:  10.067365269461078\n",
      "Precision_Score:  96.07142857142857\n",
      "F1_Score:  18.224932249322492\n"
     ]
    }
   ],
   "source": [
    "from sklearn.metrics import accuracy_score, recall_score, precision_score, f1_score\n",
    "print(\"Accuracy_Score: \",(accuracy_score(y_test, predictions))*100)\n",
    "print(\"Recall_Score: \",(recall_score(y_test, predictions))*100)\n",
    "print(\"Precision_Score: \",(precision_score(y_test, predictions))*100)\n",
    "print(\"F1_Score: \",(f1_score(y_test, predictions))*100)"
   ]
  },
  {
   "cell_type": "markdown",
   "id": "3b45f739",
   "metadata": {},
   "source": [
    "## Apply Cross-Validation"
   ]
  },
  {
   "cell_type": "code",
   "execution_count": 291,
   "id": "685d429a",
   "metadata": {},
   "outputs": [],
   "source": [
    "from sklearn.model_selection import cross_val_score\n",
    "model = LogisticRegression()\n",
    "cross_score = cross_val_score(model, x_train_final,y_train,cv=10, scoring='recall')"
   ]
  },
  {
   "cell_type": "code",
   "execution_count": 292,
   "id": "ddf969f8",
   "metadata": {},
   "outputs": [
    {
     "data": {
      "text/plain": [
       "9.381818181818183"
      ]
     },
     "execution_count": 292,
     "metadata": {},
     "output_type": "execute_result"
    }
   ],
   "source": [
    "cross_score.mean() *100"
   ]
  },
  {
   "cell_type": "markdown",
   "id": "0bf608ac",
   "metadata": {},
   "source": [
    "## Decision Tree Classifier"
   ]
  },
  {
   "cell_type": "code",
   "execution_count": 293,
   "id": "dc82d8d6",
   "metadata": {},
   "outputs": [
    {
     "data": {
      "text/html": [
       "<style>#sk-container-id-13 {color: black;background-color: white;}#sk-container-id-13 pre{padding: 0;}#sk-container-id-13 div.sk-toggleable {background-color: white;}#sk-container-id-13 label.sk-toggleable__label {cursor: pointer;display: block;width: 100%;margin-bottom: 0;padding: 0.3em;box-sizing: border-box;text-align: center;}#sk-container-id-13 label.sk-toggleable__label-arrow:before {content: \"▸\";float: left;margin-right: 0.25em;color: #696969;}#sk-container-id-13 label.sk-toggleable__label-arrow:hover:before {color: black;}#sk-container-id-13 div.sk-estimator:hover label.sk-toggleable__label-arrow:before {color: black;}#sk-container-id-13 div.sk-toggleable__content {max-height: 0;max-width: 0;overflow: hidden;text-align: left;background-color: #f0f8ff;}#sk-container-id-13 div.sk-toggleable__content pre {margin: 0.2em;color: black;border-radius: 0.25em;background-color: #f0f8ff;}#sk-container-id-13 input.sk-toggleable__control:checked~div.sk-toggleable__content {max-height: 200px;max-width: 100%;overflow: auto;}#sk-container-id-13 input.sk-toggleable__control:checked~label.sk-toggleable__label-arrow:before {content: \"▾\";}#sk-container-id-13 div.sk-estimator input.sk-toggleable__control:checked~label.sk-toggleable__label {background-color: #d4ebff;}#sk-container-id-13 div.sk-label input.sk-toggleable__control:checked~label.sk-toggleable__label {background-color: #d4ebff;}#sk-container-id-13 input.sk-hidden--visually {border: 0;clip: rect(1px 1px 1px 1px);clip: rect(1px, 1px, 1px, 1px);height: 1px;margin: -1px;overflow: hidden;padding: 0;position: absolute;width: 1px;}#sk-container-id-13 div.sk-estimator {font-family: monospace;background-color: #f0f8ff;border: 1px dotted black;border-radius: 0.25em;box-sizing: border-box;margin-bottom: 0.5em;}#sk-container-id-13 div.sk-estimator:hover {background-color: #d4ebff;}#sk-container-id-13 div.sk-parallel-item::after {content: \"\";width: 100%;border-bottom: 1px solid gray;flex-grow: 1;}#sk-container-id-13 div.sk-label:hover label.sk-toggleable__label {background-color: #d4ebff;}#sk-container-id-13 div.sk-serial::before {content: \"\";position: absolute;border-left: 1px solid gray;box-sizing: border-box;top: 0;bottom: 0;left: 50%;z-index: 0;}#sk-container-id-13 div.sk-serial {display: flex;flex-direction: column;align-items: center;background-color: white;padding-right: 0.2em;padding-left: 0.2em;position: relative;}#sk-container-id-13 div.sk-item {position: relative;z-index: 1;}#sk-container-id-13 div.sk-parallel {display: flex;align-items: stretch;justify-content: center;background-color: white;position: relative;}#sk-container-id-13 div.sk-item::before, #sk-container-id-13 div.sk-parallel-item::before {content: \"\";position: absolute;border-left: 1px solid gray;box-sizing: border-box;top: 0;bottom: 0;left: 50%;z-index: -1;}#sk-container-id-13 div.sk-parallel-item {display: flex;flex-direction: column;z-index: 1;position: relative;background-color: white;}#sk-container-id-13 div.sk-parallel-item:first-child::after {align-self: flex-end;width: 50%;}#sk-container-id-13 div.sk-parallel-item:last-child::after {align-self: flex-start;width: 50%;}#sk-container-id-13 div.sk-parallel-item:only-child::after {width: 0;}#sk-container-id-13 div.sk-dashed-wrapped {border: 1px dashed gray;margin: 0 0.4em 0.5em 0.4em;box-sizing: border-box;padding-bottom: 0.4em;background-color: white;}#sk-container-id-13 div.sk-label label {font-family: monospace;font-weight: bold;display: inline-block;line-height: 1.2em;}#sk-container-id-13 div.sk-label-container {text-align: center;}#sk-container-id-13 div.sk-container {/* jupyter's `normalize.less` sets `[hidden] { display: none; }` but bootstrap.min.css set `[hidden] { display: none !important; }` so we also need the `!important` here to be able to override the default hidden behavior on the sphinx rendered scikit-learn.org. See: https://github.com/scikit-learn/scikit-learn/issues/21755 */display: inline-block !important;position: relative;}#sk-container-id-13 div.sk-text-repr-fallback {display: none;}</style><div id=\"sk-container-id-13\" class=\"sk-top-container\"><div class=\"sk-text-repr-fallback\"><pre>DecisionTreeClassifier()</pre><b>In a Jupyter environment, please rerun this cell to show the HTML representation or trust the notebook. <br />On GitHub, the HTML representation is unable to render, please try loading this page with nbviewer.org.</b></div><div class=\"sk-container\" hidden><div class=\"sk-item\"><div class=\"sk-estimator sk-toggleable\"><input class=\"sk-toggleable__control sk-hidden--visually\" id=\"sk-estimator-id-13\" type=\"checkbox\" checked><label for=\"sk-estimator-id-13\" class=\"sk-toggleable__label sk-toggleable__label-arrow\">DecisionTreeClassifier</label><div class=\"sk-toggleable__content\"><pre>DecisionTreeClassifier()</pre></div></div></div></div></div>"
      ],
      "text/plain": [
       "DecisionTreeClassifier()"
      ]
     },
     "execution_count": 293,
     "metadata": {},
     "output_type": "execute_result"
    }
   ],
   "source": [
    "from sklearn.tree import DecisionTreeClassifier\n",
    "dtree= DecisionTreeClassifier()\n",
    "dtree.fit(x_train_final,y_train)"
   ]
  },
  {
   "cell_type": "code",
   "execution_count": 294,
   "id": "65f299d7",
   "metadata": {},
   "outputs": [],
   "source": [
    "predictions= dtree.predict(x_test_final)"
   ]
  },
  {
   "cell_type": "code",
   "execution_count": 295,
   "id": "9247d451",
   "metadata": {},
   "outputs": [
    {
     "name": "stdout",
     "output_type": "stream",
     "text": [
      "Accuracy_Score:  99.91548117704504\n",
      "Recall_Score:  85.10479041916167\n",
      "Precision_Score:  85.87613293051359\n",
      "F1_Score:  85.48872180451129\n"
     ]
    }
   ],
   "source": [
    "print(\"Accuracy_Score: \",(accuracy_score(y_test, predictions))*100)\n",
    "print(\"Recall_Score: \",(recall_score(y_test, predictions))*100)\n",
    "print(\"Precision_Score: \",(precision_score(y_test, predictions))*100)\n",
    "print(\"F1_Score: \",(f1_score(y_test, predictions))*100)"
   ]
  },
  {
   "cell_type": "markdown",
   "id": "dc779bd8",
   "metadata": {},
   "source": [
    "## Random Forest Classifier"
   ]
  },
  {
   "cell_type": "code",
   "execution_count": 296,
   "id": "d8872359",
   "metadata": {},
   "outputs": [
    {
     "data": {
      "text/html": [
       "<style>#sk-container-id-14 {color: black;background-color: white;}#sk-container-id-14 pre{padding: 0;}#sk-container-id-14 div.sk-toggleable {background-color: white;}#sk-container-id-14 label.sk-toggleable__label {cursor: pointer;display: block;width: 100%;margin-bottom: 0;padding: 0.3em;box-sizing: border-box;text-align: center;}#sk-container-id-14 label.sk-toggleable__label-arrow:before {content: \"▸\";float: left;margin-right: 0.25em;color: #696969;}#sk-container-id-14 label.sk-toggleable__label-arrow:hover:before {color: black;}#sk-container-id-14 div.sk-estimator:hover label.sk-toggleable__label-arrow:before {color: black;}#sk-container-id-14 div.sk-toggleable__content {max-height: 0;max-width: 0;overflow: hidden;text-align: left;background-color: #f0f8ff;}#sk-container-id-14 div.sk-toggleable__content pre {margin: 0.2em;color: black;border-radius: 0.25em;background-color: #f0f8ff;}#sk-container-id-14 input.sk-toggleable__control:checked~div.sk-toggleable__content {max-height: 200px;max-width: 100%;overflow: auto;}#sk-container-id-14 input.sk-toggleable__control:checked~label.sk-toggleable__label-arrow:before {content: \"▾\";}#sk-container-id-14 div.sk-estimator input.sk-toggleable__control:checked~label.sk-toggleable__label {background-color: #d4ebff;}#sk-container-id-14 div.sk-label input.sk-toggleable__control:checked~label.sk-toggleable__label {background-color: #d4ebff;}#sk-container-id-14 input.sk-hidden--visually {border: 0;clip: rect(1px 1px 1px 1px);clip: rect(1px, 1px, 1px, 1px);height: 1px;margin: -1px;overflow: hidden;padding: 0;position: absolute;width: 1px;}#sk-container-id-14 div.sk-estimator {font-family: monospace;background-color: #f0f8ff;border: 1px dotted black;border-radius: 0.25em;box-sizing: border-box;margin-bottom: 0.5em;}#sk-container-id-14 div.sk-estimator:hover {background-color: #d4ebff;}#sk-container-id-14 div.sk-parallel-item::after {content: \"\";width: 100%;border-bottom: 1px solid gray;flex-grow: 1;}#sk-container-id-14 div.sk-label:hover label.sk-toggleable__label {background-color: #d4ebff;}#sk-container-id-14 div.sk-serial::before {content: \"\";position: absolute;border-left: 1px solid gray;box-sizing: border-box;top: 0;bottom: 0;left: 50%;z-index: 0;}#sk-container-id-14 div.sk-serial {display: flex;flex-direction: column;align-items: center;background-color: white;padding-right: 0.2em;padding-left: 0.2em;position: relative;}#sk-container-id-14 div.sk-item {position: relative;z-index: 1;}#sk-container-id-14 div.sk-parallel {display: flex;align-items: stretch;justify-content: center;background-color: white;position: relative;}#sk-container-id-14 div.sk-item::before, #sk-container-id-14 div.sk-parallel-item::before {content: \"\";position: absolute;border-left: 1px solid gray;box-sizing: border-box;top: 0;bottom: 0;left: 50%;z-index: -1;}#sk-container-id-14 div.sk-parallel-item {display: flex;flex-direction: column;z-index: 1;position: relative;background-color: white;}#sk-container-id-14 div.sk-parallel-item:first-child::after {align-self: flex-end;width: 50%;}#sk-container-id-14 div.sk-parallel-item:last-child::after {align-self: flex-start;width: 50%;}#sk-container-id-14 div.sk-parallel-item:only-child::after {width: 0;}#sk-container-id-14 div.sk-dashed-wrapped {border: 1px dashed gray;margin: 0 0.4em 0.5em 0.4em;box-sizing: border-box;padding-bottom: 0.4em;background-color: white;}#sk-container-id-14 div.sk-label label {font-family: monospace;font-weight: bold;display: inline-block;line-height: 1.2em;}#sk-container-id-14 div.sk-label-container {text-align: center;}#sk-container-id-14 div.sk-container {/* jupyter's `normalize.less` sets `[hidden] { display: none; }` but bootstrap.min.css set `[hidden] { display: none !important; }` so we also need the `!important` here to be able to override the default hidden behavior on the sphinx rendered scikit-learn.org. See: https://github.com/scikit-learn/scikit-learn/issues/21755 */display: inline-block !important;position: relative;}#sk-container-id-14 div.sk-text-repr-fallback {display: none;}</style><div id=\"sk-container-id-14\" class=\"sk-top-container\"><div class=\"sk-text-repr-fallback\"><pre>RandomForestClassifier()</pre><b>In a Jupyter environment, please rerun this cell to show the HTML representation or trust the notebook. <br />On GitHub, the HTML representation is unable to render, please try loading this page with nbviewer.org.</b></div><div class=\"sk-container\" hidden><div class=\"sk-item\"><div class=\"sk-estimator sk-toggleable\"><input class=\"sk-toggleable__control sk-hidden--visually\" id=\"sk-estimator-id-14\" type=\"checkbox\" checked><label for=\"sk-estimator-id-14\" class=\"sk-toggleable__label sk-toggleable__label-arrow\">RandomForestClassifier</label><div class=\"sk-toggleable__content\"><pre>RandomForestClassifier()</pre></div></div></div></div></div>"
      ],
      "text/plain": [
       "RandomForestClassifier()"
      ]
     },
     "execution_count": 296,
     "metadata": {},
     "output_type": "execute_result"
    }
   ],
   "source": [
    "from sklearn.ensemble import RandomForestClassifier\n",
    "random_forest = RandomForestClassifier(n_estimators=100)\n",
    "random_forest.fit(x_train_final, y_train)"
   ]
  },
  {
   "cell_type": "code",
   "execution_count": 297,
   "id": "d46d07fe",
   "metadata": {},
   "outputs": [],
   "source": [
    "predictions = random_forest.predict(x_test_final)"
   ]
  },
  {
   "cell_type": "code",
   "execution_count": 298,
   "id": "cc5c2f2d",
   "metadata": {},
   "outputs": [
    {
     "name": "stdout",
     "output_type": "stream",
     "text": [
      "Accuracy_Score:  99.90770807286135\n",
      "Recall_Score:  71.48203592814372\n",
      "Precision_Score:  95.93169261677549\n",
      "F1_Score:  81.92150975766674\n"
     ]
    }
   ],
   "source": [
    "print(\"Accuracy_Score: \",(accuracy_score(y_test, predictions))*100)\n",
    "print(\"Recall_Score: \",(recall_score(y_test, predictions))*100)\n",
    "print(\"Precision_Score: \",(precision_score(y_test, predictions))*100)\n",
    "print(\"F1_Score: \",(f1_score(y_test, predictions))*100)"
   ]
  },
  {
   "cell_type": "markdown",
   "id": "18153c1d",
   "metadata": {},
   "source": [
    "### Search for best set of Parameters using GridSearchCV"
   ]
  },
  {
   "cell_type": "code",
   "execution_count": 423,
   "id": "0826cad3",
   "metadata": {},
   "outputs": [],
   "source": [
    "param_grid ={\n",
    "    'n_estimators' : [10, 50, 100, 200],\n",
    "    'max_depth' : [None, 10, 20],\n",
    "    'min_samples_split': [2, 5, 10],\n",
    "    'min_samples_leaf': [1, 2, 4]\n",
    "}"
   ]
  },
  {
   "cell_type": "code",
   "execution_count": 424,
   "id": "2af8f63b",
   "metadata": {},
   "outputs": [],
   "source": [
    "from sklearn.model_selection import GridSearchCV\n",
    "model_random = RandomForestClassifier()\n",
    "grid_search = GridSearchCV(estimator=model_random, param_grid= param_grid,scoring='recall', cv=5, verbose=1, )"
   ]
  },
  {
   "cell_type": "code",
   "execution_count": null,
   "id": "bd01b7b9",
   "metadata": {},
   "outputs": [],
   "source": [
    "grid_search.fit(x_train_final, y_train)"
   ]
  },
  {
   "cell_type": "markdown",
   "id": "12c6c27e",
   "metadata": {},
   "source": [
    "## K-Nearest Neighbors"
   ]
  },
  {
   "cell_type": "code",
   "execution_count": 299,
   "id": "142dcca9",
   "metadata": {},
   "outputs": [
    {
     "data": {
      "text/html": [
       "<style>#sk-container-id-15 {color: black;background-color: white;}#sk-container-id-15 pre{padding: 0;}#sk-container-id-15 div.sk-toggleable {background-color: white;}#sk-container-id-15 label.sk-toggleable__label {cursor: pointer;display: block;width: 100%;margin-bottom: 0;padding: 0.3em;box-sizing: border-box;text-align: center;}#sk-container-id-15 label.sk-toggleable__label-arrow:before {content: \"▸\";float: left;margin-right: 0.25em;color: #696969;}#sk-container-id-15 label.sk-toggleable__label-arrow:hover:before {color: black;}#sk-container-id-15 div.sk-estimator:hover label.sk-toggleable__label-arrow:before {color: black;}#sk-container-id-15 div.sk-toggleable__content {max-height: 0;max-width: 0;overflow: hidden;text-align: left;background-color: #f0f8ff;}#sk-container-id-15 div.sk-toggleable__content pre {margin: 0.2em;color: black;border-radius: 0.25em;background-color: #f0f8ff;}#sk-container-id-15 input.sk-toggleable__control:checked~div.sk-toggleable__content {max-height: 200px;max-width: 100%;overflow: auto;}#sk-container-id-15 input.sk-toggleable__control:checked~label.sk-toggleable__label-arrow:before {content: \"▾\";}#sk-container-id-15 div.sk-estimator input.sk-toggleable__control:checked~label.sk-toggleable__label {background-color: #d4ebff;}#sk-container-id-15 div.sk-label input.sk-toggleable__control:checked~label.sk-toggleable__label {background-color: #d4ebff;}#sk-container-id-15 input.sk-hidden--visually {border: 0;clip: rect(1px 1px 1px 1px);clip: rect(1px, 1px, 1px, 1px);height: 1px;margin: -1px;overflow: hidden;padding: 0;position: absolute;width: 1px;}#sk-container-id-15 div.sk-estimator {font-family: monospace;background-color: #f0f8ff;border: 1px dotted black;border-radius: 0.25em;box-sizing: border-box;margin-bottom: 0.5em;}#sk-container-id-15 div.sk-estimator:hover {background-color: #d4ebff;}#sk-container-id-15 div.sk-parallel-item::after {content: \"\";width: 100%;border-bottom: 1px solid gray;flex-grow: 1;}#sk-container-id-15 div.sk-label:hover label.sk-toggleable__label {background-color: #d4ebff;}#sk-container-id-15 div.sk-serial::before {content: \"\";position: absolute;border-left: 1px solid gray;box-sizing: border-box;top: 0;bottom: 0;left: 50%;z-index: 0;}#sk-container-id-15 div.sk-serial {display: flex;flex-direction: column;align-items: center;background-color: white;padding-right: 0.2em;padding-left: 0.2em;position: relative;}#sk-container-id-15 div.sk-item {position: relative;z-index: 1;}#sk-container-id-15 div.sk-parallel {display: flex;align-items: stretch;justify-content: center;background-color: white;position: relative;}#sk-container-id-15 div.sk-item::before, #sk-container-id-15 div.sk-parallel-item::before {content: \"\";position: absolute;border-left: 1px solid gray;box-sizing: border-box;top: 0;bottom: 0;left: 50%;z-index: -1;}#sk-container-id-15 div.sk-parallel-item {display: flex;flex-direction: column;z-index: 1;position: relative;background-color: white;}#sk-container-id-15 div.sk-parallel-item:first-child::after {align-self: flex-end;width: 50%;}#sk-container-id-15 div.sk-parallel-item:last-child::after {align-self: flex-start;width: 50%;}#sk-container-id-15 div.sk-parallel-item:only-child::after {width: 0;}#sk-container-id-15 div.sk-dashed-wrapped {border: 1px dashed gray;margin: 0 0.4em 0.5em 0.4em;box-sizing: border-box;padding-bottom: 0.4em;background-color: white;}#sk-container-id-15 div.sk-label label {font-family: monospace;font-weight: bold;display: inline-block;line-height: 1.2em;}#sk-container-id-15 div.sk-label-container {text-align: center;}#sk-container-id-15 div.sk-container {/* jupyter's `normalize.less` sets `[hidden] { display: none; }` but bootstrap.min.css set `[hidden] { display: none !important; }` so we also need the `!important` here to be able to override the default hidden behavior on the sphinx rendered scikit-learn.org. See: https://github.com/scikit-learn/scikit-learn/issues/21755 */display: inline-block !important;position: relative;}#sk-container-id-15 div.sk-text-repr-fallback {display: none;}</style><div id=\"sk-container-id-15\" class=\"sk-top-container\"><div class=\"sk-text-repr-fallback\"><pre>KNeighborsClassifier(n_neighbors=1)</pre><b>In a Jupyter environment, please rerun this cell to show the HTML representation or trust the notebook. <br />On GitHub, the HTML representation is unable to render, please try loading this page with nbviewer.org.</b></div><div class=\"sk-container\" hidden><div class=\"sk-item\"><div class=\"sk-estimator sk-toggleable\"><input class=\"sk-toggleable__control sk-hidden--visually\" id=\"sk-estimator-id-15\" type=\"checkbox\" checked><label for=\"sk-estimator-id-15\" class=\"sk-toggleable__label sk-toggleable__label-arrow\">KNeighborsClassifier</label><div class=\"sk-toggleable__content\"><pre>KNeighborsClassifier(n_neighbors=1)</pre></div></div></div></div></div>"
      ],
      "text/plain": [
       "KNeighborsClassifier(n_neighbors=1)"
      ]
     },
     "execution_count": 299,
     "metadata": {},
     "output_type": "execute_result"
    }
   ],
   "source": [
    "from sklearn.neighbors import KNeighborsClassifier\n",
    "knn = KNeighborsClassifier(n_neighbors=1)\n",
    "knn.fit(x_train_final, y_train)"
   ]
  },
  {
   "cell_type": "code",
   "execution_count": 300,
   "id": "32316613",
   "metadata": {},
   "outputs": [],
   "source": [
    "predictions = knn.predict(x_test_final)"
   ]
  },
  {
   "cell_type": "code",
   "execution_count": 301,
   "id": "d81396e2",
   "metadata": {},
   "outputs": [
    {
     "name": "stdout",
     "output_type": "stream",
     "text": [
      "Accuracy_Score:  99.81213173550425\n",
      "Recall_Score:  69.19910179640718\n",
      "Precision_Score:  67.4325309992706\n",
      "F1_Score:  68.30439601034355\n"
     ]
    }
   ],
   "source": [
    "from sklearn.metrics import accuracy_score, recall_score, precision_score, f1_score\n",
    "print(\"Accuracy_Score: \",(accuracy_score(y_test, predictions))*100)\n",
    "print(\"Recall_Score: \",(recall_score(y_test, predictions))*100)\n",
    "print(\"Precision_Score: \",(precision_score(y_test, predictions))*100)\n",
    "print(\"F1_Score: \",(f1_score(y_test, predictions))*100)"
   ]
  },
  {
   "cell_type": "markdown",
   "id": "1a73446a",
   "metadata": {},
   "source": [
    "### Use Elbow Method to find Best Value of K"
   ]
  },
  {
   "cell_type": "code",
   "execution_count": 172,
   "id": "826a91ad",
   "metadata": {},
   "outputs": [],
   "source": [
    "error_rate=[]\n",
    "for k in range(1,20):\n",
    "    model = KNeighborsClassifier(n_neighbors=k)\n",
    "    model.fit(x_train_final, y_train)\n",
    "    predictions = model.predict(x_test_final)\n",
    "    error_rate.append(np.mean(predictions!=y_test))\n",
    "    "
   ]
  },
  {
   "cell_type": "code",
   "execution_count": 179,
   "id": "4e6a1ad1",
   "metadata": {},
   "outputs": [
    {
     "data": {
      "text/plain": [
       "[<matplotlib.lines.Line2D at 0x20f73b5c370>]"
      ]
     },
     "execution_count": 179,
     "metadata": {},
     "output_type": "execute_result"
    },
    {
     "data": {
      "image/png": "[encoded data removed]",
      "text/plain": [
       "<Figure size 640x480 with 1 Axes>"
      ]
     },
     "metadata": {},
     "output_type": "display_data"
    }
   ],
   "source": [
    "plt.plot(range(1,20), error_rate,color='blue', ls='--', marker='o', markerfacecolor='red' )"
   ]
  },
  {
   "cell_type": "markdown",
   "id": "dd7c0ef9",
   "metadata": {},
   "source": [
    "### Seems that the best value of k is 2 which is obtained through the elbow method."
   ]
  },
  {
   "cell_type": "code",
   "execution_count": 302,
   "id": "3cc30895",
   "metadata": {},
   "outputs": [
    {
     "data": {
      "text/html": [
       "<style>#sk-container-id-16 {color: black;background-color: white;}#sk-container-id-16 pre{padding: 0;}#sk-container-id-16 div.sk-toggleable {background-color: white;}#sk-container-id-16 label.sk-toggleable__label {cursor: pointer;display: block;width: 100%;margin-bottom: 0;padding: 0.3em;box-sizing: border-box;text-align: center;}#sk-container-id-16 label.sk-toggleable__label-arrow:before {content: \"▸\";float: left;margin-right: 0.25em;color: #696969;}#sk-container-id-16 label.sk-toggleable__label-arrow:hover:before {color: black;}#sk-container-id-16 div.sk-estimator:hover label.sk-toggleable__label-arrow:before {color: black;}#sk-container-id-16 div.sk-toggleable__content {max-height: 0;max-width: 0;overflow: hidden;text-align: left;background-color: #f0f8ff;}#sk-container-id-16 div.sk-toggleable__content pre {margin: 0.2em;color: black;border-radius: 0.25em;background-color: #f0f8ff;}#sk-container-id-16 input.sk-toggleable__control:checked~div.sk-toggleable__content {max-height: 200px;max-width: 100%;overflow: auto;}#sk-container-id-16 input.sk-toggleable__control:checked~label.sk-toggleable__label-arrow:before {content: \"▾\";}#sk-container-id-16 div.sk-estimator input.sk-toggleable__control:checked~label.sk-toggleable__label {background-color: #d4ebff;}#sk-container-id-16 div.sk-label input.sk-toggleable__control:checked~label.sk-toggleable__label {background-color: #d4ebff;}#sk-container-id-16 input.sk-hidden--visually {border: 0;clip: rect(1px 1px 1px 1px);clip: rect(1px, 1px, 1px, 1px);height: 1px;margin: -1px;overflow: hidden;padding: 0;position: absolute;width: 1px;}#sk-container-id-16 div.sk-estimator {font-family: monospace;background-color: #f0f8ff;border: 1px dotted black;border-radius: 0.25em;box-sizing: border-box;margin-bottom: 0.5em;}#sk-container-id-16 div.sk-estimator:hover {background-color: #d4ebff;}#sk-container-id-16 div.sk-parallel-item::after {content: \"\";width: 100%;border-bottom: 1px solid gray;flex-grow: 1;}#sk-container-id-16 div.sk-label:hover label.sk-toggleable__label {background-color: #d4ebff;}#sk-container-id-16 div.sk-serial::before {content: \"\";position: absolute;border-left: 1px solid gray;box-sizing: border-box;top: 0;bottom: 0;left: 50%;z-index: 0;}#sk-container-id-16 div.sk-serial {display: flex;flex-direction: column;align-items: center;background-color: white;padding-right: 0.2em;padding-left: 0.2em;position: relative;}#sk-container-id-16 div.sk-item {position: relative;z-index: 1;}#sk-container-id-16 div.sk-parallel {display: flex;align-items: stretch;justify-content: center;background-color: white;position: relative;}#sk-container-id-16 div.sk-item::before, #sk-container-id-16 div.sk-parallel-item::before {content: \"\";position: absolute;border-left: 1px solid gray;box-sizing: border-box;top: 0;bottom: 0;left: 50%;z-index: -1;}#sk-container-id-16 div.sk-parallel-item {display: flex;flex-direction: column;z-index: 1;position: relative;background-color: white;}#sk-container-id-16 div.sk-parallel-item:first-child::after {align-self: flex-end;width: 50%;}#sk-container-id-16 div.sk-parallel-item:last-child::after {align-self: flex-start;width: 50%;}#sk-container-id-16 div.sk-parallel-item:only-child::after {width: 0;}#sk-container-id-16 div.sk-dashed-wrapped {border: 1px dashed gray;margin: 0 0.4em 0.5em 0.4em;box-sizing: border-box;padding-bottom: 0.4em;background-color: white;}#sk-container-id-16 div.sk-label label {font-family: monospace;font-weight: bold;display: inline-block;line-height: 1.2em;}#sk-container-id-16 div.sk-label-container {text-align: center;}#sk-container-id-16 div.sk-container {/* jupyter's `normalize.less` sets `[hidden] { display: none; }` but bootstrap.min.css set `[hidden] { display: none !important; }` so we also need the `!important` here to be able to override the default hidden behavior on the sphinx rendered scikit-learn.org. See: https://github.com/scikit-learn/scikit-learn/issues/21755 */display: inline-block !important;position: relative;}#sk-container-id-16 div.sk-text-repr-fallback {display: none;}</style><div id=\"sk-container-id-16\" class=\"sk-top-container\"><div class=\"sk-text-repr-fallback\"><pre>KNeighborsClassifier(n_neighbors=2)</pre><b>In a Jupyter environment, please rerun this cell to show the HTML representation or trust the notebook. <br />On GitHub, the HTML representation is unable to render, please try loading this page with nbviewer.org.</b></div><div class=\"sk-container\" hidden><div class=\"sk-item\"><div class=\"sk-estimator sk-toggleable\"><input class=\"sk-toggleable__control sk-hidden--visually\" id=\"sk-estimator-id-16\" type=\"checkbox\" checked><label for=\"sk-estimator-id-16\" class=\"sk-toggleable__label sk-toggleable__label-arrow\">KNeighborsClassifier</label><div class=\"sk-toggleable__content\"><pre>KNeighborsClassifier(n_neighbors=2)</pre></div></div></div></div></div>"
      ],
      "text/plain": [
       "KNeighborsClassifier(n_neighbors=2)"
      ]
     },
     "execution_count": 302,
     "metadata": {},
     "output_type": "execute_result"
    }
   ],
   "source": [
    "knn = KNeighborsClassifier(n_neighbors=2)\n",
    "knn.fit(x_train_final, y_train)"
   ]
  },
  {
   "cell_type": "code",
   "execution_count": 303,
   "id": "7e2858d8",
   "metadata": {},
   "outputs": [],
   "source": [
    "predictions = knn.predict(x_test_final)"
   ]
  },
  {
   "cell_type": "code",
   "execution_count": 304,
   "id": "d20d44fa",
   "metadata": {},
   "outputs": [
    {
     "name": "stdout",
     "output_type": "stream",
     "text": [
      "Accuracy_Score:  99.86194529048419\n",
      "Recall_Score:  60.25449101796407\n",
      "Precision_Score:  88.99944720840243\n",
      "F1_Score:  71.85896005355946\n"
     ]
    }
   ],
   "source": [
    "print(\"Accuracy_Score: \",(accuracy_score(y_test, predictions))*100)\n",
    "print(\"Recall_Score: \",(recall_score(y_test, predictions))*100)\n",
    "print(\"Precision_Score: \",(precision_score(y_test, predictions))*100)\n",
    "print(\"F1_Score: \",(f1_score(y_test, predictions))*100)"
   ]
  },
  {
   "cell_type": "markdown",
   "id": "1e566b00",
   "metadata": {},
   "source": [
    "* Although the Accuracy increased on using the optimal K value through the elbow method "
   ]
  },
  {
   "cell_type": "markdown",
   "id": "17633e19",
   "metadata": {},
   "source": [
    "## Support Vector Machine"
   ]
  },
  {
   "cell_type": "code",
   "execution_count": null,
   "id": "4680912e",
   "metadata": {},
   "outputs": [],
   "source": [
    "from sklearn.svm import SVC\n",
    "svm_model = SVC()\n",
    "svm_model.fit(x_train_final, y_train)"
   ]
  },
  {
   "cell_type": "code",
   "execution_count": null,
   "id": "2b3150e3",
   "metadata": {},
   "outputs": [],
   "source": [
    "predictions = svm_model.predict(x_test_final)"
   ]
  },
  {
   "cell_type": "code",
   "execution_count": null,
   "id": "f6934427",
   "metadata": {},
   "outputs": [],
   "source": [
    "print(\"Accuracy_Score: \",(accuracy_score(y_test, predictions))*100)\n",
    "print(\"Recall_Score: \",(recall_score(y_test, predictions))*100)\n",
    "print(\"Precision_Score: \",(precision_score(y_test, predictions))*100)\n",
    "print(\"F1_Score: \",(f1_score(y_test, predictions))*100)"
   ]
  },
  {
   "cell_type": "markdown",
   "id": "1f188f99",
   "metadata": {},
   "source": [
    "## Artificial Neural Networks"
   ]
  },
  {
   "cell_type": "code",
   "execution_count": 106,
   "id": "9987c874",
   "metadata": {},
   "outputs": [
    {
     "data": {
      "text/plain": [
       "6"
      ]
     },
     "execution_count": 106,
     "metadata": {},
     "output_type": "execute_result"
    }
   ],
   "source": [
    "D = x_train_final.shape[1]\n",
    "D"
   ]
  },
  {
   "cell_type": "code",
   "execution_count": 107,
   "id": "2ecbd300",
   "metadata": {},
   "outputs": [],
   "source": [
    "i = Input(shape=(D,))\n",
    "out = Dense(32,activation='relu')(i)\n",
    "out = Dense(64, activation='relu')(out)\n",
    "out = Dense(128, activation='relu')(out)\n",
    "out = Dense(1, activation='sigmoid')(out)\n",
    "\n",
    "model = Model(i,out)"
   ]
  },
  {
   "cell_type": "code",
   "execution_count": 108,
   "id": "20518be6",
   "metadata": {},
   "outputs": [],
   "source": [
    "model.compile(optimizer='Adam',\n",
    "             loss ='binary_crossentropy',\n",
    "             metrics=['Accuracy'])"
   ]
  },
  {
   "cell_type": "code",
   "execution_count": 111,
   "id": "2a7580da",
   "metadata": {},
   "outputs": [
    {
     "name": "stdout",
     "output_type": "stream",
     "text": [
      "Epoch 1/10\n",
      "57953/57953 [==============================] - 225s 4ms/step - loss: 0.0123 - Accuracy: 0.9978 - val_loss: 73813.1250 - val_Accuracy: 0.9041\n",
      "Epoch 2/10\n",
      "57953/57953 [==============================] - 234s 4ms/step - loss: 0.0093 - Accuracy: 0.9982 - val_loss: 284872.6250 - val_Accuracy: 0.7872\n",
      "Epoch 3/10\n",
      "57953/57953 [==============================] - 238s 4ms/step - loss: 0.0080 - Accuracy: 0.9983 - val_loss: 7598061.5000 - val_Accuracy: 0.0080\n",
      "Epoch 4/10\n",
      "57953/57953 [==============================] - 231s 4ms/step - loss: 0.0071 - Accuracy: 0.9984 - val_loss: 3043917.2500 - val_Accuracy: 0.6372\n",
      "Epoch 5/10\n",
      "57953/57953 [==============================] - 237s 4ms/step - loss: 0.0064 - Accuracy: 0.9984 - val_loss: 6071597.5000 - val_Accuracy: 0.2323\n",
      "Epoch 6/10\n",
      "57953/57953 [==============================] - 244s 4ms/step - loss: 0.0062 - Accuracy: 0.9985 - val_loss: 3396036.7500 - val_Accuracy: 0.6803\n",
      "Epoch 7/10\n",
      "57953/57953 [==============================] - 244s 4ms/step - loss: 0.0058 - Accuracy: 0.9985 - val_loss: 5234218.0000 - val_Accuracy: 0.6580\n",
      "Epoch 8/10\n",
      "57953/57953 [==============================] - 249s 4ms/step - loss: 0.0056 - Accuracy: 0.9985 - val_loss: 4106587.7500 - val_Accuracy: 0.7145\n",
      "Epoch 9/10\n",
      "57953/57953 [==============================] - 238s 4ms/step - loss: 0.0055 - Accuracy: 0.9985 - val_loss: 5549589.5000 - val_Accuracy: 0.6658\n",
      "Epoch 10/10\n",
      "57953/57953 [==============================] - 242s 4ms/step - loss: 0.0054 - Accuracy: 0.9986 - val_loss: 5971230.5000 - val_Accuracy: 0.6641\n"
     ]
    }
   ],
   "source": [
    "r = model.fit(x_train_final, y_train, \n",
    "          validation_data=(x_test_final, y_test), \n",
    "          epochs=10)"
   ]
  },
  {
   "cell_type": "code",
   "execution_count": 112,
   "id": "cd683db9",
   "metadata": {},
   "outputs": [
    {
     "name": "stdout",
     "output_type": "stream",
     "text": [
      "28544/28544 [==============================] - 62s 2ms/step\n"
     ]
    }
   ],
   "source": [
    "predictions = model.predict(x_test_final)"
   ]
  },
  {
   "cell_type": "code",
   "execution_count": 115,
   "id": "5a980842",
   "metadata": {},
   "outputs": [],
   "source": [
    "predictions = np.argmax(predictions, axis=1)"
   ]
  },
  {
   "cell_type": "code",
   "execution_count": 116,
   "id": "09f170f1",
   "metadata": {},
   "outputs": [
    {
     "name": "stdout",
     "output_type": "stream",
     "text": [
      "Weighted Recall Score: 0.9970746852987609\n"
     ]
    }
   ],
   "source": [
    "recall = recall_score(y_test, predictions, average='weighted')\n",
    "print(\"Weighted Recall Score:\", recall)"
   ]
  },
  {
   "cell_type": "code",
   "execution_count": 119,
   "id": "0bb0cd0c",
   "metadata": {},
   "outputs": [
    {
     "data": {
      "text/plain": [
       "<matplotlib.legend.Legend at 0x27921876b00>"
      ]
     },
     "execution_count": 119,
     "metadata": {},
     "output_type": "execute_result"
    },
    {
     "data": {
      "image/png": "[encoded data removed]",
      "text/plain": [
       "<Figure size 640x480 with 1 Axes>"
      ]
     },
     "metadata": {},
     "output_type": "display_data"
    }
   ],
   "source": [
    "plt.plot(r.history['Accuracy'], label='Accuracy')\n",
    "plt.plot(r.history['val_Accuracy'], label='Val_Accuracy')\n",
    "plt.legend()"
   ]
  },
  {
   "cell_type": "code",
   "execution_count": 121,
   "id": "14934457",
   "metadata": {},
   "outputs": [
    {
     "data": {
      "text/plain": [
       "<matplotlib.legend.Legend at 0x2792124ecb0>"
      ]
     },
     "execution_count": 121,
     "metadata": {},
     "output_type": "execute_result"
    },
    {
     "data": {
      "image/png": "[encoded data removed]",
      "text/plain": [
       "<Figure size 640x480 with 1 Axes>"
      ]
     },
     "metadata": {},
     "output_type": "display_data"
    }
   ],
   "source": [
    "plt.plot(r.history['loss'], label='Loss')\n",
    "plt.plot(r.history['val_loss'], label='Val_Loss')\n",
    "plt.legend()"
   ]
  },
  {
   "cell_type": "code",
   "execution_count": null,
   "id": "db18c187",
   "metadata": {},
   "outputs": [],
   "source": []
  }
 ],
 "metadata": {
  "kernelspec": {
   "display_name": "Python 3 (ipykernel)",
   "language": "python",
   "name": "python3"
  },
  "language_info": {
   "codemirror_mode": {
    "name": "ipython",
    "version": 3
   },
   "file_extension": ".py",
   "mimetype": "text/x-python",
   "name": "python",
   "nbconvert_exporter": "python",
   "pygments_lexer": "ipython3",
   "version": "3.10.9"
  }
 },
 "nbformat": 4,
 "nbformat_minor": 5
}
